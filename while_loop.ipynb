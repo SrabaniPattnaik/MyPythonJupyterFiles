{
 "cells": [
  {
   "cell_type": "code",
   "execution_count": 1,
   "id": "07b48b12-6336-420b-8c46-e8fa3806a46f",
   "metadata": {},
   "outputs": [],
   "source": [
    "#while Loops"
   ]
  },
  {
   "cell_type": "code",
   "execution_count": 2,
   "id": "18744d16-843f-4350-a3ec-207f74d29991",
   "metadata": {},
   "outputs": [
    {
     "name": "stdout",
     "output_type": "stream",
     "text": [
      "15\n",
      "17\n",
      "19\n",
      "21\n",
      "23\n",
      "25\n",
      "27\n",
      "29\n"
     ]
    }
   ],
   "source": [
    "count = 15\n",
    "\n",
    "while count <= 30:  #condition\n",
    "    print(count)\n",
    "    count += 2   # 1,2,3,4,5"
   ]
  },
  {
   "cell_type": "code",
   "execution_count": 3,
   "id": "75698d25-d235-46f7-b5da-96707f4e3457",
   "metadata": {},
   "outputs": [
    {
     "name": "stdout",
     "output_type": "stream",
     "text": [
      "0\n",
      "2\n",
      "4\n",
      "6\n",
      "8\n",
      "10\n",
      "12\n",
      "14\n",
      "16\n",
      "18\n",
      "20\n",
      "22\n",
      "24\n",
      "26\n",
      "28\n",
      "30\n",
      "32\n",
      "34\n",
      "36\n",
      "38\n",
      "40\n",
      "42\n",
      "44\n",
      "46\n",
      "48\n",
      "50\n",
      "52\n",
      "54\n",
      "56\n",
      "58\n",
      "60\n",
      "62\n",
      "64\n",
      "66\n",
      "68\n",
      "70\n",
      "72\n",
      "74\n",
      "76\n",
      "78\n",
      "80\n",
      "82\n",
      "84\n",
      "86\n",
      "88\n",
      "90\n",
      "92\n",
      "94\n",
      "96\n",
      "98\n",
      "100\n"
     ]
    }
   ],
   "source": [
    "count = 0\n",
    "\n",
    "while count <= 100:  #condition\n",
    "    print(count)\n",
    "    count +=2"
   ]
  },
  {
   "cell_type": "code",
   "execution_count": 4,
   "id": "241365eb-793a-4f02-be60-b53dcde443aa",
   "metadata": {},
   "outputs": [
    {
     "name": "stdout",
     "output_type": "stream",
     "text": [
      "Interation 1 2\n",
      "Interation 2 3\n",
      "Interation 3 4\n"
     ]
    }
   ],
   "source": [
    "x=2\n",
    "counter=1\n",
    "\n",
    "while x<5:\n",
    "  print(\"Interation\", counter,x)\n",
    "  counter=counter+1\n",
    "  x=x+1"
   ]
  },
  {
   "cell_type": "code",
   "execution_count": 5,
   "id": "0c55c69e-a39c-4542-83b4-5f2fb9100c0d",
   "metadata": {},
   "outputs": [
    {
     "name": "stdout",
     "output_type": "stream",
     "text": [
      "    *\n",
      "   **\n",
      "  ***\n",
      " ****\n",
      "*****\n"
     ]
    }
   ],
   "source": [
    "x = 1\n",
    "while x<6:\n",
    "  print((5-x)*\" \"+x*\"*\")\n",
    "  x+=1\n"
   ]
  },
  {
   "cell_type": "code",
   "execution_count": 6,
   "id": "6a482418-d562-4d44-9a93-fa5df01f4b1a",
   "metadata": {},
   "outputs": [
    {
     "name": "stdout",
     "output_type": "stream",
     "text": [
      "*****\n",
      "****\n",
      "***\n",
      "**\n",
      "*\n"
     ]
    }
   ],
   "source": [
    "x = 1\n",
    "while x<6:\n",
    "  print((6-x)*\"*\")\n",
    "  x+=1"
   ]
  },
  {
   "cell_type": "code",
   "execution_count": 7,
   "id": "18d7a042-566f-4a3d-bf41-c10337bca792",
   "metadata": {},
   "outputs": [
    {
     "name": "stdout",
     "output_type": "stream",
     "text": [
      "1 is odd number\n",
      "2 is even number\n",
      "3 is odd number\n",
      "4 is even number\n",
      "5 is odd number\n",
      "6 is even number\n",
      "7 is odd number\n",
      "8 is even number\n",
      "9 is odd number\n",
      "10 is even number\n"
     ]
    }
   ],
   "source": [
    "a = 1\n",
    "\n",
    "while a<=10:\n",
    "  if(a%2==0):\n",
    "      print(a ,\"is even number\")\n",
    "  else:\n",
    "      print(a ,\"is odd number\")\n",
    "  a+=1"
   ]
  },
  {
   "cell_type": "code",
   "execution_count": null,
   "id": "af5f3a58-325d-4d02-8009-85737b2bc8cf",
   "metadata": {},
   "outputs": [],
   "source": []
  }
 ],
 "metadata": {
  "kernelspec": {
   "display_name": "Python 3 (ipykernel)",
   "language": "python",
   "name": "python3"
  },
  "language_info": {
   "codemirror_mode": {
    "name": "ipython",
    "version": 3
   },
   "file_extension": ".py",
   "mimetype": "text/x-python",
   "name": "python",
   "nbconvert_exporter": "python",
   "pygments_lexer": "ipython3",
   "version": "3.12.7"
  }
 },
 "nbformat": 4,
 "nbformat_minor": 5
}
