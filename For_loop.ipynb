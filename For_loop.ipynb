{
 "cells": [
  {
   "cell_type": "code",
   "execution_count": 4,
   "id": "6a30cb57-1b31-43bd-910e-b151530707bb",
   "metadata": {},
   "outputs": [
    {
     "name": "stdout",
     "output_type": "stream",
     "text": [
      "1,a,2,b,3,c,"
     ]
    }
   ],
   "source": [
    " numbers = [1, 'a', 2, 'b', 3, 'c']\n",
    " for num in numbers:\n",
    "    print(num, end= \",\" )"
   ]
  },
  {
   "cell_type": "code",
   "execution_count": 5,
   "id": "66bdfd52-9a32-4ce4-8a06-90fe5a95be8d",
   "metadata": {},
   "outputs": [
    {
     "name": "stdout",
     "output_type": "stream",
     "text": [
      "0,2,4,6,8,"
     ]
    }
   ],
   "source": [
    "for i in range(0,10,2):\n",
    " print(i, end=\",\")\n"
   ]
  },
  {
   "cell_type": "code",
   "execution_count": 6,
   "id": "4dd34f28-e924-4430-b475-cc46131787ca",
   "metadata": {},
   "outputs": [
    {
     "name": "stdout",
     "output_type": "stream",
     "text": [
      "10,9,8,7,6,5,4,3,2,1,"
     ]
    }
   ],
   "source": [
    "\n",
    "for i in range(10, 0, -1):\n",
    "    print(i, end=\",\")"
   ]
  },
  {
   "cell_type": "code",
   "execution_count": 7,
   "id": "4bd9fd8d-8d27-4391-a458-dd306bfb5b5f",
   "metadata": {},
   "outputs": [],
   "source": [
    "#print even number"
   ]
  },
  {
   "cell_type": "code",
   "execution_count": 8,
   "id": "c49d9d8a-e82b-4862-8e67-c3614f9b2231",
   "metadata": {},
   "outputs": [
    {
     "name": "stdout",
     "output_type": "stream",
     "text": [
      "2,4,6,8,10,"
     ]
    }
   ],
   "source": [
    "for i in range(2,11,2):\n",
    "    print(i, end=\",\")"
   ]
  },
  {
   "cell_type": "code",
   "execution_count": 9,
   "id": "ad0f075e-0685-4814-b550-7cf0f4f4fb61",
   "metadata": {},
   "outputs": [],
   "source": [
    "#OR\n"
   ]
  },
  {
   "cell_type": "code",
   "execution_count": 10,
   "id": "2cf8496e-cefb-4320-819f-31a2b55226da",
   "metadata": {},
   "outputs": [
    {
     "name": "stdout",
     "output_type": "stream",
     "text": [
      "1 is odd\n",
      "2  is even\n",
      "3 is odd\n",
      "4  is even\n",
      "5 is odd\n",
      "6  is even\n",
      "7 is odd\n",
      "8  is even\n",
      "9 is odd\n",
      "10  is even\n"
     ]
    }
   ],
   "source": [
    "for i in range(1,11):\n",
    "    if i % 2 == 0:\n",
    "        print(i, \" is even\")\n",
    "    else:\n",
    "        print(i, \"is odd\")"
   ]
  },
  {
   "cell_type": "code",
   "execution_count": 11,
   "id": "c76b5f3e-b0c5-41f8-9456-bceef059738c",
   "metadata": {},
   "outputs": [
    {
     "name": "stdout",
     "output_type": "stream",
     "text": [
      "DATA"
     ]
    }
   ],
   "source": [
    "\"\"\"print DATA from DATA1234\"\"\"\n",
    "for i in \"DATA12345\":\n",
    "    if i.isalpha():\n",
    "     print(i,end=\"\")"
   ]
  },
  {
   "cell_type": "code",
   "execution_count": 12,
   "id": "a6dbea4a-720f-452a-82f1-eb949f6fd148",
   "metadata": {},
   "outputs": [
    {
     "name": "stdout",
     "output_type": "stream",
     "text": [
      "12345"
     ]
    }
   ],
   "source": [
    "\"\"\"print 12345 from DATA1234\"\"\"\n",
    "for i in \"DATA12345\":\n",
    "    if i.isnumeric():\n",
    "     print(i,end=\"\")"
   ]
  },
  {
   "cell_type": "code",
   "execution_count": null,
   "id": "c5cb7793-aca7-4214-9069-eb3f0920a4da",
   "metadata": {},
   "outputs": [],
   "source": []
  }
 ],
 "metadata": {
  "kernelspec": {
   "display_name": "Python 3 (ipykernel)",
   "language": "python",
   "name": "python3"
  },
  "language_info": {
   "codemirror_mode": {
    "name": "ipython",
    "version": 3
   },
   "file_extension": ".py",
   "mimetype": "text/x-python",
   "name": "python",
   "nbconvert_exporter": "python",
   "pygments_lexer": "ipython3",
   "version": "3.12.7"
  }
 },
 "nbformat": 4,
 "nbformat_minor": 5
}
