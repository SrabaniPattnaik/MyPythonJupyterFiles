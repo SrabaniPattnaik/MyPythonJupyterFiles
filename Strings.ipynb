{
 "cells": [
  {
   "cell_type": "code",
   "execution_count": 1,
   "id": "7751cce0",
   "metadata": {},
   "outputs": [],
   "source": [
    "Class = 'Python Batch'"
   ]
  },
  {
   "cell_type": "code",
   "execution_count": 2,
   "id": "f8b56923",
   "metadata": {},
   "outputs": [
    {
     "data": {
      "text/plain": [
       "'python batch'"
      ]
     },
     "execution_count": 2,
     "metadata": {},
     "output_type": "execute_result"
    }
   ],
   "source": [
    "Class.lower()"
   ]
  },
  {
   "cell_type": "code",
   "execution_count": 3,
   "id": "77a2de1e",
   "metadata": {},
   "outputs": [
    {
     "data": {
      "text/plain": [
       "'PYTHON BATCH'"
      ]
     },
     "execution_count": 3,
     "metadata": {},
     "output_type": "execute_result"
    }
   ],
   "source": [
    "Class.upper()"
   ]
  },
  {
   "cell_type": "code",
   "execution_count": 4,
   "id": "3226f36b",
   "metadata": {},
   "outputs": [
    {
     "data": {
      "text/plain": [
       "'pYTHON bATCH'"
      ]
     },
     "execution_count": 4,
     "metadata": {},
     "output_type": "execute_result"
    }
   ],
   "source": [
    "Class.swapcase()"
   ]
  },
  {
   "cell_type": "code",
   "execution_count": 5,
   "id": "ead1b23f",
   "metadata": {},
   "outputs": [],
   "source": [
    "_Class = 'python batch'"
   ]
  },
  {
   "cell_type": "code",
   "execution_count": 6,
   "id": "5751eef1",
   "metadata": {},
   "outputs": [
    {
     "data": {
      "text/plain": [
       "'Python Batch'"
      ]
     },
     "execution_count": 6,
     "metadata": {},
     "output_type": "execute_result"
    }
   ],
   "source": [
    "_Class.title()"
   ]
  },
  {
   "cell_type": "code",
   "execution_count": 7,
   "id": "b7e61614",
   "metadata": {},
   "outputs": [
    {
     "data": {
      "text/plain": [
       "'Python batch'"
      ]
     },
     "execution_count": 7,
     "metadata": {},
     "output_type": "execute_result"
    }
   ],
   "source": [
    "_Class.capitalize()"
   ]
  },
  {
   "cell_type": "code",
   "execution_count": 8,
   "id": "7a8d76da",
   "metadata": {},
   "outputs": [
    {
     "data": {
      "text/plain": [
       "True"
      ]
     },
     "execution_count": 8,
     "metadata": {},
     "output_type": "execute_result"
    }
   ],
   "source": [
    "string=\"DATA \"\n",
    "string.isupper()"
   ]
  },
  {
   "cell_type": "code",
   "execution_count": 9,
   "id": "8ca687ae",
   "metadata": {},
   "outputs": [
    {
     "data": {
      "text/plain": [
       "True"
      ]
     },
     "execution_count": 9,
     "metadata": {},
     "output_type": "execute_result"
    }
   ],
   "source": [
    "string=\"data\"\n",
    "string.islower()"
   ]
  },
  {
   "cell_type": "code",
   "execution_count": 10,
   "id": "461cd5fe",
   "metadata": {},
   "outputs": [
    {
     "data": {
      "text/plain": [
       "'dxyztxyz science'"
      ]
     },
     "execution_count": 10,
     "metadata": {},
     "output_type": "execute_result"
    }
   ],
   "source": [
    "string = \"data science\"\n",
    "string.replace(\"a\",\"xyz\")"
   ]
  },
  {
   "cell_type": "code",
   "execution_count": 11,
   "id": "b0cc8a4f",
   "metadata": {},
   "outputs": [
    {
     "data": {
      "text/plain": [
       "'91-7338339898'"
      ]
     },
     "execution_count": 11,
     "metadata": {},
     "output_type": "execute_result"
    }
   ],
   "source": [
    "string=\"91 7338339898\"\n",
    "string.replace(\" \",\"-\")"
   ]
  },
  {
   "cell_type": "code",
   "execution_count": 12,
   "id": "4d6e72ad",
   "metadata": {},
   "outputs": [],
   "source": [
    "Name = \"HelloWorld\""
   ]
  },
  {
   "cell_type": "code",
   "execution_count": 13,
   "id": "bf69479c",
   "metadata": {},
   "outputs": [
    {
     "data": {
      "text/plain": [
       "True"
      ]
     },
     "execution_count": 13,
     "metadata": {},
     "output_type": "execute_result"
    }
   ],
   "source": [
    "Name.isalpha()"
   ]
  },
  {
   "cell_type": "code",
   "execution_count": 14,
   "id": "162021f9",
   "metadata": {},
   "outputs": [],
   "source": [
    "Class = 'Python Batch'"
   ]
  },
  {
   "cell_type": "code",
   "execution_count": 15,
   "id": "9eee124c",
   "metadata": {},
   "outputs": [
    {
     "data": {
      "text/plain": [
       "False"
      ]
     },
     "execution_count": 15,
     "metadata": {},
     "output_type": "execute_result"
    }
   ],
   "source": [
    "Class.isalpha() #it will return false as it contains space"
   ]
  },
  {
   "cell_type": "code",
   "execution_count": 16,
   "id": "ac670d46",
   "metadata": {},
   "outputs": [],
   "source": [
    "z = \"sdnknk3456\""
   ]
  },
  {
   "cell_type": "code",
   "execution_count": 17,
   "id": "b640cbc9",
   "metadata": {},
   "outputs": [
    {
     "data": {
      "text/plain": [
       "True"
      ]
     },
     "execution_count": 17,
     "metadata": {},
     "output_type": "execute_result"
    }
   ],
   "source": [
    "z.isalnum()"
   ]
  },
  {
   "cell_type": "code",
   "execution_count": 18,
   "id": "7827d2f4",
   "metadata": {},
   "outputs": [],
   "source": [
    "k=\"123\""
   ]
  },
  {
   "cell_type": "code",
   "execution_count": 19,
   "id": "bfbd768c",
   "metadata": {},
   "outputs": [
    {
     "data": {
      "text/plain": [
       "True"
      ]
     },
     "execution_count": 19,
     "metadata": {},
     "output_type": "execute_result"
    }
   ],
   "source": [
    "k.isalnum()"
   ]
  },
  {
   "cell_type": "code",
   "execution_count": 20,
   "id": "f6813582",
   "metadata": {},
   "outputs": [],
   "source": [
    "o=\"bhgv\""
   ]
  },
  {
   "cell_type": "code",
   "execution_count": 21,
   "id": "ff99ab96",
   "metadata": {},
   "outputs": [
    {
     "data": {
      "text/plain": [
       "True"
      ]
     },
     "execution_count": 21,
     "metadata": {},
     "output_type": "execute_result"
    }
   ],
   "source": [
    "o.isalnum()"
   ]
  },
  {
   "cell_type": "code",
   "execution_count": 22,
   "id": "7304f105",
   "metadata": {},
   "outputs": [],
   "source": [
    "# isalnum() accept numeric, alpha and alpha-numeric values but special characters are not allowed"
   ]
  },
  {
   "cell_type": "code",
   "execution_count": 23,
   "id": "8c253cf0",
   "metadata": {},
   "outputs": [
    {
     "data": {
      "text/plain": [
       "True"
      ]
     },
     "execution_count": 23,
     "metadata": {},
     "output_type": "execute_result"
    }
   ],
   "source": [
    "k.isnumeric()"
   ]
  },
  {
   "cell_type": "code",
   "execution_count": 24,
   "id": "5e36f484",
   "metadata": {},
   "outputs": [],
   "source": [
    "Class = 'Python Batch'"
   ]
  },
  {
   "cell_type": "code",
   "execution_count": 25,
   "id": "dafe3f9f",
   "metadata": {},
   "outputs": [
    {
     "data": {
      "text/plain": [
       "True"
      ]
     },
     "execution_count": 25,
     "metadata": {},
     "output_type": "execute_result"
    }
   ],
   "source": [
    "Class.startswith('P')"
   ]
  },
  {
   "cell_type": "code",
   "execution_count": 26,
   "id": "46f78136",
   "metadata": {},
   "outputs": [
    {
     "data": {
      "text/plain": [
       "False"
      ]
     },
     "execution_count": 26,
     "metadata": {},
     "output_type": "execute_result"
    }
   ],
   "source": [
    "Class.startswith('g')"
   ]
  },
  {
   "cell_type": "code",
   "execution_count": 27,
   "id": "b287b5c7",
   "metadata": {},
   "outputs": [
    {
     "data": {
      "text/plain": [
       "True"
      ]
     },
     "execution_count": 27,
     "metadata": {},
     "output_type": "execute_result"
    }
   ],
   "source": [
    "Class.endswith('h')"
   ]
  },
  {
   "cell_type": "code",
   "execution_count": 28,
   "id": "f39a27e7",
   "metadata": {},
   "outputs": [
    {
     "data": {
      "text/plain": [
       "False"
      ]
     },
     "execution_count": 28,
     "metadata": {},
     "output_type": "execute_result"
    }
   ],
   "source": [
    "Class.endswith('e')"
   ]
  },
  {
   "cell_type": "code",
   "execution_count": 29,
   "id": "78af4748",
   "metadata": {},
   "outputs": [],
   "source": [
    "#split()\n",
    "c = \"     data science   \""
   ]
  },
  {
   "cell_type": "code",
   "execution_count": 30,
   "id": "a960a68c",
   "metadata": {},
   "outputs": [
    {
     "data": {
      "text/plain": [
       "['data', 'science']"
      ]
     },
     "execution_count": 30,
     "metadata": {},
     "output_type": "execute_result"
    }
   ],
   "source": [
    "c.split() #splits according to space but does not print the extra spaces as different value"
   ]
  },
  {
   "cell_type": "code",
   "execution_count": 31,
   "id": "69ac4f16",
   "metadata": {},
   "outputs": [
    {
     "data": {
      "text/plain": [
       "['', '', '', '', '', 'data', 'science', '', '', '']"
      ]
     },
     "execution_count": 31,
     "metadata": {},
     "output_type": "execute_result"
    }
   ],
   "source": [
    "c.split(\" \") #splits spaces as well as the data"
   ]
  },
  {
   "cell_type": "code",
   "execution_count": 32,
   "id": "8c493854",
   "metadata": {},
   "outputs": [
    {
     "data": {
      "text/plain": [
       "['     d', 't', ' science   ']"
      ]
     },
     "execution_count": 32,
     "metadata": {},
     "output_type": "execute_result"
    }
   ],
   "source": [
    "c.split('a')"
   ]
  },
  {
   "cell_type": "code",
   "execution_count": 33,
   "id": "d2fe3873",
   "metadata": {},
   "outputs": [],
   "source": [
    "a =\"+91-4558755256\""
   ]
  },
  {
   "cell_type": "code",
   "execution_count": 34,
   "id": "55e57ef3",
   "metadata": {},
   "outputs": [
    {
     "data": {
      "text/plain": [
       "['+91-4558755256']"
      ]
     },
     "execution_count": 34,
     "metadata": {},
     "output_type": "execute_result"
    }
   ],
   "source": [
    "a.split() #as no spaces are available the whole data remain same"
   ]
  },
  {
   "cell_type": "code",
   "execution_count": 35,
   "id": "1324d29c",
   "metadata": {},
   "outputs": [
    {
     "data": {
      "text/plain": [
       "['+91-4', '', '87', '', '2', '6']"
      ]
     },
     "execution_count": 35,
     "metadata": {},
     "output_type": "execute_result"
    }
   ],
   "source": [
    "a.split(\"5\")"
   ]
  },
  {
   "cell_type": "code",
   "execution_count": 36,
   "id": "75f81435",
   "metadata": {},
   "outputs": [
    {
     "name": "stdout",
     "output_type": "stream",
     "text": [
      "Data Science \n",
      " Machine Learning\n"
     ]
    }
   ],
   "source": [
    "a=\"Data Science \\n Machine Learning\"\n",
    "print(a)"
   ]
  },
  {
   "cell_type": "code",
   "execution_count": 37,
   "id": "7f1c734e",
   "metadata": {},
   "outputs": [
    {
     "data": {
      "text/plain": [
       "['Data Science ', ' Machine Learning']"
      ]
     },
     "execution_count": 37,
     "metadata": {},
     "output_type": "execute_result"
    }
   ],
   "source": [
    "a.splitlines()"
   ]
  },
  {
   "cell_type": "code",
   "execution_count": 38,
   "id": "da7fc602",
   "metadata": {},
   "outputs": [],
   "source": [
    "b = \"     data science   \""
   ]
  },
  {
   "cell_type": "code",
   "execution_count": 39,
   "id": "85e85358",
   "metadata": {},
   "outputs": [
    {
     "data": {
      "text/plain": [
       "'data science'"
      ]
     },
     "execution_count": 39,
     "metadata": {},
     "output_type": "execute_result"
    }
   ],
   "source": [
    "b.strip() #removes all unwanted spaces"
   ]
  },
  {
   "cell_type": "code",
   "execution_count": 40,
   "id": "c8ce143f",
   "metadata": {},
   "outputs": [
    {
     "data": {
      "text/plain": [
       "'data science   '"
      ]
     },
     "execution_count": 40,
     "metadata": {},
     "output_type": "execute_result"
    }
   ],
   "source": [
    "b.lstrip() #removes left side unwanted spaces"
   ]
  },
  {
   "cell_type": "code",
   "execution_count": 41,
   "id": "d52290d1",
   "metadata": {},
   "outputs": [
    {
     "data": {
      "text/plain": [
       "'     data science'"
      ]
     },
     "execution_count": 41,
     "metadata": {},
     "output_type": "execute_result"
    }
   ],
   "source": [
    "b.rstrip() #removes right side unwanted spaces"
   ]
  },
  {
   "cell_type": "code",
   "execution_count": 42,
   "id": "05438931",
   "metadata": {},
   "outputs": [],
   "source": [
    "h=\"data\""
   ]
  },
  {
   "cell_type": "code",
   "execution_count": 43,
   "id": "4d4a8b98",
   "metadata": {},
   "outputs": [
    {
     "data": {
      "text/plain": [
       "'*****data****'"
      ]
     },
     "execution_count": 43,
     "metadata": {},
     "output_type": "execute_result"
    }
   ],
   "source": [
    "h.center(13,\"*\")"
   ]
  },
  {
   "cell_type": "code",
   "execution_count": 44,
   "id": "3d13339f",
   "metadata": {},
   "outputs": [
    {
     "data": {
      "text/plain": [
       "'******data'"
      ]
     },
     "execution_count": 44,
     "metadata": {},
     "output_type": "execute_result"
    }
   ],
   "source": [
    "h.rjust(10,\"*\")"
   ]
  },
  {
   "cell_type": "code",
   "execution_count": 45,
   "id": "bd6502a5",
   "metadata": {},
   "outputs": [
    {
     "data": {
      "text/plain": [
       "'data******'"
      ]
     },
     "execution_count": 45,
     "metadata": {},
     "output_type": "execute_result"
    }
   ],
   "source": [
    "h.ljust(10,\"*\")"
   ]
  },
  {
   "cell_type": "code",
   "execution_count": 46,
   "id": "2fdd28a7",
   "metadata": {},
   "outputs": [
    {
     "data": {
      "text/plain": [
       "2"
      ]
     },
     "execution_count": 46,
     "metadata": {},
     "output_type": "execute_result"
    }
   ],
   "source": [
    "h.index(\"t\")"
   ]
  },
  {
   "cell_type": "code",
   "execution_count": 47,
   "id": "632a1a02",
   "metadata": {},
   "outputs": [
    {
     "data": {
      "text/plain": [
       "'adbdc'"
      ]
     },
     "execution_count": 47,
     "metadata": {},
     "output_type": "execute_result"
    }
   ],
   "source": [
    "#join() -> is used to merge strings\n",
    "\"d\".join(\"abc\")"
   ]
  },
  {
   "cell_type": "code",
   "execution_count": 48,
   "id": "5daf5825",
   "metadata": {},
   "outputs": [
    {
     "data": {
      "text/plain": [
       "'ddaadatdaada dasdacdaidaedandacdae'"
      ]
     },
     "execution_count": 48,
     "metadata": {},
     "output_type": "execute_result"
    }
   ],
   "source": [
    "\"da\".join(\"data science\")"
   ]
  },
  {
   "cell_type": "code",
   "execution_count": 49,
   "id": "6a626bd8",
   "metadata": {},
   "outputs": [],
   "source": [
    "#Count()\n",
    "X = \"Data Science\""
   ]
  },
  {
   "cell_type": "code",
   "execution_count": 50,
   "id": "d7e3664f",
   "metadata": {},
   "outputs": [
    {
     "data": {
      "text/plain": [
       "2"
      ]
     },
     "execution_count": 50,
     "metadata": {},
     "output_type": "execute_result"
    }
   ],
   "source": [
    "X.count(\"a\")"
   ]
  },
  {
   "cell_type": "code",
   "execution_count": 51,
   "id": "1d535a8e",
   "metadata": {},
   "outputs": [
    {
     "data": {
      "text/plain": [
       "1"
      ]
     },
     "execution_count": 51,
     "metadata": {},
     "output_type": "execute_result"
    }
   ],
   "source": [
    "X.count(\"a\",3)"
   ]
  },
  {
   "cell_type": "markdown",
   "id": "9b9e5045",
   "metadata": {},
   "source": [
    "**STRING SLICING** -> Slicing is a technique of retrieving data from a specific index we enter."
   ]
  },
  {
   "cell_type": "code",
   "execution_count": 52,
   "id": "718e99a1",
   "metadata": {},
   "outputs": [],
   "source": [
    "#slicing using slice()\n",
    "mystring = 'ABCDEFGHIJ'"
   ]
  },
  {
   "cell_type": "code",
   "execution_count": 53,
   "id": "92662c40",
   "metadata": {},
   "outputs": [
    {
     "name": "stdout",
     "output_type": "stream",
     "text": [
      "ABC\n"
     ]
    }
   ],
   "source": [
    "s1 = slice(3) #3 is the range for slicing\n",
    "print(mystring[s1])"
   ]
  },
  {
   "cell_type": "code",
   "execution_count": 54,
   "id": "84974ae1",
   "metadata": {},
   "outputs": [
    {
     "name": "stdout",
     "output_type": "stream",
     "text": [
      "ABC\n"
     ]
    }
   ],
   "source": [
    "print(mystring[slice(3)])"
   ]
  },
  {
   "cell_type": "code",
   "execution_count": 55,
   "id": "1122813b",
   "metadata": {},
   "outputs": [
    {
     "name": "stdout",
     "output_type": "stream",
     "text": [
      "ABC\n"
     ]
    }
   ],
   "source": [
    "s1 = slice(-10,-7)\n",
    "print(mystring[s1])"
   ]
  },
  {
   "cell_type": "code",
   "execution_count": 56,
   "id": "4ebcc3d5",
   "metadata": {},
   "outputs": [
    {
     "name": "stdout",
     "output_type": "stream",
     "text": [
      "BD\n"
     ]
    }
   ],
   "source": [
    "s2 = slice(1, 5, 2)\n",
    "print(mystring[s2])"
   ]
  },
  {
   "cell_type": "code",
   "execution_count": 57,
   "id": "f9461d3d",
   "metadata": {},
   "outputs": [
    {
     "name": "stdout",
     "output_type": "stream",
     "text": [
      "JHFD\n"
     ]
    }
   ],
   "source": [
    "s3 = slice(-1, -8, -2)\n",
    "print(mystring[s3])"
   ]
  },
  {
   "cell_type": "code",
   "execution_count": 58,
   "id": "8e48ccdb",
   "metadata": {},
   "outputs": [
    {
     "name": "stdout",
     "output_type": "stream",
     "text": [
      "CDEF\n"
     ]
    }
   ],
   "source": [
    "s4=slice(-8,6)\n",
    "print(mystring[s4])\n"
   ]
  },
  {
   "cell_type": "code",
   "execution_count": 59,
   "id": "956fc587",
   "metadata": {},
   "outputs": [
    {
     "name": "stdout",
     "output_type": "stream",
     "text": [
      "HGFED\n"
     ]
    }
   ],
   "source": [
    "s5=slice(7,-8,-1)\n",
    "print(mystring[s5])"
   ]
  },
  {
   "cell_type": "code",
   "execution_count": 60,
   "id": "3b40bec1",
   "metadata": {},
   "outputs": [
    {
     "name": "stdout",
     "output_type": "stream",
     "text": [
      "HGFED\n"
     ]
    }
   ],
   "source": [
    "s5=slice(7,2,-1)\n",
    "print(mystring[s5])"
   ]
  },
  {
   "cell_type": "code",
   "execution_count": 61,
   "id": "70c0846d",
   "metadata": {},
   "outputs": [
    {
     "name": "stdout",
     "output_type": "stream",
     "text": [
      "HGFED\n"
     ]
    }
   ],
   "source": [
    "s5=slice(-3,-8,-1)\n",
    "print(mystring[s5])\n"
   ]
  },
  {
   "cell_type": "code",
   "execution_count": 62,
   "id": "9c0d9fa5",
   "metadata": {},
   "outputs": [
    {
     "name": "stdout",
     "output_type": "stream",
     "text": [
      "DEFG\n"
     ]
    }
   ],
   "source": [
    "s6=slice(3,-3)\n",
    "print(mystring[s6])"
   ]
  },
  {
   "cell_type": "code",
   "execution_count": 63,
   "id": "f7bbf240",
   "metadata": {},
   "outputs": [
    {
     "name": "stdout",
     "output_type": "stream",
     "text": [
      "GE\n"
     ]
    }
   ],
   "source": [
    "s7=slice(6,-7,-2)\n",
    "print(mystring[s7])\n"
   ]
  },
  {
   "cell_type": "code",
   "execution_count": 64,
   "id": "57fcca33",
   "metadata": {},
   "outputs": [
    {
     "name": "stdout",
     "output_type": "stream",
     "text": [
      "GFE\n"
     ]
    }
   ],
   "source": [
    "s8=slice(6,-7,-1)\n",
    "print(mystring[s8])"
   ]
  },
  {
   "cell_type": "code",
   "execution_count": 65,
   "id": "e29139a1",
   "metadata": {},
   "outputs": [
    {
     "name": "stdout",
     "output_type": "stream",
     "text": [
      "HFD\n"
     ]
    }
   ],
   "source": [
    "s9=slice(7,2,-2)\n",
    "print(mystring[s9])\n"
   ]
  },
  {
   "cell_type": "code",
   "execution_count": 66,
   "id": "aea4161c",
   "metadata": {},
   "outputs": [
    {
     "name": "stdout",
     "output_type": "stream",
     "text": [
      "AB\n"
     ]
    }
   ],
   "source": [
    "s10=slice(-8)    #  -10 to -8\n",
    "print(mystring[s10])\n"
   ]
  },
  {
   "cell_type": "markdown",
   "id": "a7b62001",
   "metadata": {},
   "source": [
    "**STRING SLICING WITHOUT SLICE CLASS**"
   ]
  },
  {
   "cell_type": "code",
   "execution_count": 67,
   "id": "a24454c8",
   "metadata": {},
   "outputs": [],
   "source": [
    "mystring = 'ABCDEFGHIJ'"
   ]
  },
  {
   "cell_type": "code",
   "execution_count": 68,
   "id": "8a6f47bb",
   "metadata": {},
   "outputs": [
    {
     "name": "stdout",
     "output_type": "stream",
     "text": [
      "ABC\n"
     ]
    }
   ],
   "source": [
    "print(mystring[:3])  # or mystring[0:3]"
   ]
  },
  {
   "cell_type": "code",
   "execution_count": 69,
   "id": "53908133",
   "metadata": {},
   "outputs": [
    {
     "name": "stdout",
     "output_type": "stream",
     "text": [
      "BD\n"
     ]
    }
   ],
   "source": [
    "print(mystring[1:5:2])"
   ]
  },
  {
   "cell_type": "code",
   "execution_count": 70,
   "id": "81aec4ff",
   "metadata": {},
   "outputs": [
    {
     "name": "stdout",
     "output_type": "stream",
     "text": [
      "JHFD\n"
     ]
    }
   ],
   "source": [
    "print(mystring[-1:-8:-2])"
   ]
  },
  {
   "cell_type": "code",
   "execution_count": 71,
   "id": "a5e3474d",
   "metadata": {},
   "outputs": [
    {
     "name": "stdout",
     "output_type": "stream",
     "text": [
      "CDEF\n"
     ]
    }
   ],
   "source": [
    "print(mystring[-8:6])"
   ]
  },
  {
   "cell_type": "code",
   "execution_count": 72,
   "id": "62342fc5",
   "metadata": {},
   "outputs": [
    {
     "name": "stdout",
     "output_type": "stream",
     "text": [
      "HGFED\n"
     ]
    }
   ],
   "source": [
    "print(mystring[7:-8:-1])"
   ]
  },
  {
   "cell_type": "code",
   "execution_count": 73,
   "id": "06cb454c",
   "metadata": {},
   "outputs": [
    {
     "name": "stdout",
     "output_type": "stream",
     "text": [
      "DEFG\n"
     ]
    }
   ],
   "source": [
    "print(mystring[3:-3])"
   ]
  },
  {
   "cell_type": "code",
   "execution_count": 74,
   "id": "c8cca7d0",
   "metadata": {},
   "outputs": [
    {
     "name": "stdout",
     "output_type": "stream",
     "text": [
      "GE\n"
     ]
    }
   ],
   "source": [
    "print(mystring[6:-7:-2])"
   ]
  },
  {
   "cell_type": "code",
   "execution_count": 75,
   "id": "5848cc06",
   "metadata": {},
   "outputs": [
    {
     "name": "stdout",
     "output_type": "stream",
     "text": [
      "GFE\n"
     ]
    }
   ],
   "source": [
    "print(mystring[6:-7:-1])"
   ]
  },
  {
   "cell_type": "code",
   "execution_count": 76,
   "id": "dfac7c46",
   "metadata": {},
   "outputs": [
    {
     "name": "stdout",
     "output_type": "stream",
     "text": [
      "HFD\n"
     ]
    }
   ],
   "source": [
    "print(mystring[7:2:-2])"
   ]
  },
  {
   "cell_type": "code",
   "execution_count": 77,
   "id": "77757a44",
   "metadata": {},
   "outputs": [
    {
     "name": "stdout",
     "output_type": "stream",
     "text": [
      "ABC\n"
     ]
    }
   ],
   "source": [
    "print(mystring[:-7])   #  -10 to -7"
   ]
  },
  {
   "cell_type": "code",
   "execution_count": 78,
   "id": "9772ca84",
   "metadata": {},
   "outputs": [
    {
     "name": "stdout",
     "output_type": "stream",
     "text": [
      "ABCDEFGHIJ\n"
     ]
    }
   ],
   "source": [
    "print(mystring[:])   # copy of the string"
   ]
  },
  {
   "cell_type": "code",
   "execution_count": 79,
   "id": "9389f4e2",
   "metadata": {},
   "outputs": [
    {
     "name": "stdout",
     "output_type": "stream",
     "text": [
      "EFGHIJ\n"
     ]
    }
   ],
   "source": [
    "print(mystring[4:])"
   ]
  },
  {
   "cell_type": "code",
   "execution_count": 80,
   "id": "b332d688",
   "metadata": {},
   "outputs": [
    {
     "name": "stdout",
     "output_type": "stream",
     "text": [
      "ABCDEFGHI\n"
     ]
    }
   ],
   "source": [
    "print(mystring[:-1])"
   ]
  },
  {
   "cell_type": "code",
   "execution_count": 81,
   "id": "4a0bdbac",
   "metadata": {},
   "outputs": [
    {
     "name": "stdout",
     "output_type": "stream",
     "text": [
      "JIHGFEDCBA\n"
     ]
    }
   ],
   "source": [
    "print(mystring[-1:-11:-1]) # reverse"
   ]
  },
  {
   "cell_type": "code",
   "execution_count": 82,
   "id": "ebca2979",
   "metadata": {},
   "outputs": [
    {
     "name": "stdout",
     "output_type": "stream",
     "text": [
      "JIHGFEDCBA\n"
     ]
    }
   ],
   "source": [
    "print(mystring[::-1])"
   ]
  },
  {
   "cell_type": "code",
   "execution_count": 83,
   "id": "fb890b3e",
   "metadata": {},
   "outputs": [],
   "source": [
    "S= \"DATA SCIENCE\""
   ]
  },
  {
   "cell_type": "code",
   "execution_count": 84,
   "id": "2568470d",
   "metadata": {},
   "outputs": [
    {
     "data": {
      "text/plain": [
       "'DATA'"
      ]
     },
     "execution_count": 84,
     "metadata": {},
     "output_type": "execute_result"
    }
   ],
   "source": [
    "S[:4]"
   ]
  },
  {
   "cell_type": "code",
   "execution_count": 85,
   "id": "d4df15bd",
   "metadata": {},
   "outputs": [
    {
     "data": {
      "text/plain": [
       "'DATA'"
      ]
     },
     "execution_count": 85,
     "metadata": {},
     "output_type": "execute_result"
    }
   ],
   "source": [
    "S[0:4]"
   ]
  },
  {
   "cell_type": "code",
   "execution_count": 86,
   "id": "964e987d",
   "metadata": {},
   "outputs": [
    {
     "data": {
      "text/plain": [
       "'DATA SCIENCE'"
      ]
     },
     "execution_count": 86,
     "metadata": {},
     "output_type": "execute_result"
    }
   ],
   "source": [
    "S[ : ]"
   ]
  },
  {
   "cell_type": "code",
   "execution_count": 87,
   "id": "eb68262f",
   "metadata": {},
   "outputs": [
    {
     "data": {
      "text/plain": [
       "'SCIENCE'"
      ]
     },
     "execution_count": 87,
     "metadata": {},
     "output_type": "execute_result"
    }
   ],
   "source": [
    "S[5:]"
   ]
  },
  {
   "cell_type": "code",
   "execution_count": 88,
   "id": "69da569f",
   "metadata": {},
   "outputs": [],
   "source": [
    "x= \"Machine Learning\""
   ]
  },
  {
   "cell_type": "code",
   "execution_count": 89,
   "id": "ab17ef53",
   "metadata": {},
   "outputs": [
    {
     "name": "stdout",
     "output_type": "stream",
     "text": [
      "MALE\n",
      "MANE ear\n"
     ]
    }
   ],
   "source": [
    "# print MALE\n",
    "#print MALE\n",
    "print(x[ :2].upper() + x[8:10].upper())\n",
    "#print MANE ear\n",
    "print(x[ :2].upper() + x[5:7].upper() + \" \" + x[9:12])"
   ]
  },
  {
   "cell_type": "code",
   "execution_count": 90,
   "id": "d38ac522",
   "metadata": {},
   "outputs": [],
   "source": [
    "X = ['data',9,'2024.23',3+4j,[10,20,30]]"
   ]
  },
  {
   "cell_type": "code",
   "execution_count": 91,
   "id": "e44db1aa",
   "metadata": {},
   "outputs": [
    {
     "data": {
      "text/plain": [
       "'.23'"
      ]
     },
     "execution_count": 91,
     "metadata": {},
     "output_type": "execute_result"
    }
   ],
   "source": [
    "X[-3][-3: ]"
   ]
  },
  {
   "cell_type": "code",
   "execution_count": 92,
   "id": "ede483fb",
   "metadata": {},
   "outputs": [
    {
     "data": {
      "text/plain": [
       "'da'"
      ]
     },
     "execution_count": 92,
     "metadata": {},
     "output_type": "execute_result"
    }
   ],
   "source": [
    "X[0][0:2]"
   ]
  },
  {
   "cell_type": "code",
   "execution_count": 93,
   "id": "43d0d896",
   "metadata": {},
   "outputs": [
    {
     "name": "stdout",
     "output_type": "stream",
     "text": [
      ".23\n"
     ]
    }
   ],
   "source": [
    "print(X[2][4: ])"
   ]
  },
  {
   "cell_type": "code",
   "execution_count": 94,
   "id": "eb12f4de",
   "metadata": {},
   "outputs": [
    {
     "data": {
      "text/plain": [
       "'ta'"
      ]
     },
     "execution_count": 94,
     "metadata": {},
     "output_type": "execute_result"
    }
   ],
   "source": [
    "X[-5][-2: ]"
   ]
  },
  {
   "cell_type": "code",
   "execution_count": 95,
   "id": "358d9bc7",
   "metadata": {},
   "outputs": [],
   "source": [
    "topics = [\n",
    "    ['Math', ['Algebra', 'Calculus', 'Geometry']],\n",
    "    ['Science', ['Physics', 'Chemistry', 'Biology']],\n",
    "    ['Technology', ['Programming', 'Networking', 'AI']],\n",
    "    ['History', ['Ancient', 'Medieval', 'Modern']],\n",
    "    ['Art', ['Painting', 'Sculpture', 'Architecture']]\n",
    "]"
   ]
  },
  {
   "cell_type": "code",
   "execution_count": 96,
   "id": "d2ac12dd",
   "metadata": {},
   "outputs": [
    {
     "data": {
      "text/plain": [
       "'Modern Architecture'"
      ]
     },
     "execution_count": 96,
     "metadata": {},
     "output_type": "execute_result"
    }
   ],
   "source": [
    "#print Modern Architecture\n",
    "topics[3][1][2] + \" \" + topics[4][1][2]"
   ]
  },
  {
   "cell_type": "code",
   "execution_count": 97,
   "id": "254a7e7f",
   "metadata": {},
   "outputs": [
    {
     "data": {
      "text/plain": [
       "'GEO,BIO,CHEM'"
      ]
     },
     "execution_count": 97,
     "metadata": {},
     "output_type": "execute_result"
    }
   ],
   "source": [
    "#print GEO, BIO, CHEM\n",
    "topics[0][1][2][ :3].upper() + \",\" + topics[1][1][2][ :3].upper() + \",\" + topics[1][1][1][ :4].upper()"
   ]
  },
  {
   "cell_type": "code",
   "execution_count": 98,
   "id": "25be487d",
   "metadata": {},
   "outputs": [],
   "source": [
    "string=\"Data 723 science\""
   ]
  },
  {
   "cell_type": "code",
   "execution_count": 99,
   "id": "d1d70e19",
   "metadata": {},
   "outputs": [
    {
     "data": {
      "text/plain": [
       "'Data 723 science'"
      ]
     },
     "execution_count": 99,
     "metadata": {},
     "output_type": "execute_result"
    }
   ],
   "source": [
    "string"
   ]
  },
  {
   "cell_type": "code",
   "execution_count": 100,
   "id": "f8c93f72",
   "metadata": {},
   "outputs": [
    {
     "data": {
      "text/plain": [
       "False"
      ]
     },
     "execution_count": 100,
     "metadata": {},
     "output_type": "execute_result"
    }
   ],
   "source": [
    "string[0:4].isupper()"
   ]
  },
  {
   "cell_type": "code",
   "execution_count": 101,
   "id": "d0382aa0",
   "metadata": {},
   "outputs": [
    {
     "data": {
      "text/plain": [
       "True"
      ]
     },
     "execution_count": 101,
     "metadata": {},
     "output_type": "execute_result"
    }
   ],
   "source": [
    "string[-3:-1].islower()"
   ]
  },
  {
   "cell_type": "code",
   "execution_count": 102,
   "id": "3aafd6d9",
   "metadata": {},
   "outputs": [
    {
     "data": {
      "text/plain": [
       "'NC'"
      ]
     },
     "execution_count": 102,
     "metadata": {},
     "output_type": "execute_result"
    }
   ],
   "source": [
    "string[-3:-1].swapcase()"
   ]
  },
  {
   "cell_type": "code",
   "execution_count": 103,
   "id": "85229793",
   "metadata": {},
   "outputs": [
    {
     "data": {
      "text/plain": [
       "'Dat'"
      ]
     },
     "execution_count": 103,
     "metadata": {},
     "output_type": "execute_result"
    }
   ],
   "source": [
    "string[0:3].title()"
   ]
  },
  {
   "cell_type": "code",
   "execution_count": 104,
   "id": "d6375387",
   "metadata": {},
   "outputs": [
    {
     "data": {
      "text/plain": [
       "'00000000data'"
      ]
     },
     "execution_count": 104,
     "metadata": {},
     "output_type": "execute_result"
    }
   ],
   "source": [
    "string=\"data\"\n",
    "string.zfill(12)"
   ]
  },
  {
   "cell_type": "code",
   "execution_count": 105,
   "id": "0c067d5c",
   "metadata": {},
   "outputs": [
    {
     "data": {
      "text/plain": [
       "'   data  '"
      ]
     },
     "execution_count": 105,
     "metadata": {},
     "output_type": "execute_result"
    }
   ],
   "source": [
    "string.center(9,\" \")"
   ]
  },
  {
   "cell_type": "code",
   "execution_count": 106,
   "id": "57e9ba38",
   "metadata": {},
   "outputs": [
    {
     "data": {
      "text/plain": [
       "['d', 't', '-science']"
      ]
     },
     "execution_count": 106,
     "metadata": {},
     "output_type": "execute_result"
    }
   ],
   "source": [
    "string=\"data-science\"\n",
    "string.split(\"a\")"
   ]
  },
  {
   "cell_type": "code",
   "execution_count": 107,
   "id": "87afd0b3",
   "metadata": {},
   "outputs": [
    {
     "data": {
      "text/plain": [
       "['data-sci', 'nc', '']"
      ]
     },
     "execution_count": 107,
     "metadata": {},
     "output_type": "execute_result"
    }
   ],
   "source": [
    "string=\"data-science\"\n",
    "string.split(\"e\")"
   ]
  },
  {
   "cell_type": "code",
   "execution_count": 108,
   "id": "6f9960b4",
   "metadata": {},
   "outputs": [
    {
     "data": {
      "text/plain": [
       "'datascience'"
      ]
     },
     "execution_count": 108,
     "metadata": {},
     "output_type": "execute_result"
    }
   ],
   "source": [
    "\"data\"+\"science\""
   ]
  },
  {
   "cell_type": "code",
   "execution_count": 109,
   "id": "2955778f",
   "metadata": {},
   "outputs": [
    {
     "data": {
      "text/plain": [
       "'data data data data data '"
      ]
     },
     "execution_count": 109,
     "metadata": {},
     "output_type": "execute_result"
    }
   ],
   "source": [
    "\"data \"*5"
   ]
  },
  {
   "cell_type": "code",
   "execution_count": 110,
   "id": "b784abd7",
   "metadata": {},
   "outputs": [],
   "source": [
    "x=\"data science\""
   ]
  },
  {
   "cell_type": "code",
   "execution_count": 111,
   "id": "d3fd9a2d",
   "metadata": {},
   "outputs": [
    {
     "data": {
      "text/plain": [
       "'Da'"
      ]
     },
     "execution_count": 111,
     "metadata": {},
     "output_type": "execute_result"
    }
   ],
   "source": [
    "x[0:2].capitalize()"
   ]
  },
  {
   "cell_type": "code",
   "execution_count": 112,
   "id": "0833ecc6",
   "metadata": {},
   "outputs": [],
   "source": [
    "x=\"Data science\"\n",
    "y=\"data engineering\""
   ]
  },
  {
   "cell_type": "code",
   "execution_count": 113,
   "id": "11e5228e",
   "metadata": {},
   "outputs": [
    {
     "data": {
      "text/plain": [
       "'DATA Engineering'"
      ]
     },
     "execution_count": 113,
     "metadata": {},
     "output_type": "execute_result"
    }
   ],
   "source": [
    "x[0:4].upper()+' '+y[5:].capitalize()"
   ]
  },
  {
   "cell_type": "code",
   "execution_count": 114,
   "id": "0b1a5da8",
   "metadata": {},
   "outputs": [
    {
     "data": {
      "text/plain": [
       "'Engineering'"
      ]
     },
     "execution_count": 114,
     "metadata": {},
     "output_type": "execute_result"
    }
   ],
   "source": [
    "y[5:].capitalize()"
   ]
  },
  {
   "cell_type": "code",
   "execution_count": 115,
   "id": "d5a7c41b",
   "metadata": {},
   "outputs": [
    {
     "data": {
      "text/plain": [
       "str"
      ]
     },
     "execution_count": 115,
     "metadata": {},
     "output_type": "execute_result"
    }
   ],
   "source": [
    "x=''' '''\n",
    "type(x)"
   ]
  },
  {
   "cell_type": "code",
   "execution_count": 116,
   "id": "8c1915e8",
   "metadata": {},
   "outputs": [
    {
     "data": {
      "text/plain": [
       "list"
      ]
     },
     "execution_count": 116,
     "metadata": {},
     "output_type": "execute_result"
    }
   ],
   "source": [
    "x=[]\n",
    "type(x)"
   ]
  },
  {
   "cell_type": "code",
   "execution_count": 117,
   "id": "00c1bddb",
   "metadata": {},
   "outputs": [],
   "source": [
    "x=[1,2.6,3+4j,\"data\"]"
   ]
  },
  {
   "cell_type": "code",
   "execution_count": 118,
   "id": "d3f119b4",
   "metadata": {},
   "outputs": [
    {
     "data": {
      "text/plain": [
       "(complex, int, float, str)"
      ]
     },
     "execution_count": 118,
     "metadata": {},
     "output_type": "execute_result"
    }
   ],
   "source": [
    "type(x[2]),type(x[0]),type(x[1]),type(x[3])"
   ]
  },
  {
   "cell_type": "code",
   "execution_count": 119,
   "id": "73f6178f",
   "metadata": {},
   "outputs": [],
   "source": [
    "x=[\"data science\",\"data analytics\"]"
   ]
  },
  {
   "cell_type": "code",
   "execution_count": 120,
   "id": "dc746e2a",
   "metadata": {},
   "outputs": [
    {
     "data": {
      "text/plain": [
       "'nc'"
      ]
     },
     "execution_count": 120,
     "metadata": {},
     "output_type": "execute_result"
    }
   ],
   "source": [
    "x[0][-3:-1]"
   ]
  },
  {
   "cell_type": "code",
   "execution_count": 121,
   "id": "174475f2",
   "metadata": {},
   "outputs": [],
   "source": [
    "class_groups = [\n",
    "    [\"Aarav\", \"Vivaan\"],\n",
    "    [\"Kavya\", \"Ishita\"],\n",
    "    [\"Ananya\", \"Rohan\"]\n",
    "]"
   ]
  },
  {
   "cell_type": "code",
   "execution_count": 122,
   "id": "cea5fddd",
   "metadata": {},
   "outputs": [
    {
     "data": {
      "text/plain": [
       "'Ananya'"
      ]
     },
     "execution_count": 122,
     "metadata": {},
     "output_type": "execute_result"
    }
   ],
   "source": [
    "class_groups[2][0]"
   ]
  },
  {
   "cell_type": "code",
   "execution_count": 123,
   "id": "dffcf627",
   "metadata": {},
   "outputs": [],
   "source": [
    "list1=[1,2,3,4,5]"
   ]
  },
  {
   "cell_type": "code",
   "execution_count": 124,
   "id": "9771e283",
   "metadata": {},
   "outputs": [],
   "source": [
    "list1.append(10)"
   ]
  },
  {
   "cell_type": "code",
   "execution_count": 125,
   "id": "a8390715",
   "metadata": {},
   "outputs": [],
   "source": [
    "list1.insert(2,\"data\")"
   ]
  },
  {
   "cell_type": "code",
   "execution_count": 126,
   "id": "23b554b1",
   "metadata": {},
   "outputs": [
    {
     "data": {
      "text/plain": [
       "[1, 2, 'data', 3, 4, 5, 10]"
      ]
     },
     "execution_count": 126,
     "metadata": {},
     "output_type": "execute_result"
    }
   ],
   "source": [
    "list1"
   ]
  },
  {
   "cell_type": "code",
   "execution_count": 127,
   "id": "9a9766cb",
   "metadata": {},
   "outputs": [
    {
     "data": {
      "text/plain": [
       "'data'"
      ]
     },
     "execution_count": 127,
     "metadata": {},
     "output_type": "execute_result"
    }
   ],
   "source": [
    "list1.pop(2)"
   ]
  },
  {
   "cell_type": "code",
   "execution_count": 128,
   "id": "a7a581f2",
   "metadata": {},
   "outputs": [
    {
     "data": {
      "text/plain": [
       "[1, 2, 3, 4, 5, 10]"
      ]
     },
     "execution_count": 128,
     "metadata": {},
     "output_type": "execute_result"
    }
   ],
   "source": [
    "list1"
   ]
  },
  {
   "cell_type": "code",
   "execution_count": 129,
   "id": "0fd954a4",
   "metadata": {},
   "outputs": [],
   "source": [
    "del list1"
   ]
  },
  {
   "cell_type": "code",
   "execution_count": 130,
   "id": "c86767b5",
   "metadata": {},
   "outputs": [
    {
     "ename": "NameError",
     "evalue": "name 'list1' is not defined",
     "output_type": "error",
     "traceback": [
      "\u001b[31m---------------------------------------------------------------------------\u001b[39m",
      "\u001b[31mNameError\u001b[39m                                 Traceback (most recent call last)",
      "\u001b[36mCell\u001b[39m\u001b[36m \u001b[39m\u001b[32mIn[130]\u001b[39m\u001b[32m, line 1\u001b[39m\n\u001b[32m----> \u001b[39m\u001b[32m1\u001b[39m \u001b[43mlist1\u001b[49m\n",
      "\u001b[31mNameError\u001b[39m: name 'list1' is not defined"
     ]
    }
   ],
   "source": [
    "list1"
   ]
  },
  {
   "cell_type": "code",
   "execution_count": null,
   "id": "13954266",
   "metadata": {},
   "outputs": [],
   "source": [
    "list1=[1,2,3,4,5,2,2,2]"
   ]
  },
  {
   "cell_type": "code",
   "execution_count": null,
   "id": "a291d6c4",
   "metadata": {},
   "outputs": [
    {
     "data": {
      "text/plain": [
       "4"
      ]
     },
     "execution_count": 328,
     "metadata": {},
     "output_type": "execute_result"
    }
   ],
   "source": [
    "list1.count(2)"
   ]
  },
  {
   "cell_type": "code",
   "execution_count": null,
   "id": "9fd11bf8",
   "metadata": {},
   "outputs": [
    {
     "data": {
      "text/plain": [
       "1"
      ]
     },
     "execution_count": 329,
     "metadata": {},
     "output_type": "execute_result"
    }
   ],
   "source": [
    "list1.index(2)"
   ]
  },
  {
   "cell_type": "code",
   "execution_count": null,
   "id": "3b83642f",
   "metadata": {},
   "outputs": [
    {
     "data": {
      "text/plain": [
       "[1, 2, 3, 4, 5, 2, 2, 2]"
      ]
     },
     "execution_count": 330,
     "metadata": {},
     "output_type": "execute_result"
    }
   ],
   "source": [
    "list1"
   ]
  },
  {
   "cell_type": "code",
   "execution_count": null,
   "id": "cb210032",
   "metadata": {},
   "outputs": [],
   "source": [
    "list1.remove(4)"
   ]
  },
  {
   "cell_type": "code",
   "execution_count": null,
   "id": "c330aa91",
   "metadata": {},
   "outputs": [
    {
     "data": {
      "text/plain": [
       "[1, 2, 3, 5, 2, 2, 2]"
      ]
     },
     "execution_count": 332,
     "metadata": {},
     "output_type": "execute_result"
    }
   ],
   "source": [
    "list1"
   ]
  },
  {
   "cell_type": "code",
   "execution_count": null,
   "id": "e22b1860",
   "metadata": {},
   "outputs": [],
   "source": [
    "list1.clear()"
   ]
  },
  {
   "cell_type": "code",
   "execution_count": null,
   "id": "27dc3a71",
   "metadata": {},
   "outputs": [
    {
     "data": {
      "text/plain": [
       "[]"
      ]
     },
     "execution_count": 334,
     "metadata": {},
     "output_type": "execute_result"
    }
   ],
   "source": [
    "list1"
   ]
  },
  {
   "cell_type": "code",
   "execution_count": null,
   "id": "03ddcd4b",
   "metadata": {},
   "outputs": [],
   "source": [
    "list1=[1,2,3,4,5,6]"
   ]
  },
  {
   "cell_type": "code",
   "execution_count": null,
   "id": "3e0b8bff",
   "metadata": {},
   "outputs": [],
   "source": [
    "list1.reverse()"
   ]
  },
  {
   "cell_type": "code",
   "execution_count": null,
   "id": "bf64c33f",
   "metadata": {},
   "outputs": [
    {
     "data": {
      "text/plain": [
       "[6, 5, 4, 3, 2, 1]"
      ]
     },
     "execution_count": 337,
     "metadata": {},
     "output_type": "execute_result"
    }
   ],
   "source": [
    "list1"
   ]
  },
  {
   "cell_type": "code",
   "execution_count": null,
   "id": "61459b19",
   "metadata": {},
   "outputs": [],
   "source": [
    "list1=[\"Anc\",\"xyz\",\"anc\"]"
   ]
  },
  {
   "cell_type": "code",
   "execution_count": null,
   "id": "2f56bfca",
   "metadata": {},
   "outputs": [],
   "source": [
    "list1.sort(reverse=True)"
   ]
  },
  {
   "cell_type": "code",
   "execution_count": null,
   "id": "fc21798f",
   "metadata": {},
   "outputs": [
    {
     "data": {
      "text/plain": [
       "['xyz', 'anc', 'Anc']"
      ]
     },
     "execution_count": 340,
     "metadata": {},
     "output_type": "execute_result"
    }
   ],
   "source": [
    "list1"
   ]
  },
  {
   "cell_type": "code",
   "execution_count": null,
   "id": "327881f7",
   "metadata": {},
   "outputs": [],
   "source": [
    "list1=[11,9,23,12]"
   ]
  },
  {
   "cell_type": "code",
   "execution_count": null,
   "id": "4ede7150",
   "metadata": {},
   "outputs": [
    {
     "data": {
      "text/plain": [
       "[23, 12, 11, 9]"
      ]
     },
     "execution_count": 342,
     "metadata": {},
     "output_type": "execute_result"
    }
   ],
   "source": [
    "list1.sort(reverse=True)\n",
    "list1"
   ]
  },
  {
   "cell_type": "code",
   "execution_count": null,
   "id": "082317fd",
   "metadata": {},
   "outputs": [
    {
     "data": {
      "text/plain": [
       "[1, 2, 3, 4, 5]"
      ]
     },
     "execution_count": 478,
     "metadata": {},
     "output_type": "execute_result"
    }
   ],
   "source": [
    "x=[1,2,3,4,5]\n",
    "x"
   ]
  },
  {
   "cell_type": "code",
   "execution_count": null,
   "id": "b2a2b081",
   "metadata": {},
   "outputs": [],
   "source": [
    "y=x"
   ]
  },
  {
   "cell_type": "code",
   "execution_count": null,
   "id": "b26edbba",
   "metadata": {},
   "outputs": [
    {
     "data": {
      "text/plain": [
       "[1, 2, 3, 4, 5]"
      ]
     },
     "execution_count": 480,
     "metadata": {},
     "output_type": "execute_result"
    }
   ],
   "source": [
    "y"
   ]
  },
  {
   "cell_type": "code",
   "execution_count": null,
   "id": "f0e1943f",
   "metadata": {},
   "outputs": [],
   "source": [
    "y[2]=22222"
   ]
  },
  {
   "cell_type": "code",
   "execution_count": null,
   "id": "c0d03364",
   "metadata": {},
   "outputs": [
    {
     "data": {
      "text/plain": [
       "[1, 2, 22222, 4, 5]"
      ]
     },
     "execution_count": 482,
     "metadata": {},
     "output_type": "execute_result"
    }
   ],
   "source": [
    "y"
   ]
  },
  {
   "cell_type": "code",
   "execution_count": null,
   "id": "4ebb6500",
   "metadata": {},
   "outputs": [
    {
     "data": {
      "text/plain": [
       "[1, 2, 22222, 4, 5]"
      ]
     },
     "execution_count": 483,
     "metadata": {},
     "output_type": "execute_result"
    }
   ],
   "source": [
    "x"
   ]
  },
  {
   "cell_type": "code",
   "execution_count": null,
   "id": "3b548b71",
   "metadata": {},
   "outputs": [
    {
     "data": {
      "text/plain": [
       "[1, 2, 3, 4, 5]"
      ]
     },
     "execution_count": 485,
     "metadata": {},
     "output_type": "execute_result"
    }
   ],
   "source": [
    "x=[1,2,3,4,5]\n",
    "x"
   ]
  },
  {
   "cell_type": "code",
   "execution_count": null,
   "id": "c608633a",
   "metadata": {},
   "outputs": [
    {
     "data": {
      "text/plain": [
       "[1, 2, 3, 4, 5]"
      ]
     },
     "execution_count": 487,
     "metadata": {},
     "output_type": "execute_result"
    }
   ],
   "source": [
    "y=x.copy()\n",
    "y"
   ]
  },
  {
   "cell_type": "code",
   "execution_count": null,
   "id": "514547d8",
   "metadata": {},
   "outputs": [],
   "source": [
    "y[2]=22222"
   ]
  },
  {
   "cell_type": "code",
   "execution_count": null,
   "id": "a69cc42f",
   "metadata": {},
   "outputs": [
    {
     "data": {
      "text/plain": [
       "[1, 2, 22222, 4, 5]"
      ]
     },
     "execution_count": 490,
     "metadata": {},
     "output_type": "execute_result"
    }
   ],
   "source": [
    "y"
   ]
  },
  {
   "cell_type": "code",
   "execution_count": null,
   "id": "4af62567",
   "metadata": {},
   "outputs": [
    {
     "data": {
      "text/plain": [
       "[1, 2, 3, 4, 5]"
      ]
     },
     "execution_count": 491,
     "metadata": {},
     "output_type": "execute_result"
    }
   ],
   "source": [
    "x"
   ]
  }
 ],
 "metadata": {
  "kernelspec": {
   "display_name": "Python 3",
   "language": "python",
   "name": "python3"
  },
  "language_info": {
   "codemirror_mode": {
    "name": "ipython",
    "version": 3
   },
   "file_extension": ".py",
   "mimetype": "text/x-python",
   "name": "python",
   "nbconvert_exporter": "python",
   "pygments_lexer": "ipython3",
   "version": "3.12.4"
  }
 },
 "nbformat": 4,
 "nbformat_minor": 5
}
