{
 "cells": [
  {
   "cell_type": "markdown",
   "id": "8153a944",
   "metadata": {},
   "source": [
    "## if statement\n",
    "The basic if statement executes a block of code if a specified condition is true."
   ]
  },
  {
   "cell_type": "code",
   "execution_count": null,
   "id": "ed292040",
   "metadata": {},
   "outputs": [],
   "source": [
    "# Syntax: \n",
    "# \t\tif <condition> :\n",
    "# \t\t\tStatement"
   ]
  },
  {
   "cell_type": "code",
   "execution_count": 2,
   "id": "75dd19b6",
   "metadata": {},
   "outputs": [],
   "source": [
    "Tomato =15\n",
    "if Tomato <=10:\n",
    "    print(\"Bring 1kg of tomatoes\")"
   ]
  },
  {
   "cell_type": "markdown",
   "id": "955103ac",
   "metadata": {},
   "source": [
    "the above example doesnot show any output because the condition is false. the output will be shown if the condition is true"
   ]
  },
  {
   "cell_type": "code",
   "execution_count": 3,
   "id": "c9f567ff",
   "metadata": {},
   "outputs": [
    {
     "name": "stdout",
     "output_type": "stream",
     "text": [
      "Bring 1kg of tomatoes\n"
     ]
    }
   ],
   "source": [
    "#Another approach\n",
    "Tomato =8\n",
    "if Tomato <=10:\n",
    "    print(\"Bring 1kg of tomatoes\")"
   ]
  },
  {
   "cell_type": "markdown",
   "id": "1a06b482",
   "metadata": {},
   "source": [
    "the above approach shows the output as the condition is true"
   ]
  },
  {
   "cell_type": "code",
   "execution_count": 4,
   "id": "3aeca4df",
   "metadata": {},
   "outputs": [
    {
     "name": "stdout",
     "output_type": "stream",
     "text": [
      "Bring 1kg of tomatoes\n"
     ]
    }
   ],
   "source": [
    "Tomato = 15\n",
    "if Tomato <= 20:\n",
    "    print(\"Bring 1kg of tomatoes\")"
   ]
  },
  {
   "cell_type": "code",
   "execution_count": 8,
   "id": "44c4a75a",
   "metadata": {},
   "outputs": [
    {
     "name": "stdout",
     "output_type": "stream",
     "text": [
      "b is greater than a\n"
     ]
    }
   ],
   "source": [
    "a=33\n",
    "b=200\n",
    "if b>a:\n",
    "    print(\"b is greater than a\")"
   ]
  },
  {
   "cell_type": "code",
   "execution_count": 9,
   "id": "ee7b7cac",
   "metadata": {},
   "outputs": [
    {
     "name": "stdout",
     "output_type": "stream",
     "text": [
      "data Science\n"
     ]
    }
   ],
   "source": [
    "x=9\n",
    "if x<10:\n",
    "    print(\"data Science\")"
   ]
  },
  {
   "cell_type": "code",
   "execution_count": 10,
   "id": "f715a4a0",
   "metadata": {},
   "outputs": [
    {
     "name": "stdout",
     "output_type": "stream",
     "text": [
      "Data Science\n"
     ]
    }
   ],
   "source": [
    "if True:\n",
    "    print(\"Data Science\")"
   ]
  },
  {
   "cell_type": "code",
   "execution_count": 11,
   "id": "87cc7a46",
   "metadata": {},
   "outputs": [],
   "source": [
    "if False:\n",
    "    print(\"Data Science\")"
   ]
  },
  {
   "cell_type": "code",
   "execution_count": 12,
   "id": "2cba9f7d",
   "metadata": {},
   "outputs": [],
   "source": [
    "if 0:\n",
    "  print(\"Data Science\")"
   ]
  },
  {
   "cell_type": "code",
   "execution_count": 13,
   "id": "66263cfb",
   "metadata": {},
   "outputs": [
    {
     "name": "stdout",
     "output_type": "stream",
     "text": [
      "Data Science\n"
     ]
    }
   ],
   "source": [
    "if 1:\n",
    "  print(\"Data Science\")"
   ]
  },
  {
   "cell_type": "code",
   "execution_count": 14,
   "id": "787c6bc5",
   "metadata": {},
   "outputs": [
    {
     "name": "stdout",
     "output_type": "stream",
     "text": [
      "Data Science\n"
     ]
    }
   ],
   "source": [
    "x=10\n",
    "if x%2==0:\n",
    "  print(\"Data Science\")"
   ]
  },
  {
   "cell_type": "code",
   "execution_count": 15,
   "id": "fb406ff3",
   "metadata": {},
   "outputs": [
    {
     "name": "stdout",
     "output_type": "stream",
     "text": [
      "Data Science\n"
     ]
    }
   ],
   "source": [
    "x=9\n",
    "if x%2==1:\n",
    "  print(\"Data Science\")"
   ]
  },
  {
   "cell_type": "code",
   "execution_count": 16,
   "id": "fe4b7105",
   "metadata": {},
   "outputs": [
    {
     "name": "stdout",
     "output_type": "stream",
     "text": [
      "Data Science\n"
     ]
    }
   ],
   "source": [
    "x=10\n",
    "if x//2==5:\n",
    "  print(\"Data Science\")"
   ]
  },
  {
   "cell_type": "code",
   "execution_count": 17,
   "id": "4d77d6e6",
   "metadata": {},
   "outputs": [],
   "source": [
    "x=11\n",
    "if x//2==6:\n",
    "  print(\"Data Science\")"
   ]
  },
  {
   "cell_type": "code",
   "execution_count": 18,
   "id": "90f5d480",
   "metadata": {},
   "outputs": [
    {
     "name": "stdout",
     "output_type": "stream",
     "text": [
      "Data Science\n"
     ]
    }
   ],
   "source": [
    "x=13\n",
    "if x//2==6:\n",
    "  print(\"Data Science\")"
   ]
  },
  {
   "cell_type": "code",
   "execution_count": 22,
   "id": "6c3b3a22",
   "metadata": {},
   "outputs": [
    {
     "name": "stdout",
     "output_type": "stream",
     "text": [
      "Data Science\n"
     ]
    }
   ],
   "source": [
    "x=int(input())\n",
    "if (not(x%2==0) and (x<10)):\n",
    "  print(\"Data Science\")    #input is given as 5"
   ]
  },
  {
   "cell_type": "code",
   "execution_count": 24,
   "id": "41642977",
   "metadata": {},
   "outputs": [],
   "source": [
    "x=int(input())\n",
    "if (not(x%2==0) and (x<10)):\n",
    "  print(\"Data Science\") #input is given as 50"
   ]
  },
  {
   "cell_type": "code",
   "execution_count": 26,
   "id": "331fdf57",
   "metadata": {},
   "outputs": [
    {
     "name": "stdout",
     "output_type": "stream",
     "text": [
      "Y is not less than 10\n"
     ]
    }
   ],
   "source": [
    "y=int(input())\n",
    "if not(y<10):\n",
    "  print(\"Y is not less than 10\") #input is taken as 25"
   ]
  },
  {
   "cell_type": "code",
   "execution_count": 28,
   "id": "5f5b8dbd",
   "metadata": {},
   "outputs": [],
   "source": [
    "y=int(input())\n",
    "if not(y<10):\n",
    "  print(\"Y is not less than 10\") #input is taken as 5"
   ]
  },
  {
   "cell_type": "markdown",
   "id": "f31b27d3",
   "metadata": {},
   "source": [
    "## if else and if...elif...else condition:\n",
    "The if...else statement provides an alternative block of code to execute if the condition is false.\n",
    "The if...elif...else statement is known as the nested if conditions for multiple condiditions."
   ]
  },
  {
   "cell_type": "code",
   "execution_count": null,
   "id": "5fa4d825",
   "metadata": {},
   "outputs": [],
   "source": [
    "# Syntax:\n",
    "# \tif <condition> :\n",
    "# \t\tStatement\n",
    "# \telse:\n",
    "# \t\tStatement\n",
    "\n",
    "# Syntax:\n",
    "# \tif <condition> :\n",
    "# \t\tStatement\n",
    "#   elif <condition>:\n",
    "#       Statement\n",
    "#   .\n",
    "#   .\n",
    "#   .\n",
    "# \telse:\n",
    "# \t\tStatement\n"
   ]
  },
  {
   "cell_type": "code",
   "execution_count": 31,
   "id": "f6b312a0",
   "metadata": {},
   "outputs": [
    {
     "name": "stdout",
     "output_type": "stream",
     "text": [
      "X is smaller than 5\n"
     ]
    }
   ],
   "source": [
    "x = 3\n",
    "if x >5:\n",
    "  print(\"X is greater than 5\")\n",
    "else:\n",
    "  print(\"X is smaller than 5\")"
   ]
  },
  {
   "cell_type": "code",
   "execution_count": 32,
   "id": "20c0ed8a",
   "metadata": {},
   "outputs": [
    {
     "name": "stdout",
     "output_type": "stream",
     "text": [
      "X is greater than 5\n"
     ]
    }
   ],
   "source": [
    "x = 15\n",
    "if x >5:\n",
    "  print(\"X is greater than 5\")\n",
    "else:\n",
    "  print(\"X is smaller than 5\")"
   ]
  },
  {
   "cell_type": "code",
   "execution_count": 38,
   "id": "1f6da318",
   "metadata": {},
   "outputs": [
    {
     "name": "stdout",
     "output_type": "stream",
     "text": [
      "Bring 5kg of tomatoes\n"
     ]
    }
   ],
   "source": [
    "Tomato = int(input(\"Tomatoes Cost Per kg: \\n\"))\n",
    "if Tomato <40:\n",
    "    print(\"Bring 5kg of tomatoes\")\n",
    "elif Tomato <=50:\n",
    "    print(\"Bring 2kg of tomatoes\")\n",
    "else:\n",
    "    print(\"Bring 1/2 kg of Tomatoes\")"
   ]
  },
  {
   "cell_type": "code",
   "execution_count": 37,
   "id": "29aedbf3",
   "metadata": {},
   "outputs": [
    {
     "name": "stdout",
     "output_type": "stream",
     "text": [
      "Bring 2kg of tomatoes\n"
     ]
    }
   ],
   "source": [
    "Tomato = int(input(\"Tomatoes Cost Per kg: \\n\"))\n",
    "if Tomato <40:\n",
    "    print(\"Bring 5kg of tomatoes\")\n",
    "elif Tomato <=50:\n",
    "    print(\"Bring 2kg of tomatoes\")\n",
    "else:\n",
    "    print(\"Bring 1/2 kg of Tomatoes\")"
   ]
  },
  {
   "cell_type": "code",
   "execution_count": 36,
   "id": "14b79a6d",
   "metadata": {},
   "outputs": [
    {
     "name": "stdout",
     "output_type": "stream",
     "text": [
      "Bring 1/2 kg of Tomatoes\n"
     ]
    }
   ],
   "source": [
    "Tomato = int(input(\"Tomatoes Cost Per kg: \\n\"))\n",
    "if Tomato <40:\n",
    "    print(\"Bring 5kg of tomatoes\")\n",
    "elif Tomato <=50:\n",
    "    print(\"Bring 2kg of tomatoes\")\n",
    "else:\n",
    "    print(\"Bring 1/2 kg of Tomatoes\")"
   ]
  },
  {
   "cell_type": "code",
   "execution_count": 40,
   "id": "60f921f8",
   "metadata": {},
   "outputs": [
    {
     "name": "stdout",
     "output_type": "stream",
     "text": [
      "Science\n"
     ]
    }
   ],
   "source": [
    "x = \"Data Science\"\n",
    "if \"dxt\" in x:\n",
    "    print(\"Data\")\n",
    "else:\n",
    "    print(\"Science\")"
   ]
  },
  {
   "cell_type": "code",
   "execution_count": 41,
   "id": "624d5891",
   "metadata": {},
   "outputs": [
    {
     "name": "stdout",
     "output_type": "stream",
     "text": [
      "Data\n"
     ]
    }
   ],
   "source": [
    "x = \"Data Science\"\n",
    "if \"cie\" in x:\n",
    "    print(\"Data\")\n",
    "else:\n",
    "    print(\"Science\")"
   ]
  },
  {
   "cell_type": "code",
   "execution_count": 42,
   "id": "6c2bd9a4",
   "metadata": {},
   "outputs": [
    {
     "name": "stdout",
     "output_type": "stream",
     "text": [
      "Data\n"
     ]
    }
   ],
   "source": [
    "x = \"Data Science\"\n",
    "if \"dxt\" not in x:\n",
    "    print(\"Data\")\n",
    "else:\n",
    "    print(\"Science\")"
   ]
  },
  {
   "cell_type": "code",
   "execution_count": 43,
   "id": "e3614c38",
   "metadata": {},
   "outputs": [
    {
     "name": "stdout",
     "output_type": "stream",
     "text": [
      "Science\n"
     ]
    }
   ],
   "source": [
    "x = \"Data Science\"\n",
    "if \"cie\" not in x:\n",
    "    print(\"Data\")\n",
    "else:\n",
    "    print(\"Science\")"
   ]
  },
  {
   "cell_type": "code",
   "execution_count": 45,
   "id": "f5b86e97",
   "metadata": {},
   "outputs": [
    {
     "name": "stdout",
     "output_type": "stream",
     "text": [
      "Allowed with Guardian\n"
     ]
    }
   ],
   "source": [
    "age=int(input())\n",
    "has_permission=True\n",
    "if age>=18:\n",
    "  if has_permission:\n",
    "    print(\"Allowed\")\n",
    "  else:\n",
    "    print(\"Not Allowed\")\n",
    "else:\n",
    "  if age>=13:\n",
    "    print(\"Allowed with Guardian\")\n",
    "  else:\n",
    "    print(\"You are not allowed\") #input is 15"
   ]
  },
  {
   "cell_type": "code",
   "execution_count": 47,
   "id": "5b5ae1e8",
   "metadata": {},
   "outputs": [
    {
     "name": "stdout",
     "output_type": "stream",
     "text": [
      "Allowed\n"
     ]
    }
   ],
   "source": [
    "age=int(input())\n",
    "has_permission=True\n",
    "if age>=18:\n",
    "  if has_permission:\n",
    "    print(\"Allowed\")\n",
    "  else:\n",
    "    print(\"Not Allowed\")\n",
    "else:\n",
    "  if age>=13:\n",
    "    print(\"Allowed with Guardian\")\n",
    "  else:\n",
    "    print(\"You are not allowed\") #input is 25"
   ]
  },
  {
   "cell_type": "code",
   "execution_count": 48,
   "id": "1bb62e41",
   "metadata": {},
   "outputs": [
    {
     "name": "stdout",
     "output_type": "stream",
     "text": [
      "Fail\n"
     ]
    }
   ],
   "source": [
    "marks=int(input())\n",
    "if marks<35:\n",
    "  print(\"Fail\")\n",
    "elif marks>=35 and marks<50:\n",
    "  print(\"Grade C\")\n",
    "elif marks>=50 and marks<75:\n",
    "  print(\"Grade B\")\n",
    "elif marks>=75 and marks<90:\n",
    "  print(\"Grade A\")\n",
    "else:\n",
    "  print(\"Grade A+\") #input is 33"
   ]
  },
  {
   "cell_type": "code",
   "execution_count": 49,
   "id": "7e5bc2ea",
   "metadata": {},
   "outputs": [
    {
     "name": "stdout",
     "output_type": "stream",
     "text": [
      "Grade C\n"
     ]
    }
   ],
   "source": [
    "marks=int(input())\n",
    "if marks<35:\n",
    "  print(\"Fail\")\n",
    "elif marks>=35 and marks<50:\n",
    "  print(\"Grade C\")\n",
    "elif marks>=50 and marks<75:\n",
    "  print(\"Grade B\")\n",
    "elif marks>=75 and marks<90:\n",
    "  print(\"Grade A\")\n",
    "else:\n",
    "  print(\"Grade A+\") #input is 45"
   ]
  },
  {
   "cell_type": "code",
   "execution_count": 50,
   "id": "67e3b023",
   "metadata": {},
   "outputs": [
    {
     "name": "stdout",
     "output_type": "stream",
     "text": [
      "Grade B\n"
     ]
    }
   ],
   "source": [
    "marks=int(input())\n",
    "if marks<35:\n",
    "  print(\"Fail\")\n",
    "elif marks>=35 and marks<50:\n",
    "  print(\"Grade C\")\n",
    "elif marks>=50 and marks<75:\n",
    "  print(\"Grade B\")\n",
    "elif marks>=75 and marks<90:\n",
    "  print(\"Grade A\")\n",
    "else:\n",
    "  print(\"Grade A+\") #input is 70"
   ]
  },
  {
   "cell_type": "code",
   "execution_count": 51,
   "id": "f3ceaf4f",
   "metadata": {},
   "outputs": [
    {
     "name": "stdout",
     "output_type": "stream",
     "text": [
      "Grade A\n"
     ]
    }
   ],
   "source": [
    "marks=int(input())\n",
    "if marks<35:\n",
    "  print(\"Fail\")\n",
    "elif marks>=35 and marks<50:\n",
    "  print(\"Grade C\")\n",
    "elif marks>=50 and marks<75:\n",
    "  print(\"Grade B\")\n",
    "elif marks>=75 and marks<90:\n",
    "  print(\"Grade A\")\n",
    "else:\n",
    "  print(\"Grade A+\") #input is 89"
   ]
  },
  {
   "cell_type": "code",
   "execution_count": 52,
   "id": "de524cbf",
   "metadata": {},
   "outputs": [
    {
     "name": "stdout",
     "output_type": "stream",
     "text": [
      "Grade A+\n"
     ]
    }
   ],
   "source": [
    "marks=int(input())\n",
    "if marks<35:\n",
    "  print(\"Fail\")\n",
    "elif marks>=35 and marks<50:\n",
    "  print(\"Grade C\")\n",
    "elif marks>=50 and marks<75:\n",
    "  print(\"Grade B\")\n",
    "elif marks>=75 and marks<90:\n",
    "  print(\"Grade A\")\n",
    "else:\n",
    "  print(\"Grade A+\") #input is 95"
   ]
  },
  {
   "cell_type": "code",
   "execution_count": 58,
   "id": "bdfc84c9",
   "metadata": {},
   "outputs": [
    {
     "name": "stdout",
     "output_type": "stream",
     "text": [
      "a is equal b\n"
     ]
    }
   ],
   "source": [
    "a = 33\n",
    "b = 33\n",
    "if b > a:\n",
    "    print(\"b is greater than a\")\n",
    "elif a == b:\n",
    "    print(\"a is equal b\")\n",
    "else:\n",
    "    print(\"a is less than b\")"
   ]
  },
  {
   "cell_type": "code",
   "execution_count": 62,
   "id": "507a1d4b",
   "metadata": {},
   "outputs": [
    {
     "name": "stdout",
     "output_type": "stream",
     "text": [
      "b is greater than a\n"
     ]
    }
   ],
   "source": [
    "a = 50\n",
    "b = 78\n",
    "if b > a:\n",
    "    print(\"b is greater than a\")\n",
    "elif a == b:\n",
    "    print(\"a is equal b\")\n",
    "else:\n",
    "    print(\"b is less than a\")"
   ]
  },
  {
   "cell_type": "code",
   "execution_count": 61,
   "id": "a6b28cba",
   "metadata": {},
   "outputs": [
    {
     "name": "stdout",
     "output_type": "stream",
     "text": [
      "b is less than a\n"
     ]
    }
   ],
   "source": [
    "a = 50\n",
    "b = 33\n",
    "if b > a:\n",
    "    print(\"b is greater than a\")\n",
    "elif a == b:\n",
    "    print(\"a is equal b\")\n",
    "else:\n",
    "    print(\"b is less than a\")"
   ]
  },
  {
   "cell_type": "code",
   "execution_count": 64,
   "id": "4398b43e",
   "metadata": {},
   "outputs": [
    {
     "name": "stdout",
     "output_type": "stream",
     "text": [
      "b is less than a\n"
     ]
    }
   ],
   "source": [
    "a = int(input(\"Enter a Value For a:\\n\"))  # input is 50\n",
    "b = int(input(\"Enter a value For b:\\n\")) #input is 33\n",
    "if b > a:\n",
    "    print(\"b is greater than a\")\n",
    "elif a == b:\n",
    "    print(\"a is equal b\")\n",
    "else:\n",
    "    print(\"b is less than a\")"
   ]
  },
  {
   "cell_type": "code",
   "execution_count": 69,
   "id": "6cd1d4a8",
   "metadata": {},
   "outputs": [
    {
     "name": "stdout",
     "output_type": "stream",
     "text": [
      "x is greater than 10\n"
     ]
    }
   ],
   "source": [
    "x = 15\n",
    "if x > 10:\n",
    "    print(\"x is greater than 10\")\n",
    "elif x > 5:\n",
    "    print(\"x is greater than 5\")\n",
    "else:\n",
    "    print(\"x is 5 or less\")\n",
    "    "
   ]
  },
  {
   "cell_type": "code",
   "execution_count": 70,
   "id": "81fd1b11",
   "metadata": {},
   "outputs": [
    {
     "name": "stdout",
     "output_type": "stream",
     "text": [
      "x is greater than 5\n"
     ]
    }
   ],
   "source": [
    "x = 7\n",
    "if x > 10:\n",
    "    print(\"x is greater than 10\")\n",
    "elif x > 5:\n",
    "    print(\"x is greater than 5\")\n",
    "else:\n",
    "    print(\"x is 5 or less\")"
   ]
  },
  {
   "cell_type": "code",
   "execution_count": 71,
   "id": "411159bc",
   "metadata": {},
   "outputs": [
    {
     "name": "stdout",
     "output_type": "stream",
     "text": [
      "x is 5 or less\n"
     ]
    }
   ],
   "source": [
    "x = 2\n",
    "if x > 10:\n",
    "    print(\"x is greater than 10\")\n",
    "elif x > 5:\n",
    "    print(\"x is greater than 5\")\n",
    "else:\n",
    "    print(\"x is 5 or less\")"
   ]
  },
  {
   "cell_type": "code",
   "execution_count": 72,
   "id": "3fc0d64a",
   "metadata": {},
   "outputs": [
    {
     "name": "stdout",
     "output_type": "stream",
     "text": [
      "Welcome Rahul\n"
     ]
    }
   ],
   "source": [
    "Name =input(\"Enter the name: \")\n",
    "\n",
    "if Name ==\"Rahul\":\n",
    "  print(\"Welcome Rahul\")\n",
    "elif Name == \"Sanju\":\n",
    "  print(\"Welcome Sanju\")\n",
    "else:\n",
    "  print(\"What's your name ?\")"
   ]
  },
  {
   "cell_type": "code",
   "execution_count": 73,
   "id": "d6cdffeb",
   "metadata": {},
   "outputs": [
    {
     "name": "stdout",
     "output_type": "stream",
     "text": [
      "Welcome Sanju\n"
     ]
    }
   ],
   "source": [
    "Name =input(\"Enter the name: \")\n",
    "\n",
    "if Name ==\"Rahul\":\n",
    "  print(\"Welcome Rahul\")\n",
    "elif Name == \"Sanju\":\n",
    "  print(\"Welcome Sanju\")\n",
    "else:\n",
    "  print(\"What's your name ?\")"
   ]
  },
  {
   "cell_type": "code",
   "execution_count": 74,
   "id": "1c938e96",
   "metadata": {},
   "outputs": [
    {
     "name": "stdout",
     "output_type": "stream",
     "text": [
      "What's your name ?\n"
     ]
    }
   ],
   "source": [
    "Name =input(\"Enter the name: \")\n",
    "\n",
    "if Name ==\"Rahul\":\n",
    "  print(\"Welcome Rahul\")\n",
    "elif Name == \"Sanju\":\n",
    "  print(\"Welcome Sanju\")\n",
    "else:\n",
    "  print(\"What's your name ?\")"
   ]
  },
  {
   "cell_type": "code",
   "execution_count": 75,
   "id": "06752122",
   "metadata": {},
   "outputs": [
    {
     "name": "stdout",
     "output_type": "stream",
     "text": [
      "x is greater than 10\n",
      "x is not greater than 20\n"
     ]
    }
   ],
   "source": [
    "#Nested if  \n",
    "x = int(input(\"Enter a value for x:\\n\"))     #15\n",
    "if x > 10:\n",
    "    print(\"x is greater than 10\")\n",
    "    if x > 20:\n",
    "        print(\"x is also greater than 20\")\n",
    "    else:\n",
    "        print(\"x is not greater than 20\")\n",
    "else:\n",
    "    print(\"x is 10 or less\")"
   ]
  },
  {
   "cell_type": "code",
   "execution_count": 76,
   "id": "98417788",
   "metadata": {},
   "outputs": [
    {
     "name": "stdout",
     "output_type": "stream",
     "text": [
      "x is greater than 10\n",
      "x is also greater than 20\n"
     ]
    }
   ],
   "source": [
    "x = int(input(\"Enter a value for x:\\n\"))     #25\n",
    "if x > 10:\n",
    "    print(\"x is greater than 10\")\n",
    "    if x > 20:\n",
    "        print(\"x is also greater than 20\")\n",
    "    else:\n",
    "        print(\"x is not greater than 20\")\n",
    "else:\n",
    "    print(\"x is 10 or less\")"
   ]
  },
  {
   "cell_type": "code",
   "execution_count": 77,
   "id": "2ccf5ee2",
   "metadata": {},
   "outputs": [
    {
     "name": "stdout",
     "output_type": "stream",
     "text": [
      "x is 10 or less\n"
     ]
    }
   ],
   "source": [
    "x = int(input(\"Enter a value for x:\\n\"))     #7\n",
    "if x > 10:\n",
    "    print(\"x is greater than 10\")\n",
    "    if x > 20:\n",
    "        print(\"x is also greater than 20\")\n",
    "    else:\n",
    "        print(\"x is not greater than 20\")\n",
    "else:\n",
    "    print(\"x is 10 or less\")"
   ]
  },
  {
   "cell_type": "code",
   "execution_count": 78,
   "id": "7fe91be5",
   "metadata": {},
   "outputs": [
    {
     "name": "stdout",
     "output_type": "stream",
     "text": [
      "x is negative\n"
     ]
    }
   ],
   "source": [
    "x =int(input(\"Enter a value for x:\\n\"))   #input is -5\n",
    "if x < 0:\n",
    "    print(\"x is negative\")\n",
    "elif x == 0:\n",
    "    print(\"x is zero\")\n",
    "elif 0 < x <= 10:     # 0 to 10\n",
    "    print(\"x is between 0 and 10\")\n",
    "elif 10 < x <= 20:     #10 to 20\n",
    "    print(\"x is between 10 and 20\")\n",
    "else:\n",
    "    print(\"x is greater than 20\")"
   ]
  },
  {
   "cell_type": "code",
   "execution_count": 80,
   "id": "9f12bf95",
   "metadata": {},
   "outputs": [
    {
     "name": "stdout",
     "output_type": "stream",
     "text": [
      "x is zero\n"
     ]
    }
   ],
   "source": [
    "x =int(input(\"Enter a value for x:\\n\"))   #input is 0\n",
    "if x < 0:\n",
    "    print(\"x is negative\")\n",
    "elif x == 0:\n",
    "    print(\"x is zero\")\n",
    "elif 0 < x <= 10:     # 0 to 10\n",
    "    print(\"x is between 0 and 10\")\n",
    "elif 10 < x <= 20:     #10 to 20\n",
    "    print(\"x is between 10 and 20\")\n",
    "else:\n",
    "    print(\"x is greater than 20\")"
   ]
  },
  {
   "cell_type": "code",
   "execution_count": 81,
   "id": "e225ed9f",
   "metadata": {},
   "outputs": [
    {
     "name": "stdout",
     "output_type": "stream",
     "text": [
      "x is between 0 and 10\n"
     ]
    }
   ],
   "source": [
    "x =int(input(\"Enter a value for x:\\n\"))   #input is 8\n",
    "if x < 0:\n",
    "    print(\"x is negative\")\n",
    "elif x == 0:\n",
    "    print(\"x is zero\")\n",
    "elif 0 < x <= 10:     # 0 to 10\n",
    "    print(\"x is between 0 and 10\")\n",
    "elif 10 < x <= 20:     #10 to 20\n",
    "    print(\"x is between 10 and 20\")\n",
    "else:\n",
    "    print(\"x is greater than 20\")"
   ]
  },
  {
   "cell_type": "code",
   "execution_count": 82,
   "id": "aa747b5a",
   "metadata": {},
   "outputs": [
    {
     "name": "stdout",
     "output_type": "stream",
     "text": [
      "x is between 10 and 20\n"
     ]
    }
   ],
   "source": [
    "x =int(input(\"Enter a value for x:\\n\"))   #input is 17\n",
    "if x < 0:\n",
    "    print(\"x is negative\")\n",
    "elif x == 0:\n",
    "    print(\"x is zero\")\n",
    "elif 0 < x <= 10:     # 0 to 10\n",
    "    print(\"x is between 0 and 10\")\n",
    "elif 10 < x <= 20:     #10 to 20\n",
    "    print(\"x is between 10 and 20\")\n",
    "else:\n",
    "    print(\"x is greater than 20\")"
   ]
  },
  {
   "cell_type": "code",
   "execution_count": 83,
   "id": "b19fa799",
   "metadata": {},
   "outputs": [
    {
     "name": "stdout",
     "output_type": "stream",
     "text": [
      "x is greater than 20\n"
     ]
    }
   ],
   "source": [
    "x =int(input(\"Enter a value for x:\\n\"))   #input is 36\n",
    "if x < 0:\n",
    "    print(\"x is negative\")\n",
    "elif x == 0:\n",
    "    print(\"x is zero\")\n",
    "elif 0 < x <= 10:     # 0 to 10\n",
    "    print(\"x is between 0 and 10\")\n",
    "elif 10 < x <= 20:     #10 to 20\n",
    "    print(\"x is between 10 and 20\")\n",
    "else:\n",
    "    print(\"x is greater than 20\")"
   ]
  },
  {
   "cell_type": "code",
   "execution_count": 84,
   "id": "cba596a6",
   "metadata": {},
   "outputs": [
    {
     "name": "stdout",
     "output_type": "stream",
     "text": [
      "Both Conditions are true\n"
     ]
    }
   ],
   "source": [
    "#Conditional Statements by using AND, OR Operaters:\n",
    "\n",
    "#E.g:Test if a is greater than b, AND if c is greater than a:\n",
    "\n",
    "a=10\n",
    "b=7\n",
    "c=12\n",
    "\n",
    "if a>b or c>a:\n",
    "    print(\"Both Conditions are true\")"
   ]
  },
  {
   "cell_type": "markdown",
   "id": "ed75a05b",
   "metadata": {},
   "source": [
    "# The 'pass' Statement\n",
    "if statements cannot be empty, but if you for some reason have an if statement with no content,\n",
    "put in the pass statement to avoid getting an error.\n",
    "\n",
    "pass statement doesnot do anything it is used with a method when the method doesnot have any body."
   ]
  },
  {
   "cell_type": "code",
   "execution_count": 85,
   "id": "3ab97411",
   "metadata": {},
   "outputs": [],
   "source": [
    "a = 33 \n",
    "b= 200\n",
    "if b>a:\n",
    "    pass"
   ]
  },
  {
   "cell_type": "code",
   "execution_count": null,
   "id": "f4cd14a2",
   "metadata": {},
   "outputs": [],
   "source": [
    "#Exercise:\n",
    "#Print \"I understood Conditional statements\" if a is greater than b."
   ]
  },
  {
   "cell_type": "code",
   "execution_count": 86,
   "id": "21ceffa8",
   "metadata": {},
   "outputs": [
    {
     "name": "stdout",
     "output_type": "stream",
     "text": [
      "I understood Conditional Statements\n"
     ]
    }
   ],
   "source": [
    "a = 25\n",
    "b = 10\n",
    "if a>b:\n",
    "    print(\"I understood Conditional Statements\")"
   ]
  }
 ],
 "metadata": {
  "kernelspec": {
   "display_name": "Python 3",
   "language": "python",
   "name": "python3"
  },
  "language_info": {
   "codemirror_mode": {
    "name": "ipython",
    "version": 3
   },
   "file_extension": ".py",
   "mimetype": "text/x-python",
   "name": "python",
   "nbconvert_exporter": "python",
   "pygments_lexer": "ipython3",
   "version": "3.13.3"
  }
 },
 "nbformat": 4,
 "nbformat_minor": 5
}
