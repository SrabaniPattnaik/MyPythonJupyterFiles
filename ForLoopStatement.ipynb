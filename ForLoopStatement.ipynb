{
 "cells": [
  {
   "cell_type": "markdown",
   "id": "5729ca6b",
   "metadata": {},
   "source": [
    "In Python, looping statements, also known as iterative statements, allow you to execute a block of code repeatedly. The two main types of loops are for loops and while loops. For loops are used to iterate over a sequence (like a list, tuple, string, or dictionary)"
   ]
  },
  {
   "cell_type": "code",
   "execution_count": 1,
   "id": "72db9b57",
   "metadata": {},
   "outputs": [],
   "source": [
    "# For Loops:\n",
    "# A for loop is used to iterate over a sequence, executing the code block for each item in the sequence. \n",
    "# You can use the range() function to create a sequence of numbers for iteration. \n",
    "# For example: for i in range(5): print(i) will print the numbers 0 to 4."
   ]
  },
  {
   "cell_type": "code",
   "execution_count": 3,
   "id": "53200726",
   "metadata": {},
   "outputs": [
    {
     "name": "stdout",
     "output_type": "stream",
     "text": [
      "1,a,2,b,3,c,"
     ]
    }
   ],
   "source": [
    "numbers = [1, 'a', 2, 'b', 3, 'c']\n",
    "for num in numbers:\n",
    "   print(num, end= \",\" )"
   ]
  },
  {
   "cell_type": "code",
   "execution_count": 4,
   "id": "5a8a3156",
   "metadata": {},
   "outputs": [
    {
     "name": "stdout",
     "output_type": "stream",
     "text": [
      "1,a,2,b,3,c,"
     ]
    }
   ],
   "source": [
    "numbers = [1, 'a', 2, 'b', 3, 'c']\n",
    "for num in numbers:\n",
    "   print(num, end= \",\" )"
   ]
  },
  {
   "cell_type": "code",
   "execution_count": 5,
   "id": "2a206c12",
   "metadata": {},
   "outputs": [
    {
     "name": "stdout",
     "output_type": "stream",
     "text": [
      "h\n",
      "e\n",
      "l\n",
      "l\n",
      "o\n",
      "hello\n"
     ]
    }
   ],
   "source": [
    "#Iterating over a string\n",
    "word = 'hello'\n",
    "for letter in word:\n",
    "    print(letter)\n",
    "print(word)"
   ]
  },
  {
   "cell_type": "code",
   "execution_count": 6,
   "id": "9d7cc742",
   "metadata": {},
   "outputs": [
    {
     "data": {
      "text/plain": [
       "'datas'"
      ]
     },
     "execution_count": 6,
     "metadata": {},
     "output_type": "execute_result"
    }
   ],
   "source": [
    "\"datas\""
   ]
  },
  {
   "cell_type": "code",
   "execution_count": 7,
   "id": "2e059550",
   "metadata": {},
   "outputs": [
    {
     "name": "stdout",
     "output_type": "stream",
     "text": [
      "d*,a*,t*,a*,s*,"
     ]
    }
   ],
   "source": [
    "for i in \"datas\":\n",
    "  print(i+\"*\", end=\",\")"
   ]
  },
  {
   "cell_type": "code",
   "execution_count": 8,
   "id": "92dbbef4",
   "metadata": {},
   "outputs": [
    {
     "name": "stdout",
     "output_type": "stream",
     "text": [
      "2\n",
      "0\n"
     ]
    }
   ],
   "source": [
    "for i in \"20\":\n",
    "  print(i)"
   ]
  },
  {
   "cell_type": "code",
   "execution_count": 9,
   "id": "afaeecb1",
   "metadata": {},
   "outputs": [
    {
     "name": "stdout",
     "output_type": "stream",
     "text": [
      "10\n",
      "20\n",
      "30\n",
      "40\n",
      "50\n"
     ]
    }
   ],
   "source": [
    "for i in [1,2,3,4,5]:\n",
    "  print(i*10,end ='\\n') #\\n -> next line"
   ]
  },
  {
   "cell_type": "code",
   "execution_count": 10,
   "id": "45555008",
   "metadata": {},
   "outputs": [
    {
     "name": "stdout",
     "output_type": "stream",
     "text": [
      "11\t12\t13\t14\t15\t"
     ]
    }
   ],
   "source": [
    "for i in [1,2,3,4,5]:\n",
    "  print(i+10,end ='\\t')   #t - backslash tab"
   ]
  },
  {
   "cell_type": "code",
   "execution_count": 11,
   "id": "63ba4d01",
   "metadata": {},
   "outputs": [
    {
     "name": "stdout",
     "output_type": "stream",
     "text": [
      "11,12,13,14,15,"
     ]
    }
   ],
   "source": [
    "for i in [1,2,3,4,5]:\n",
    "  print(i+10,end =',')"
   ]
  },
  {
   "cell_type": "code",
   "execution_count": 12,
   "id": "797d8766",
   "metadata": {},
   "outputs": [
    {
     "name": "stdout",
     "output_type": "stream",
     "text": [
      "*****\n",
      "****\n",
      "***\n",
      "**\n",
      "*\n"
     ]
    }
   ],
   "source": [
    "for i in [5,4,3,2,1]:\n",
    "  print(i*\"*\")   #Pattern Programming,"
   ]
  },
  {
   "cell_type": "code",
   "execution_count": 13,
   "id": "dddd599f",
   "metadata": {},
   "outputs": [
    {
     "name": "stdout",
     "output_type": "stream",
     "text": [
      "0,2,4,6,8,"
     ]
    }
   ],
   "source": [
    "for i in range(0,10,2):\n",
    " print(i, end=\",\")"
   ]
  },
  {
   "cell_type": "code",
   "execution_count": 14,
   "id": "fee43709",
   "metadata": {},
   "outputs": [
    {
     "name": "stdout",
     "output_type": "stream",
     "text": [
      "10,9,8,7,6,5,4,3,2,1,"
     ]
    }
   ],
   "source": [
    "for i in range(10, 0, -1):\n",
    "    print(i, end=\",\")"
   ]
  },
  {
   "cell_type": "code",
   "execution_count": 15,
   "id": "5e78add0",
   "metadata": {},
   "outputs": [
    {
     "name": "stdout",
     "output_type": "stream",
     "text": [
      "2,4,6,8,10,"
     ]
    }
   ],
   "source": [
    "#even number\n",
    "for i in range(2,11,2):\n",
    "    print(i, end=\",\")"
   ]
  },
  {
   "cell_type": "code",
   "execution_count": 16,
   "id": "e6d47132",
   "metadata": {},
   "outputs": [
    {
     "name": "stdout",
     "output_type": "stream",
     "text": [
      "1 is odd\n",
      "2  is even\n",
      "3 is odd\n",
      "4  is even\n",
      "5 is odd\n",
      "6  is even\n",
      "7 is odd\n",
      "8  is even\n",
      "9 is odd\n",
      "10  is even\n"
     ]
    }
   ],
   "source": [
    "for i in range(1,11):\n",
    "    if i % 2 == 0:\n",
    "        print(i, \" is even\")\n",
    "    else:\n",
    "        print(i, \"is odd\")"
   ]
  },
  {
   "cell_type": "code",
   "execution_count": 17,
   "id": "9cb11e8c",
   "metadata": {},
   "outputs": [
    {
     "name": "stdout",
     "output_type": "stream",
     "text": [
      "DATA"
     ]
    }
   ],
   "source": [
    "\"\"\"print DATA from DATA1234\"\"\"\n",
    "for i in \"DATA12345\":\n",
    "    if i.isalpha():\n",
    "     print(i,end=\"\")"
   ]
  },
  {
   "cell_type": "code",
   "execution_count": 18,
   "id": "30a3191a",
   "metadata": {},
   "outputs": [
    {
     "name": "stdout",
     "output_type": "stream",
     "text": [
      "12345"
     ]
    }
   ],
   "source": [
    "\"\"\"print 12345 from DATA1234\"\"\"\n",
    "for i in \"DATA12345\":\n",
    "    if i.isnumeric():\n",
    "     print(i,end=\"\")"
   ]
  },
  {
   "cell_type": "code",
   "execution_count": 19,
   "id": "9f028a06",
   "metadata": {},
   "outputs": [
    {
     "name": "stdout",
     "output_type": "stream",
     "text": [
      "! @ % * $ # $ , , , , & * @ @ $ # ^ ^ # & $ & $ "
     ]
    }
   ],
   "source": [
    "data =\"!@%*$#$,1,2,2,&*@@$#^^#&$&$\"\n",
    "for i in data:\n",
    "  if i.isalnum()==False:\n",
    "    print(i,end=\" \")"
   ]
  },
  {
   "cell_type": "code",
   "execution_count": 20,
   "id": "fbadc7ae",
   "metadata": {},
   "outputs": [
    {
     "name": "stdout",
     "output_type": "stream",
     "text": [
      "    *    \n",
      "   ***   \n",
      "  *****  \n",
      " ******* \n",
      "*********\n",
      " ******* \n",
      "  *****  \n",
      "   ***   \n",
      "    *    \n"
     ]
    }
   ],
   "source": [
    "n = 5  # Number of rows for the upper half\n",
    "\n",
    "# Upper part of the diamond\n",
    "for i in range(1, n + 1):\n",
    "    print((\"*\" * (2 * i - 1)).center(2 * n - 1))\n",
    "\n",
    "# Lower part of the diamond\n",
    "for j in range(n - 1, 0, -1):  #range(4,0,-1) --> 4,3,2,1\n",
    "    print((\"*\" * (2 * j - 1)).center(2 * n - 1))"
   ]
  },
  {
   "cell_type": "code",
   "execution_count": 21,
   "id": "96df2261",
   "metadata": {},
   "outputs": [
    {
     "name": "stdout",
     "output_type": "stream",
     "text": [
      "    *\n",
      "   ***\n",
      "  *****\n",
      " *******\n",
      "*********\n",
      " *******\n",
      "  *****\n",
      "   ***\n",
      "    *\n"
     ]
    }
   ],
   "source": [
    "#another approach for print diamond pattern\n",
    "n=5\n",
    "\n",
    "#upper half\n",
    "for i in range(n):\n",
    "    print(' '*(n-i-1)+'*'*(2*i+1))\n",
    "\n",
    "#lower half\n",
    "for i in range(n-2,-1,-1):\n",
    "    print(' ' * (n - i - 1) + '*' * (2 * i + 1))\n"
   ]
  },
  {
   "cell_type": "code",
   "execution_count": 22,
   "id": "17441806",
   "metadata": {},
   "outputs": [
    {
     "name": "stdout",
     "output_type": "stream",
     "text": [
      "3\n",
      "33\n",
      "333\n",
      "3333\n",
      "33333\n"
     ]
    }
   ],
   "source": [
    "for i in [1,2,3,4,5]:\n",
    "  print(i*\"3\")"
   ]
  },
  {
   "cell_type": "code",
   "execution_count": 23,
   "id": "b6c62188",
   "metadata": {},
   "outputs": [
    {
     "name": "stdout",
     "output_type": "stream",
     "text": [
      "0,1,2,3,4,5,6,7,8,9,"
     ]
    }
   ],
   "source": [
    "for i in range(0,10):  #0,1,2,3,4,5,6,7,8,9\n",
    "  print(i,end=',')"
   ]
  },
  {
   "cell_type": "code",
   "execution_count": 24,
   "id": "b7ca20de",
   "metadata": {},
   "outputs": [
    {
     "name": "stdout",
     "output_type": "stream",
     "text": [
      "0 3 6 9 "
     ]
    }
   ],
   "source": [
    "for i in range(0,10,3):  #step size\n",
    "  print(i,end=' ')"
   ]
  },
  {
   "cell_type": "code",
   "execution_count": 25,
   "id": "0eff6490",
   "metadata": {},
   "outputs": [
    {
     "name": "stdout",
     "output_type": "stream",
     "text": [
      "10,9,8,7,6,5,4,3,2,1,"
     ]
    }
   ],
   "source": [
    "for i in range(10,0,-1):  #step size\n",
    "  print(i,end=',')"
   ]
  },
  {
   "cell_type": "code",
   "execution_count": 26,
   "id": "43d739bd",
   "metadata": {},
   "outputs": [
    {
     "name": "stdout",
     "output_type": "stream",
     "text": [
      "*\n",
      "**\n",
      "***\n",
      "****\n",
      "*****\n",
      "****\n",
      "***\n",
      "**\n",
      "*\n"
     ]
    }
   ],
   "source": [
    "# *\n",
    "# **\n",
    "# ***\n",
    "# ****\n",
    "# *****\n",
    "# ****\n",
    "# ***\n",
    "# **\n",
    "# *\n",
    "#another approach for print diamond pattern\n",
    "n=5\n",
    "\n",
    "#upper half\n",
    "for i in range(n):\n",
    "    print('*'*(i+1))\n",
    "\n",
    "#lower half\n",
    "for i in range(n-2,-1,-1):\n",
    "    print('*' * (i + 1))"
   ]
  },
  {
   "cell_type": "code",
   "execution_count": 27,
   "id": "3c46e4cd",
   "metadata": {},
   "outputs": [],
   "source": [
    "data =\"Data Science Machine Learning\""
   ]
  },
  {
   "cell_type": "code",
   "execution_count": 28,
   "id": "13f4d871",
   "metadata": {},
   "outputs": [
    {
     "name": "stdout",
     "output_type": "stream",
     "text": [
      "1 28 D\n",
      "2 27 a\n",
      "3 26 t\n",
      "4 25 a\n",
      "5 24  \n",
      "6 23 S\n",
      "7 22 c\n",
      "8 21 i\n",
      "9 20 e\n",
      "10 19 n\n",
      "11 18 c\n",
      "12 17 e\n",
      "13 16  \n",
      "14 15 M\n",
      "15 14 a\n",
      "16 13 c\n",
      "17 12 h\n",
      "18 11 i\n",
      "19 10 n\n",
      "20 9 e\n",
      "21 8  \n",
      "22 7 L\n",
      "23 6 e\n",
      "24 5 a\n",
      "25 4 r\n",
      "26 3 n\n",
      "27 2 i\n",
      "28 1 n\n",
      "29 0 g\n"
     ]
    }
   ],
   "source": [
    "x=0\n",
    "y=len(data)\n",
    "for i in data:\n",
    "  x = x+1\n",
    "  y=y-1\n",
    "  print(x,y,i)"
   ]
  },
  {
   "cell_type": "code",
   "execution_count": 29,
   "id": "cbe964ff",
   "metadata": {},
   "outputs": [],
   "source": [
    "text =''' The Sun emits ~3.8 × 10²⁶ watts of energy! Life depends on its light & heat.\n",
    "Water (~71% of Earth) supports ecosystems, marine life & weather cycles.\n",
    "Tech evolves @ rapid speed—AI, IoT & 5G reshape how we work, learn & connect!'''"
   ]
  },
  {
   "cell_type": "code",
   "execution_count": 30,
   "id": "cb325928",
   "metadata": {},
   "outputs": [
    {
     "data": {
      "text/plain": [
       "['The',\n",
       " 'Sun',\n",
       " 'emits',\n",
       " '~3.8',\n",
       " '×',\n",
       " '10²⁶',\n",
       " 'watts',\n",
       " 'of',\n",
       " 'energy!',\n",
       " 'Life',\n",
       " 'depends',\n",
       " 'on',\n",
       " 'its',\n",
       " 'light',\n",
       " '&',\n",
       " 'heat.',\n",
       " 'Water',\n",
       " '(~71%',\n",
       " 'of',\n",
       " 'Earth)',\n",
       " 'supports',\n",
       " 'ecosystems,',\n",
       " 'marine',\n",
       " 'life',\n",
       " '&',\n",
       " 'weather',\n",
       " 'cycles.',\n",
       " 'Tech',\n",
       " 'evolves',\n",
       " '@',\n",
       " 'rapid',\n",
       " 'speed—AI,',\n",
       " 'IoT',\n",
       " '&',\n",
       " '5G',\n",
       " 'reshape',\n",
       " 'how',\n",
       " 'we',\n",
       " 'work,',\n",
       " 'learn',\n",
       " '&',\n",
       " 'connect!']"
      ]
     },
     "execution_count": 30,
     "metadata": {},
     "output_type": "execute_result"
    }
   ],
   "source": [
    "text.split()"
   ]
  },
  {
   "cell_type": "code",
   "execution_count": 33,
   "id": "9bfdc952",
   "metadata": {},
   "outputs": [
    {
     "name": "stdout",
     "output_type": "stream",
     "text": [
      "The,Sun,emits,10²⁶,watts,of,Life,depends,on,its,light,Water,of,supports,marine,life,weather,Tech,evolves,rapid,IoT,5G,reshape,how,we,learn,"
     ]
    }
   ],
   "source": [
    "for i in text.split():\n",
    "  if i.isalnum()==True:\n",
    "    print(i,end=',') #retrieves all the alpha numeric values"
   ]
  },
  {
   "cell_type": "code",
   "execution_count": 34,
   "id": "7cacd3fe",
   "metadata": {},
   "outputs": [
    {
     "name": "stdout",
     "output_type": "stream",
     "text": [
      "~3.8,×,energy!,&,heat.,(~71%,Earth),ecosystems,,&,cycles.,@,speed—AI,,&,work,,&,connect!,"
     ]
    }
   ],
   "source": [
    "for i in text.split():\n",
    "  if i.isalnum()==False:\n",
    "    print(i,end=',') #retrieves all the alphanumeric mixed with special characters values"
   ]
  },
  {
   "cell_type": "code",
   "execution_count": 35,
   "id": "eca74f39",
   "metadata": {},
   "outputs": [
    {
     "name": "stdout",
     "output_type": "stream",
     "text": [
      "11\n"
     ]
    }
   ],
   "source": [
    "#Find How many capital letters\n",
    "x=0\n",
    "for i in text:\n",
    "  if i.isupper():\n",
    "    x=x+1\n",
    "print(x)"
   ]
  },
  {
   "cell_type": "code",
   "execution_count": 37,
   "id": "d52c3712",
   "metadata": {},
   "outputs": [
    {
     "name": "stdout",
     "output_type": "stream",
     "text": [
      "T,S,L,W,E,T,A,I,I,T,G,"
     ]
    }
   ],
   "source": [
    "#Find Capital Letters:\n",
    "x=0\n",
    "for i in text:\n",
    "  if i.isupper():\n",
    "    x=x+1\n",
    "    print(i,end=',')"
   ]
  },
  {
   "cell_type": "code",
   "execution_count": 38,
   "id": "91abc790",
   "metadata": {},
   "outputs": [
    {
     "name": "stdout",
     "output_type": "stream",
     "text": [
      "0 9\n",
      "1 8\n",
      "2 7\n",
      "3 6\n",
      "4 5\n",
      "5 4\n",
      "6 3\n",
      "7 2\n",
      "8 1\n",
      "9 0\n"
     ]
    }
   ],
   "source": [
    "for i in range(0,10):\n",
    "  print(i,9-i)"
   ]
  },
  {
   "cell_type": "code",
   "execution_count": 39,
   "id": "f08d5fcd",
   "metadata": {},
   "outputs": [
    {
     "name": "stdout",
     "output_type": "stream",
     "text": [
      "0 9\n",
      "1 9\n",
      "2 9\n",
      "3 9\n",
      "4 9\n",
      "5 9\n",
      "6 9\n",
      "7 9\n",
      "8 9\n",
      "9 9\n"
     ]
    }
   ],
   "source": [
    "# 9 is lenght of range\n",
    "for i in range(0,10):\n",
    "  print(i,len(range(0,10))-1)"
   ]
  },
  {
   "cell_type": "code",
   "execution_count": 40,
   "id": "0848318e",
   "metadata": {},
   "outputs": [
    {
     "name": "stdout",
     "output_type": "stream",
     "text": [
      "*\n",
      "**\n",
      "***\n",
      "****\n",
      "*****\n"
     ]
    }
   ],
   "source": [
    "for i in range(1,6):\n",
    "  print(i*\"*\")"
   ]
  },
  {
   "cell_type": "code",
   "execution_count": 41,
   "id": "44f3d2e6",
   "metadata": {},
   "outputs": [
    {
     "name": "stdout",
     "output_type": "stream",
     "text": [
      "*****\n",
      "****\n",
      "***\n",
      "**\n",
      "*\n"
     ]
    }
   ],
   "source": [
    "#print in reverse order\n",
    "for i in range(1,6):\n",
    "  print((6-i)*\"*\")"
   ]
  },
  {
   "cell_type": "code",
   "execution_count": 42,
   "id": "6e120467",
   "metadata": {},
   "outputs": [
    {
     "name": "stdout",
     "output_type": "stream",
     "text": [
      "*\n",
      "**\n",
      "***\n",
      "****\n",
      "*****\n",
      "*****\n",
      "****\n",
      "***\n",
      "**\n",
      "*\n"
     ]
    }
   ],
   "source": [
    "for i in range(1,6):\n",
    "  print(i*\"*\")\n",
    "  if i==5:\n",
    "    for j in range(5,0,-1):  #Reverse order\n",
    "       print(j*\"*\")"
   ]
  },
  {
   "cell_type": "code",
   "execution_count": 43,
   "id": "ac0460e0",
   "metadata": {},
   "outputs": [
    {
     "name": "stdout",
     "output_type": "stream",
     "text": [
      "*\n",
      "**\n",
      "***\n",
      "****\n",
      "*****\n",
      "*****\n",
      "****\n",
      "***\n",
      "**\n",
      "*\n"
     ]
    }
   ],
   "source": [
    "for i in range(1,6):\n",
    "  print(i*\"*\")\n",
    "for i in range(1,6):\n",
    "  print((6-i)*\"*\")"
   ]
  },
  {
   "cell_type": "code",
   "execution_count": 44,
   "id": "7ad686b6",
   "metadata": {},
   "outputs": [
    {
     "name": "stdout",
     "output_type": "stream",
     "text": [
      "h\n",
      "e\n",
      "l\n",
      "l\n",
      "o\n",
      "hello\n"
     ]
    }
   ],
   "source": [
    "#Example: Iterating Over a String\n",
    "\n",
    "word = \"hello\"\n",
    "\n",
    "for letter in word:\n",
    "    print(letter)\n",
    "print(word)"
   ]
  }
 ],
 "metadata": {
  "kernelspec": {
   "display_name": "Python 3",
   "language": "python",
   "name": "python3"
  },
  "language_info": {
   "codemirror_mode": {
    "name": "ipython",
    "version": 3
   },
   "file_extension": ".py",
   "mimetype": "text/x-python",
   "name": "python",
   "nbconvert_exporter": "python",
   "pygments_lexer": "ipython3",
   "version": "3.13.3"
  }
 },
 "nbformat": 4,
 "nbformat_minor": 5
}
