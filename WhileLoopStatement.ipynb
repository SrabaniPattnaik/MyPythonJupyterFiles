{
 "cells": [
  {
   "cell_type": "markdown",
   "id": "124fd117",
   "metadata": {},
   "source": [
    "while while loops execute as long as a condition is true.\n",
    "\n",
    "A while loop in Python is a control flow statement that executes a block of code repeatedly as long as a specified condition remains true. It's used when the number of iterations is not known in advance and is determined by a condition within the loop. "
   ]
  },
  {
   "cell_type": "code",
   "execution_count": 3,
   "id": "b885ba33",
   "metadata": {},
   "outputs": [
    {
     "data": {
      "text/plain": [
       "'while condition:\\n    # Code to be executed repeatedly\\n    # ...'"
      ]
     },
     "execution_count": 3,
     "metadata": {},
     "output_type": "execute_result"
    }
   ],
   "source": [
    "# While Loops:\n",
    "# A while loop executes a block of code as long as a specified condition is true. \n",
    "# The condition is checked before each iteration, and the loop continues until the condition becomes false. \n",
    "# For example: i = 0; while i < 5: print(i); i += 1 will print the numbers 0 to 4. \n",
    "# Be careful to ensure that the condition eventually becomes false to avoid infinite loops.\n",
    "\n",
    "'''while condition:\n",
    "    # Code to be executed repeatedly\n",
    "    # ...'''"
   ]
  },
  {
   "cell_type": "code",
   "execution_count": 4,
   "id": "feac5228",
   "metadata": {},
   "outputs": [
    {
     "name": "stdout",
     "output_type": "stream",
     "text": [
      "15\n",
      "17\n",
      "19\n",
      "21\n",
      "23\n",
      "25\n",
      "27\n",
      "29\n"
     ]
    }
   ],
   "source": [
    "count = 15\n",
    "\n",
    "while count <= 30:  #condition\n",
    "    print(count)\n",
    "    count += 2   # 1,2,3,4,5"
   ]
  },
  {
   "cell_type": "code",
   "execution_count": 5,
   "id": "05340d4b",
   "metadata": {},
   "outputs": [
    {
     "name": "stdout",
     "output_type": "stream",
     "text": [
      "0\n",
      "2\n",
      "4\n",
      "6\n",
      "8\n",
      "10\n",
      "12\n",
      "14\n",
      "16\n",
      "18\n",
      "20\n",
      "22\n",
      "24\n",
      "26\n",
      "28\n",
      "30\n",
      "32\n",
      "34\n",
      "36\n",
      "38\n",
      "40\n",
      "42\n",
      "44\n",
      "46\n",
      "48\n",
      "50\n",
      "52\n",
      "54\n",
      "56\n",
      "58\n",
      "60\n",
      "62\n",
      "64\n",
      "66\n",
      "68\n",
      "70\n",
      "72\n",
      "74\n",
      "76\n",
      "78\n",
      "80\n",
      "82\n",
      "84\n",
      "86\n",
      "88\n",
      "90\n",
      "92\n",
      "94\n",
      "96\n",
      "98\n",
      "100\n"
     ]
    }
   ],
   "source": [
    "count = 0\n",
    "\n",
    "while count <= 100:  #condition\n",
    "    print(count)\n",
    "    count +=2"
   ]
  },
  {
   "cell_type": "code",
   "execution_count": 6,
   "id": "e2015e8f",
   "metadata": {},
   "outputs": [
    {
     "name": "stdout",
     "output_type": "stream",
     "text": [
      "Interation 1 2\n",
      "Interation 2 3\n",
      "Interation 3 4\n"
     ]
    }
   ],
   "source": [
    "x=2\n",
    "counter=1\n",
    "\n",
    "while x<5:\n",
    "  print(\"Interation\", counter,x)\n",
    "  counter=counter+1\n",
    "  x=x+1\n",
    "\n",
    "  #1,2,3"
   ]
  },
  {
   "cell_type": "code",
   "execution_count": 7,
   "id": "abad806d",
   "metadata": {},
   "outputs": [
    {
     "name": "stdout",
     "output_type": "stream",
     "text": [
      "    *\n",
      "   **\n",
      "  ***\n",
      " ****\n",
      "*****\n"
     ]
    }
   ],
   "source": [
    "x = 1\n",
    "while x<6:\n",
    "  print((5-x)*\" \"+x*\"*\")\n",
    "  x+=1"
   ]
  },
  {
   "cell_type": "code",
   "execution_count": 8,
   "id": "5efdc41c",
   "metadata": {},
   "outputs": [
    {
     "name": "stdout",
     "output_type": "stream",
     "text": [
      "*****\n",
      "****\n",
      "***\n",
      "**\n",
      "*\n"
     ]
    }
   ],
   "source": [
    "x = 1\n",
    "while x<6:\n",
    "  print((6-x)*\"*\")\n",
    "  x+=1"
   ]
  },
  {
   "cell_type": "code",
   "execution_count": 9,
   "id": "9672f10f",
   "metadata": {},
   "outputs": [
    {
     "name": "stdout",
     "output_type": "stream",
     "text": [
      "1 is odd number\n",
      "2 is even number\n",
      "3 is odd number\n",
      "4 is even number\n",
      "5 is odd number\n",
      "6 is even number\n",
      "7 is odd number\n",
      "8 is even number\n",
      "9 is odd number\n",
      "10 is even number\n"
     ]
    }
   ],
   "source": [
    "a = 1\n",
    "\n",
    "while a<=10:\n",
    "  if(a%2==0):\n",
    "      print(a ,\"is even number\")\n",
    "  else:\n",
    "      print(a ,\"is odd number\")\n",
    "  a+=1"
   ]
  },
  {
   "cell_type": "code",
   "execution_count": null,
   "id": "45929487",
   "metadata": {},
   "outputs": [],
   "source": []
  }
 ],
 "metadata": {
  "kernelspec": {
   "display_name": "Python 3",
   "language": "python",
   "name": "python3"
  },
  "language_info": {
   "codemirror_mode": {
    "name": "ipython",
    "version": 3
   },
   "file_extension": ".py",
   "mimetype": "text/x-python",
   "name": "python",
   "nbconvert_exporter": "python",
   "pygments_lexer": "ipython3",
   "version": "3.13.3"
  }
 },
 "nbformat": 4,
 "nbformat_minor": 5
}
