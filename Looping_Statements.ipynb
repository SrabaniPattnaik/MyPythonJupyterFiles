{
 "cells": [
  {
   "cell_type": "markdown",
   "id": "5729ca6b",
   "metadata": {},
   "source": [
    "In Python, looping statements, also known as iterative statements, allow you to execute a block of code repeatedly. The two main types of loops are for loops and while loops. For loops are used to iterate over a sequence (like a list, tuple, string, or dictionary), while while loops execute as long as a condition is true."
   ]
  },
  {
   "cell_type": "code",
   "execution_count": null,
   "id": "72db9b57",
   "metadata": {},
   "outputs": [],
   "source": [
    "# For Loops:\n",
    "# A for loop is used to iterate over a sequence, executing the code block for each item in the sequence. \n",
    "# You can use the range() function to create a sequence of numbers for iteration. \n",
    "# For example: for i in range(5): print(i) will print the numbers 0 to 4."
   ]
  },
  {
   "cell_type": "code",
   "execution_count": null,
   "id": "c10d1020",
   "metadata": {},
   "outputs": [],
   "source": [
    "# While Loops:\n",
    "# A while loop executes a block of code as long as a specified condition is true. \n",
    "# The condition is checked before each iteration, and the loop continues until the condition becomes false. \n",
    "# For example: i = 0; while i < 5: print(i); i += 1 will print the numbers 0 to 4. \n",
    "# Be careful to ensure that the condition eventually becomes false to avoid infinite loops. "
   ]
  },
  {
   "cell_type": "code",
   "execution_count": 1,
   "id": "53200726",
   "metadata": {},
   "outputs": [
    {
     "name": "stdout",
     "output_type": "stream",
     "text": [
      "1,a,2,b,3,c,"
     ]
    }
   ],
   "source": [
    " numbers = [1, 'a', 2, 'b', 3, 'c']\n",
    " for num in numbers:\n",
    "    print(num, end= \",\" )"
   ]
  },
  {
   "cell_type": "code",
   "execution_count": 10,
   "id": "5a8a3156",
   "metadata": {},
   "outputs": [
    {
     "name": "stdout",
     "output_type": "stream",
     "text": [
      "1,a,2,b,3,c,"
     ]
    }
   ],
   "source": [
    " numbers = [1, 'a', 2, 'b', 3, 'c']\n",
    " for num in numbers:\n",
    "    print(num, end= \",\" )"
   ]
  },
  {
   "cell_type": "code",
   "execution_count": 13,
   "id": "2a206c12",
   "metadata": {},
   "outputs": [
    {
     "name": "stdout",
     "output_type": "stream",
     "text": [
      "h\n",
      "e\n",
      "l\n",
      "l\n",
      "o\n",
      "hello\n"
     ]
    }
   ],
   "source": [
    "#Iterating over a string\n",
    "word = 'hello'\n",
    "for letter in word:\n",
    "    print(letter)\n",
    "print(word)"
   ]
  },
  {
   "cell_type": "code",
   "execution_count": 14,
   "id": "9d7cc742",
   "metadata": {},
   "outputs": [
    {
     "data": {
      "text/plain": [
       "'datas'"
      ]
     },
     "execution_count": 14,
     "metadata": {},
     "output_type": "execute_result"
    }
   ],
   "source": [
    "\"datas\""
   ]
  },
  {
   "cell_type": "code",
   "execution_count": 15,
   "id": "2e059550",
   "metadata": {},
   "outputs": [
    {
     "name": "stdout",
     "output_type": "stream",
     "text": [
      "d*,a*,t*,a*,s*,"
     ]
    }
   ],
   "source": [
    "for i in \"datas\":\n",
    "  print(i+\"*\", end=\",\")"
   ]
  },
  {
   "cell_type": "code",
   "execution_count": 16,
   "id": "92dbbef4",
   "metadata": {},
   "outputs": [
    {
     "name": "stdout",
     "output_type": "stream",
     "text": [
      "2\n",
      "0\n"
     ]
    }
   ],
   "source": [
    "for i in \"20\":\n",
    "  print(i)"
   ]
  },
  {
   "cell_type": "code",
   "execution_count": 20,
   "id": "afaeecb1",
   "metadata": {},
   "outputs": [
    {
     "name": "stdout",
     "output_type": "stream",
     "text": [
      "10\n",
      "20\n",
      "30\n",
      "40\n",
      "50\n"
     ]
    }
   ],
   "source": [
    "for i in [1,2,3,4,5]:\n",
    "  print(i*10,end ='\\n') #\\n -> next line"
   ]
  },
  {
   "cell_type": "code",
   "execution_count": 19,
   "id": "45555008",
   "metadata": {},
   "outputs": [
    {
     "name": "stdout",
     "output_type": "stream",
     "text": [
      "11\t12\t13\t14\t15\t"
     ]
    }
   ],
   "source": [
    "for i in [1,2,3,4,5]:\n",
    "  print(i+10,end ='\\t')   #t - backslash tab"
   ]
  },
  {
   "cell_type": "code",
   "execution_count": 21,
   "id": "63ba4d01",
   "metadata": {},
   "outputs": [
    {
     "name": "stdout",
     "output_type": "stream",
     "text": [
      "11,12,13,14,15,"
     ]
    }
   ],
   "source": [
    "for i in [1,2,3,4,5]:\n",
    "  print(i+10,end =',')"
   ]
  },
  {
   "cell_type": "code",
   "execution_count": 22,
   "id": "797d8766",
   "metadata": {},
   "outputs": [
    {
     "name": "stdout",
     "output_type": "stream",
     "text": [
      "*****\n",
      "****\n",
      "***\n",
      "**\n",
      "*\n"
     ]
    }
   ],
   "source": [
    "for i in [5,4,3,2,1]:\n",
    "  print(i*\"*\")   #Pattern Programming,"
   ]
  },
  {
   "cell_type": "code",
   "execution_count": 23,
   "id": "dddd599f",
   "metadata": {},
   "outputs": [
    {
     "name": "stdout",
     "output_type": "stream",
     "text": [
      "0,2,4,6,8,"
     ]
    }
   ],
   "source": [
    "for i in range(0,10,2):\n",
    " print(i, end=\",\")"
   ]
  },
  {
   "cell_type": "code",
   "execution_count": 24,
   "id": "fee43709",
   "metadata": {},
   "outputs": [
    {
     "name": "stdout",
     "output_type": "stream",
     "text": [
      "10,9,8,7,6,5,4,3,2,1,"
     ]
    }
   ],
   "source": [
    "for i in range(10, 0, -1):\n",
    "    print(i, end=\",\")"
   ]
  },
  {
   "cell_type": "code",
   "execution_count": 25,
   "id": "5e78add0",
   "metadata": {},
   "outputs": [
    {
     "name": "stdout",
     "output_type": "stream",
     "text": [
      "2,4,6,8,10,"
     ]
    }
   ],
   "source": [
    "#even number\n",
    "for i in range(2,11,2):\n",
    "    print(i, end=\",\")"
   ]
  },
  {
   "cell_type": "code",
   "execution_count": 26,
   "id": "e6d47132",
   "metadata": {},
   "outputs": [
    {
     "name": "stdout",
     "output_type": "stream",
     "text": [
      "1 is odd\n",
      "2  is even\n",
      "3 is odd\n",
      "4  is even\n",
      "5 is odd\n",
      "6  is even\n",
      "7 is odd\n",
      "8  is even\n",
      "9 is odd\n",
      "10  is even\n"
     ]
    }
   ],
   "source": [
    "for i in range(1,11):\n",
    "    if i % 2 == 0:\n",
    "        print(i, \" is even\")\n",
    "    else:\n",
    "        print(i, \"is odd\")"
   ]
  },
  {
   "cell_type": "code",
   "execution_count": 27,
   "id": "9cb11e8c",
   "metadata": {},
   "outputs": [
    {
     "name": "stdout",
     "output_type": "stream",
     "text": [
      "DATA"
     ]
    }
   ],
   "source": [
    "\"\"\"print DATA from DATA1234\"\"\"\n",
    "for i in \"DATA12345\":\n",
    "    if i.isalpha():\n",
    "     print(i,end=\"\")"
   ]
  },
  {
   "cell_type": "code",
   "execution_count": 28,
   "id": "30a3191a",
   "metadata": {},
   "outputs": [
    {
     "name": "stdout",
     "output_type": "stream",
     "text": [
      "12345"
     ]
    }
   ],
   "source": [
    "\"\"\"print 12345 from DATA1234\"\"\"\n",
    "for i in \"DATA12345\":\n",
    "    if i.isnumeric():\n",
    "     print(i,end=\"\")"
   ]
  },
  {
   "cell_type": "code",
   "execution_count": 45,
   "id": "9f028a06",
   "metadata": {},
   "outputs": [
    {
     "name": "stdout",
     "output_type": "stream",
     "text": [
      "! @ % * $ # $ , , , , & * @ @ $ # ^ ^ # & $ & $ "
     ]
    }
   ],
   "source": [
    "data =\"!@%*$#$,1,2,2,&*@@$#^^#&$&$\"\n",
    "for i in data:\n",
    "  if i.isalnum()==False:\n",
    "    print(i,end=\" \")"
   ]
  },
  {
   "cell_type": "code",
   "execution_count": 29,
   "id": "fbadc7ae",
   "metadata": {},
   "outputs": [
    {
     "name": "stdout",
     "output_type": "stream",
     "text": [
      "    *    \n",
      "   ***   \n",
      "  *****  \n",
      " ******* \n",
      "*********\n",
      " ******* \n",
      "  *****  \n",
      "   ***   \n",
      "    *    \n"
     ]
    }
   ],
   "source": [
    "n = 5  # Number of rows for the upper half\n",
    "\n",
    "# Upper part of the diamond\n",
    "for i in range(1, n + 1):\n",
    "    print((\"*\" * (2 * i - 1)).center(2 * n - 1))\n",
    "\n",
    "# Lower part of the diamond\n",
    "for j in range(n - 1, 0, -1):  #range(4,0,-1) --> 4,3,2,1\n",
    "    print((\"*\" * (2 * j - 1)).center(2 * n - 1))"
   ]
  },
  {
   "cell_type": "code",
   "execution_count": 38,
   "id": "96df2261",
   "metadata": {},
   "outputs": [
    {
     "name": "stdout",
     "output_type": "stream",
     "text": [
      "    *\n",
      "   ***\n",
      "  *****\n",
      " *******\n",
      "*********\n",
      " *******\n",
      "  *****\n",
      "   ***\n",
      "    *\n"
     ]
    }
   ],
   "source": [
    "#another approach for print diamond pattern\n",
    "n=5\n",
    "\n",
    "#upper half\n",
    "for i in range(n):\n",
    "    print(' '*(n-i-1)+'*'*(2*i+1))\n",
    "\n",
    "#lower half\n",
    "for i in range(n-2,-1,-1):\n",
    "    print(' ' * (n - i - 1) + '*' * (2 * i + 1))\n"
   ]
  },
  {
   "cell_type": "code",
   "execution_count": 39,
   "id": "17441806",
   "metadata": {},
   "outputs": [
    {
     "name": "stdout",
     "output_type": "stream",
     "text": [
      "3\n",
      "33\n",
      "333\n",
      "3333\n",
      "33333\n"
     ]
    }
   ],
   "source": [
    "for i in [1,2,3,4,5]:\n",
    "  print(i*\"3\")"
   ]
  },
  {
   "cell_type": "code",
   "execution_count": 42,
   "id": "b6c62188",
   "metadata": {},
   "outputs": [
    {
     "name": "stdout",
     "output_type": "stream",
     "text": [
      "0,1,2,3,4,5,6,7,8,9,"
     ]
    }
   ],
   "source": [
    "for i in range(0,10):  #0,1,2,3,4,5,6,7,8,9\n",
    "  print(i,end=',')"
   ]
  },
  {
   "cell_type": "code",
   "execution_count": 43,
   "id": "b7ca20de",
   "metadata": {},
   "outputs": [
    {
     "name": "stdout",
     "output_type": "stream",
     "text": [
      "0 3 6 9 "
     ]
    }
   ],
   "source": [
    "for i in range(0,10,3):  #step size\n",
    "  print(i,end=' ')"
   ]
  },
  {
   "cell_type": "code",
   "execution_count": 44,
   "id": "0eff6490",
   "metadata": {},
   "outputs": [
    {
     "name": "stdout",
     "output_type": "stream",
     "text": [
      "10,9,8,7,6,5,4,3,2,1,"
     ]
    }
   ],
   "source": [
    "for i in range(10,0,-1):  #step size\n",
    "  print(i,end=',')"
   ]
  },
  {
   "cell_type": "code",
   "execution_count": 55,
   "id": "43d739bd",
   "metadata": {},
   "outputs": [
    {
     "name": "stdout",
     "output_type": "stream",
     "text": [
      "*\n",
      "**\n",
      "***\n",
      "****\n",
      "*****\n",
      "****\n",
      "***\n",
      "**\n",
      "*\n"
     ]
    }
   ],
   "source": [
    "# *\n",
    "# **\n",
    "# ***\n",
    "# ****\n",
    "# *****\n",
    "# ****\n",
    "# ***\n",
    "# **\n",
    "# *\n",
    "#another approach for print diamond pattern\n",
    "n=5\n",
    "\n",
    "#upper half\n",
    "for i in range(n):\n",
    "    print('*'*(i+1))\n",
    "\n",
    "#lower half\n",
    "for i in range(n-2,-1,-1):\n",
    "    print('*' * (i + 1))"
   ]
  },
  {
   "cell_type": "code",
   "execution_count": 56,
   "id": "3c46e4cd",
   "metadata": {},
   "outputs": [],
   "source": [
    "data =\"Data Science Machine Learning\""
   ]
  },
  {
   "cell_type": "code",
   "execution_count": 57,
   "id": "13f4d871",
   "metadata": {},
   "outputs": [
    {
     "name": "stdout",
     "output_type": "stream",
     "text": [
      "1 28 D\n",
      "2 27 a\n",
      "3 26 t\n",
      "4 25 a\n",
      "5 24  \n",
      "6 23 S\n",
      "7 22 c\n",
      "8 21 i\n",
      "9 20 e\n",
      "10 19 n\n",
      "11 18 c\n",
      "12 17 e\n",
      "13 16  \n",
      "14 15 M\n",
      "15 14 a\n",
      "16 13 c\n",
      "17 12 h\n",
      "18 11 i\n",
      "19 10 n\n",
      "20 9 e\n",
      "21 8  \n",
      "22 7 L\n",
      "23 6 e\n",
      "24 5 a\n",
      "25 4 r\n",
      "26 3 n\n",
      "27 2 i\n",
      "28 1 n\n",
      "29 0 g\n"
     ]
    }
   ],
   "source": [
    "x=0\n",
    "y=len(data)\n",
    "for i in data:\n",
    "  x = x+1\n",
    "  y=y-1\n",
    "  print(x,y,i)"
   ]
  },
  {
   "cell_type": "code",
   "execution_count": null,
   "id": "cbe964ff",
   "metadata": {},
   "outputs": [],
   "source": []
  }
 ],
 "metadata": {
  "kernelspec": {
   "display_name": "Python 3",
   "language": "python",
   "name": "python3"
  },
  "language_info": {
   "codemirror_mode": {
    "name": "ipython",
    "version": 3
   },
   "file_extension": ".py",
   "mimetype": "text/x-python",
   "name": "python",
   "nbconvert_exporter": "python",
   "pygments_lexer": "ipython3",
   "version": "3.13.3"
  }
 },
 "nbformat": 4,
 "nbformat_minor": 5
}
