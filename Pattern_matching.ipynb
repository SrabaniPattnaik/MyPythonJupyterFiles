{
 "cells": [
  {
   "cell_type": "code",
   "execution_count": 2,
   "id": "c2f46794-5b25-4ad3-8a43-e43ef6d48e28",
   "metadata": {},
   "outputs": [
    {
     "name": "stdout",
     "output_type": "stream",
     "text": [
      "*\n",
      "**\n",
      "***\n",
      "****\n",
      "*****\n",
      "******\n",
      "*******\n"
     ]
    }
   ],
   "source": [
    "\"\"\"*\n",
    "   **\n",
    "   ***\n",
    "   ****\n",
    "   *****\n",
    "   ******\n",
    "   ******* \"\"\"\n",
    "\n",
    "for i in range (1,8):\n",
    "    print(i *  \"*\")"
   ]
  },
  {
   "cell_type": "code",
   "execution_count": 3,
   "id": "254c6367-4dd0-4231-a0f2-3870f4a90691",
   "metadata": {},
   "outputs": [
    {
     "name": "stdout",
     "output_type": "stream",
     "text": [
      "*******\n",
      "******\n",
      "*****\n",
      "****\n",
      "***\n",
      "**\n",
      "*\n",
      "\n"
     ]
    }
   ],
   "source": [
    "\"\"\"*******\n",
    "   ******\n",
    "   *****\n",
    "   ****\n",
    "   ***\n",
    "   **\n",
    "   *   \"\"\"\n",
    "\n",
    "for i in range (7,-1,-1):\n",
    "    print(i * \"*\")"
   ]
  },
  {
   "cell_type": "code",
   "execution_count": 4,
   "id": "782d9fc6-34ba-4991-86e1-796eabb8cfb4",
   "metadata": {},
   "outputs": [
    {
     "name": "stdout",
     "output_type": "stream",
     "text": [
      "*\n",
      "**\n",
      "***\n",
      "****\n",
      "*****\n",
      "******\n",
      "*******\n",
      "******\n",
      "*****\n",
      "****\n",
      "***\n",
      "**\n",
      "*\n",
      "\n"
     ]
    }
   ],
   "source": [
    "\"\"\"*\n",
    "   **\n",
    "   ***\n",
    "   ****\n",
    "   *****\n",
    "   ******\n",
    "   *******\n",
    "   ******\n",
    "   *****\n",
    "   ****\n",
    "   ***\n",
    "   **\n",
    "   *   \"\"\"\n",
    "\n",
    "for i in range (1,8):\n",
    "    print(i *  \"*\")\n",
    "for i in range (6,-1,-1):\n",
    "    print(i * \"*\")"
   ]
  },
  {
   "cell_type": "code",
   "execution_count": 5,
   "id": "4ac6f70d-5f91-478e-88e1-d4ea145ce5a6",
   "metadata": {},
   "outputs": [
    {
     "name": "stdout",
     "output_type": "stream",
     "text": [
      "       *\n",
      "      ***\n",
      "     *****\n",
      "    *******\n",
      "   *********\n",
      "  ***********\n"
     ]
    }
   ],
   "source": [
    "\"\"\"    *\n",
    "      ***\n",
    "     *****\n",
    "    *******\n",
    "   *********\n",
    "  ***********  \"\"\"\n",
    "for i in range (6):\n",
    "    print(\" \" * (6-i), \"*\" * (2*i +1))"
   ]
  },
  {
   "cell_type": "code",
   "execution_count": 6,
   "id": "83cc16ae-c6b4-43bd-86a7-42f3ad79e23a",
   "metadata": {},
   "outputs": [
    {
     "name": "stdout",
     "output_type": "stream",
     "text": [
      "  ***********\n",
      "   *********\n",
      "    *******\n",
      "     *****\n",
      "      ***\n",
      "       *\n"
     ]
    }
   ],
   "source": [
    "\"\"\"   ***********\n",
    "       *********\n",
    "        *******\n",
    "         *****\n",
    "          ***\n",
    "           *  \"\"\"\n",
    "for j in range (5,-1,-1):\n",
    "    print(\" \" * (6-j), \"*\" * (2*j +1))"
   ]
  },
  {
   "cell_type": "code",
   "execution_count": 7,
   "id": "7aef20b2-f493-44c5-ab4d-fe999bc98c37",
   "metadata": {},
   "outputs": [
    {
     "name": "stdout",
     "output_type": "stream",
     "text": [
      "       *\n",
      "      ***\n",
      "     *****\n",
      "    *******\n",
      "   *********\n",
      "  ***********\n",
      " *************\n",
      "  ***********\n",
      "   *********\n",
      "    *******\n",
      "     *****\n",
      "      ***\n",
      "       *\n"
     ]
    }
   ],
   "source": [
    "\"\"\"    *\n",
    "      ***\n",
    "     *****\n",
    "    *******\n",
    "   *********\n",
    "  ***********\n",
    "   *********\n",
    "    *******\n",
    "     *****\n",
    "      ***\n",
    "       *    \"\"\"\n",
    "i=5\n",
    "for i in range (6):\n",
    "    print(\" \" * (6-i), \"*\" * (2*i +1))\n",
    "for j in range (6, -1, -1):\n",
    "    print(\" \" * (6-j), \"*\" * (2*j +1))"
   ]
  },
  {
   "cell_type": "code",
   "execution_count": 8,
   "id": "56fe22b6-9c79-4505-a970-b76f320ea39d",
   "metadata": {},
   "outputs": [
    {
     "name": "stdout",
     "output_type": "stream",
     "text": [
      "       *\n",
      "      ***\n",
      "     *****\n",
      "    *******\n",
      "   *********\n",
      "  ***********\n",
      "   *********\n",
      "    *******\n",
      "     *****\n",
      "      ***\n",
      "       *\n"
     ]
    }
   ],
   "source": [
    "#OR\n",
    "\n",
    "for i in range (6):\n",
    "    print(\" \" * (6-i), \"*\" * (2*i +1))\n",
    "for j in range (4, -1, -1):\n",
    "    print(\" \" * (6-j), \"*\" * (2*j +1))"
   ]
  },
  {
   "cell_type": "code",
   "execution_count": 9,
   "id": "e2e9c957-7cd9-4e3f-956b-424de9d138d9",
   "metadata": {},
   "outputs": [
    {
     "name": "stdout",
     "output_type": "stream",
     "text": [
      "       *\n",
      "      ***\n",
      "     *****\n",
      "    *******\n",
      "   *********\n",
      "  ***********\n",
      "   *********\n",
      "    *******\n",
      "     *****\n",
      "      ***\n",
      "       *\n"
     ]
    }
   ],
   "source": [
    "#OR\n",
    " \n",
    "for i in range(1,7):\n",
    "    print(\" \" * (7-i), \"*\" * (2*i -1))\n",
    "for j in range (4,-1,-1):\n",
    "    print(\" \" * (6-j), \"*\" * (2*j+1))"
   ]
  },
  {
   "cell_type": "code",
   "execution_count": 11,
   "id": "8952c931-aaeb-4c9e-9e96-38e1ece6996d",
   "metadata": {},
   "outputs": [
    {
     "name": "stdout",
     "output_type": "stream",
     "text": [
      "1 \n",
      "2 2 \n",
      "3 3 3 \n",
      "4 4 4 4 \n",
      "5 5 5 5 5 \n"
     ]
    }
   ],
   "source": [
    "for i in range (1,6):\n",
    "     for j in range(i):\n",
    "         print(i,end=\" \")\n",
    "     print()\n"
   ]
  },
  {
   "cell_type": "code",
   "execution_count": 13,
   "id": "297f0534",
   "metadata": {},
   "outputs": [
    {
     "name": "stdout",
     "output_type": "stream",
     "text": [
      "1 \n",
      "2 2 \n",
      "3 3 3 \n",
      "4 4 4 4 \n",
      "5 5 5 5 5 \n"
     ]
    }
   ],
   "source": [
    "for i in range (1,6):\n",
    "    for j in range(1, i+1):\n",
    "        print(i,end=' ')\n",
    "    print()"
   ]
  },
  {
   "cell_type": "code",
   "execution_count": 14,
   "id": "baafe876",
   "metadata": {},
   "outputs": [
    {
     "name": "stdout",
     "output_type": "stream",
     "text": [
      "      1 \n",
      "     2 2 \n",
      "    3 3 3 \n",
      "   4 4 4 4 \n"
     ]
    }
   ],
   "source": [
    "for i in range (1,5):\n",
    "    print(\" \"*(6-i), end =\" \")\n",
    "    for j in range (1, i+1):\n",
    "        print(i,end=' ')\n",
    "    print()"
   ]
  },
  {
   "cell_type": "code",
   "execution_count": 15,
   "id": "5b125f13",
   "metadata": {},
   "outputs": [
    {
     "name": "stdout",
     "output_type": "stream",
     "text": [
      "1 \n",
      "1 2 \n",
      "1 2 3 \n",
      "1 2 3 4 \n"
     ]
    }
   ],
   "source": [
    "for i in range (1,5):\n",
    "    for j in range(1,i+1):\n",
    "        print(j,end=\" \")\n",
    "    print()"
   ]
  }
 ],
 "metadata": {
  "kernelspec": {
   "display_name": "Python 3",
   "language": "python",
   "name": "python3"
  },
  "language_info": {
   "codemirror_mode": {
    "name": "ipython",
    "version": 3
   },
   "file_extension": ".py",
   "mimetype": "text/x-python",
   "name": "python",
   "nbconvert_exporter": "python",
   "pygments_lexer": "ipython3",
   "version": "3.12.7"
  }
 },
 "nbformat": 4,
 "nbformat_minor": 5
}
