{
 "cells": [
  {
   "cell_type": "code",
   "execution_count": 35,
   "id": "f6ea7c36-55cb-4779-b080-d3f123de473b",
   "metadata": {},
   "outputs": [
    {
     "name": "stdout",
     "output_type": "stream",
     "text": [
      "addition: 6 + 5 = 11\n"
     ]
    }
   ],
   "source": [
    "import math\n",
    "# addition\n",
    "x=6\n",
    "y=5\n",
    "addition = x+y\n",
    "print(f\"addition: {x} + {y} = {addition}\")"
   ]
  },
  {
   "cell_type": "code",
   "execution_count": 2,
   "id": "3f1752a8-bb33-4bc7-a73d-e92ca55d17df",
   "metadata": {},
   "outputs": [
    {
     "name": "stdout",
     "output_type": "stream",
     "text": [
      "subtraction: 6 - 5 = 1\n"
     ]
    }
   ],
   "source": [
    "# subtraction\n",
    "subtraction = x-y\n",
    "print(f\"subtraction: {x} - {y} = {subtraction}\")"
   ]
  },
  {
   "cell_type": "code",
   "execution_count": 3,
   "id": "30a740e4-0da7-40ef-9593-dfb7836f7129",
   "metadata": {},
   "outputs": [
    {
     "name": "stdout",
     "output_type": "stream",
     "text": [
      "multiplication: 6 * 5 = 30\n"
     ]
    }
   ],
   "source": [
    "#multiplication\n",
    "multiplication = x*y\n",
    "print(f\"multiplication: {x} * {y} = {multiplication}\")"
   ]
  },
  {
   "cell_type": "code",
   "execution_count": 4,
   "id": "686a6d5a-1b27-49f8-b269-1e5f3c31637a",
   "metadata": {},
   "outputs": [
    {
     "name": "stdout",
     "output_type": "stream",
     "text": [
      "division: 6 / 5 = 1.2\n"
     ]
    }
   ],
   "source": [
    "#division\n",
    "division = x/y\n",
    "print(f\"division: {x} / {y} = {division}\")"
   ]
  },
  {
   "cell_type": "code",
   "execution_count": 5,
   "id": "aa788b5d-e0fd-4e12-b30d-687ec4a23401",
   "metadata": {},
   "outputs": [
    {
     "name": "stdout",
     "output_type": "stream",
     "text": [
      "modulus: 6 % 5 = 1\n"
     ]
    }
   ],
   "source": [
    "#modulus\n",
    "modulus = x%y\n",
    "print(f\"modulus: {x} % {y} = {modulus}\")"
   ]
  },
  {
   "cell_type": "code",
   "execution_count": 6,
   "id": "acaba2cd-1f7a-4aed-a2d3-fa5f01355b92",
   "metadata": {},
   "outputs": [
    {
     "name": "stdout",
     "output_type": "stream",
     "text": [
      "exponentiation: 6 ** 5 = 7776\n"
     ]
    }
   ],
   "source": [
    "\"\"\"exponentiation\n",
    "firstno will be base and 2nd no will be power\"\"\"\n",
    "exponention = x**y\n",
    "print(f\"exponentiation: {x} ** {y} = {exponention}\")"
   ]
  },
  {
   "cell_type": "code",
   "execution_count": 7,
   "id": "b2fd0613-7dd8-4d86-a36c-4903a8c92148",
   "metadata": {},
   "outputs": [
    {
     "name": "stdout",
     "output_type": "stream",
     "text": [
      "floor division: 6 // 5 = 1\n"
     ]
    }
   ],
   "source": [
    "\"\"\"floor division\n",
    "divides 1st no by the 2nd no and returns the closest integer less than or equal to the result\"\"\"\n",
    "floor_division = x//y\n",
    "print(f\"floor division: {x} // {y} = {floor_division}\")"
   ]
  },
  {
   "cell_type": "code",
   "execution_count": 8,
   "id": "d2ef7017-dfa1-4d7f-b721-5efefcb8c209",
   "metadata": {},
   "outputs": [
    {
     "name": "stdout",
     "output_type": "stream",
     "text": [
      "40 + 5 = 45\n",
      "40 - 5 = 35\n",
      "40  5 = 200\n",
      "40 / 5 = 8.0\n",
      "40 ** 5 = 102400000\n",
      "40 // 5 = 8\n"
     ]
    }
   ],
   "source": [
    " a=40\n",
    " b=5\n",
    " addition=a+b\n",
    " print(f\"{a} + {b} = {addition}\")\n",
    " subtraction=a-b\n",
    " print(f\"{a} - {b} = {subtraction}\")\n",
    " mult=a*b\n",
    " print(f\"{a}  {b} = {mult}\")\n",
    " division=a/b\n",
    " print(f\"{a} / {b} = {division}\")\n",
    " exp=a**b\n",
    " print(f\"{a} ** {b} = {exp}\")\n",
    " FD=a//b\n",
    " print(f\"{a} // {b} = {FD}\")"
   ]
  },
  {
   "cell_type": "code",
   "execution_count": 11,
   "id": "3c6e1ed1-99e7-4b92-9776-b2bc7eef045e",
   "metadata": {},
   "outputs": [
    {
     "name": "stdout",
     "output_type": "stream",
     "text": [
      "5\n",
      "10\n"
     ]
    },
    {
     "data": {
      "text/plain": [
       "'python follows overriding'"
      ]
     },
     "execution_count": 11,
     "metadata": {},
     "output_type": "execute_result"
    }
   ],
   "source": [
    "# = OPERATOR\n",
    "x=5\n",
    "print(x) \n",
    "x=10\n",
    "print(x)  x=10\n",
    "\"\"\"x += 3\n",
    "print(x)\"\"\"\n",
    "\n",
    "\"\"\"python follows overriding\"\"\""
   ]
  },
  {
   "cell_type": "code",
   "execution_count": 12,
   "id": "8e687918-0a97-4306-b588-5d25a4ad66dd",
   "metadata": {},
   "outputs": [
    {
     "name": "stdout",
     "output_type": "stream",
     "text": [
      "13\n"
     ]
    }
   ],
   "source": [
    " x=10\n",
    " x += 3\n",
    "print(x)"
   ]
  },
  {
   "cell_type": "code",
   "execution_count": 13,
   "id": "d18a8d37-9cd1-4639-a3a2-57dc28eaee2e",
   "metadata": {},
   "outputs": [
    {
     "name": "stdout",
     "output_type": "stream",
     "text": [
      "10\n"
     ]
    }
   ],
   "source": [
    "x-= 3\n",
    "print(x)"
   ]
  },
  {
   "cell_type": "code",
   "execution_count": 14,
   "id": "20e9d653-9a0f-4cf4-a380-79fa3490cf12",
   "metadata": {},
   "outputs": [
    {
     "name": "stdout",
     "output_type": "stream",
     "text": [
      "3.3333333333333335\n"
     ]
    }
   ],
   "source": [
    "x/= 3\n",
    "print(x)"
   ]
  },
  {
   "cell_type": "code",
   "execution_count": 15,
   "id": "049df433-cb72-4660-ae06-3d2a4d3a7b9d",
   "metadata": {},
   "outputs": [
    {
     "name": "stdout",
     "output_type": "stream",
     "text": [
      "10.0\n"
     ]
    }
   ],
   "source": [
    "x*= 3\n",
    "print(x)"
   ]
  },
  {
   "cell_type": "code",
   "execution_count": 16,
   "id": "714064ee-0450-4132-aa03-9e48ea0ca44a",
   "metadata": {},
   "outputs": [
    {
     "name": "stdout",
     "output_type": "stream",
     "text": [
      "1.0\n"
     ]
    }
   ],
   "source": [
    "x%= 3\n",
    "print(x)"
   ]
  },
  {
   "cell_type": "code",
   "execution_count": 17,
   "id": "90062d97-4701-4661-9028-47862235818a",
   "metadata": {},
   "outputs": [
    {
     "name": "stdout",
     "output_type": "stream",
     "text": [
      "1\n"
     ]
    }
   ],
   "source": [
    "y=16\n",
    "y//= 16\n",
    "print(y)"
   ]
  },
  {
   "cell_type": "code",
   "execution_count": 18,
   "id": "e7f2c6c2-f3e4-4f86-ba80-2e53440028aa",
   "metadata": {},
   "outputs": [
    {
     "data": {
      "text/plain": [
       "'Bitwise AND Assignment'"
      ]
     },
     "execution_count": 18,
     "metadata": {},
     "output_type": "execute_result"
    }
   ],
   "source": [
    "\"\"\"Bitwise AND Assignment\"\"\""
   ]
  },
  {
   "cell_type": "code",
   "execution_count": 19,
   "id": "11046005-ad40-413c-a634-3abf7fb72047",
   "metadata": {},
   "outputs": [
    {
     "name": "stdout",
     "output_type": "stream",
     "text": [
      "1\n"
     ]
    },
    {
     "data": {
      "text/plain": [
       "'0b1'"
      ]
     },
     "execution_count": 19,
     "metadata": {},
     "output_type": "execute_result"
    }
   ],
   "source": [
    "x = 5  #0101\n",
    "x &=3  #0011  (equivalent to x = x & 3)\n",
    "print(x)\n",
    "bin(x)"
   ]
  },
  {
   "cell_type": "code",
   "execution_count": 20,
   "id": "8051f01a-a0ea-4bda-929b-47f947f66d90",
   "metadata": {},
   "outputs": [
    {
     "data": {
      "text/plain": [
       "'Bitwise OR(|) operator'"
      ]
     },
     "execution_count": 20,
     "metadata": {},
     "output_type": "execute_result"
    }
   ],
   "source": [
    "\"\"\"Bitwise OR(|) operator\"\"\""
   ]
  },
  {
   "cell_type": "code",
   "execution_count": 21,
   "id": "bad0838c-7be4-4bac-987f-7cf2d933285e",
   "metadata": {},
   "outputs": [
    {
     "name": "stdout",
     "output_type": "stream",
     "text": [
      "7\n"
     ]
    },
    {
     "data": {
      "text/plain": [
       "'0b111'"
      ]
     },
     "execution_count": 21,
     "metadata": {},
     "output_type": "execute_result"
    }
   ],
   "source": [
    " x = 5\n",
    " x |= 6\n",
    " print(x)\n",
    " bin(x)"
   ]
  },
  {
   "cell_type": "code",
   "execution_count": 22,
   "id": "7790614c-0ab8-4b7d-8654-75476c38f7c3",
   "metadata": {},
   "outputs": [
    {
     "data": {
      "text/plain": [
       "'Bitwise XOR ( ^ ) Operator'"
      ]
     },
     "execution_count": 22,
     "metadata": {},
     "output_type": "execute_result"
    }
   ],
   "source": [
    "\"\"\"Bitwise XOR ( ^ ) Operator\"\"\""
   ]
  },
  {
   "cell_type": "code",
   "execution_count": 24,
   "id": "73cdf15b-106e-43be-8a15-7de6af67d8c0",
   "metadata": {},
   "outputs": [
    {
     "name": "stdout",
     "output_type": "stream",
     "text": [
      "6\n"
     ]
    },
    {
     "data": {
      "text/plain": [
       "'0b110'"
      ]
     },
     "execution_count": 24,
     "metadata": {},
     "output_type": "execute_result"
    }
   ],
   "source": [
    "x = 5\n",
    "x ^= 3\n",
    "print(x)\n",
    "bin(x)"
   ]
  },
  {
   "cell_type": "code",
   "execution_count": 25,
   "id": "e651048f-3d2a-4937-9792-e4963e6ba76e",
   "metadata": {},
   "outputs": [
    {
     "data": {
      "text/plain": [
       "'0b1111'"
      ]
     },
     "execution_count": 25,
     "metadata": {},
     "output_type": "execute_result"
    }
   ],
   "source": [
    "x = 15\n",
    "bin(x)\n",
    "\n"
   ]
  },
  {
   "cell_type": "code",
   "execution_count": 26,
   "id": "c80f154f-2fe9-4bbb-984c-e711a7e71d0b",
   "metadata": {},
   "outputs": [
    {
     "name": "stdout",
     "output_type": "stream",
     "text": [
      "71\n"
     ]
    }
   ],
   "source": [
    "y = int('1000111', 2)\n",
    "print(y)"
   ]
  },
  {
   "cell_type": "code",
   "execution_count": 27,
   "id": "44988f5c-4be5-4a36-b527-aa019d233d50",
   "metadata": {},
   "outputs": [],
   "source": [
    "# Comparision Operator\n",
    "# Comparision used to compare 2 values"
   ]
  },
  {
   "cell_type": "code",
   "execution_count": 28,
   "id": "f12ffebb-ed22-4bb4-a2f5-c5718eb57a16",
   "metadata": {},
   "outputs": [],
   "source": [
    "# Logical Operator\n",
    "# Logical Operator is used to combine conditional statements"
   ]
  },
  {
   "cell_type": "code",
   "execution_count": 29,
   "id": "1cab6ba8-8b5d-43d9-a48e-622a8caf9ef3",
   "metadata": {},
   "outputs": [
    {
     "name": "stdout",
     "output_type": "stream",
     "text": [
      "True\n",
      "False\n",
      "False\n",
      "False\n"
     ]
    }
   ],
   "source": [
    " x = 5\n",
    " y = 10\n",
    "print(x > 2 and y < 15)     # true and true >>> true\n",
    "print(x > 2 and y > 15)     # true and false >>> false\n",
    "print(x < 2 and y > 15)     # false and false >>> false\n",
    "print(x < 2 and y < 15)     # false and true >>> false"
   ]
  },
  {
   "cell_type": "code",
   "execution_count": 30,
   "id": "694fc527-75d1-40c1-bc15-1659ecc972b3",
   "metadata": {},
   "outputs": [
    {
     "name": "stdout",
     "output_type": "stream",
     "text": [
      "True\n",
      "True\n",
      "False\n",
      "True\n"
     ]
    }
   ],
   "source": [
    "print(x > 2 or y < 15)      # true or true >>> true\n",
    "print(x > 2 or y > 15)      # true or false >>> true\n",
    "print(x < 2 or y > 15)      # false or false >>> false\n",
    "print(x < 2 or y < 15)      # false or true >>> true"
   ]
  },
  {
   "cell_type": "code",
   "execution_count": 31,
   "id": "dfe566df-190a-4b18-8e96-3437d9caf887",
   "metadata": {},
   "outputs": [],
   "source": [
    "\n",
    "# Is Operator"
   ]
  },
  {
   "cell_type": "code",
   "execution_count": 32,
   "id": "9a7ac72a-5c04-4819-80fc-e86a8c8ba1cf",
   "metadata": {},
   "outputs": [
    {
     "name": "stdout",
     "output_type": "stream",
     "text": [
      "True\n",
      "False\n",
      "False\n"
     ]
    }
   ],
   "source": [
    "a = [1, 2, 3]\n",
    "b = a\n",
    "c = [4, 5, 6]\n",
    "d = c\n",
    "print(a is b)\n",
    "print(c is a)\n",
    "print(c is not d)"
   ]
  },
  {
   "cell_type": "code",
   "execution_count": 33,
   "id": "837ca6de-3a27-4b24-a8bd-b3daa614ef99",
   "metadata": {},
   "outputs": [],
   "source": [
    "# cached range in python (-5 to 256)"
   ]
  },
  {
   "cell_type": "code",
   "execution_count": 39,
   "id": "44ae23c8-6ab9-41c2-a2ea-d89b618e3c4d",
   "metadata": {},
   "outputs": [
    {
     "name": "stdout",
     "output_type": "stream",
     "text": [
      "4\n"
     ]
    }
   ],
   "source": [
    "print(math.ceil(3.1))\n"
   ]
  },
  {
   "cell_type": "code",
   "execution_count": 41,
   "id": "663f882f-ba2a-429f-bbdc-135ad7ae753b",
   "metadata": {},
   "outputs": [
    {
     "name": "stdout",
     "output_type": "stream",
     "text": [
      "9.610000000000001\n"
     ]
    }
   ],
   "source": [
    "print(math.pow(3.1,2))"
   ]
  },
  {
   "cell_type": "code",
   "execution_count": null,
   "id": "c454e07e-872e-486b-9feb-0423a4a0f03c",
   "metadata": {},
   "outputs": [],
   "source": []
  }
 ],
 "metadata": {
  "kernelspec": {
   "display_name": "Python 3 (ipykernel)",
   "language": "python",
   "name": "python3"
  },
  "language_info": {
   "codemirror_mode": {
    "name": "ipython",
    "version": 3
   },
   "file_extension": ".py",
   "mimetype": "text/x-python",
   "name": "python",
   "nbconvert_exporter": "python",
   "pygments_lexer": "ipython3",
   "version": "3.12.7"
  }
 },
 "nbformat": 4,
 "nbformat_minor": 5
}
