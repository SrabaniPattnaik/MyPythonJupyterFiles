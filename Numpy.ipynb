{
 "cells": [
  {
   "cell_type": "markdown",
   "id": "3b42edc0",
   "metadata": {},
   "source": [
    "# NUMPY\n",
    "   is a powerful library for numerical computations in Python.\n",
    "    It provides support for arrays, matrices, and\n",
    "    many mathematical functions to operate on these data structures."
   ]
  },
  {
   "cell_type": "code",
   "execution_count": 6,
   "id": "791b7e13",
   "metadata": {},
   "outputs": [
    {
     "name": "stdout",
     "output_type": "stream",
     "text": [
      "1.0\n",
      "2.0\n",
      "3.0\n",
      "4.0\n",
      "5.0\n"
     ]
    }
   ],
   "source": [
    "#to get the division of all elements we have to iterate it using for loop\n",
    "x =[2,4,6,8,10]\n",
    "for i in x:\n",
    "  print(i/2)"
   ]
  },
  {
   "cell_type": "code",
   "execution_count": 7,
   "id": "d380d871",
   "metadata": {},
   "outputs": [
    {
     "ename": "TypeError",
     "evalue": "unsupported operand type(s) for /: 'list' and 'int'",
     "output_type": "error",
     "traceback": [
      "\u001b[31m---------------------------------------------------------------------------\u001b[39m",
      "\u001b[31mTypeError\u001b[39m                                 Traceback (most recent call last)",
      "\u001b[36mCell\u001b[39m\u001b[36m \u001b[39m\u001b[32mIn[7]\u001b[39m\u001b[32m, line 1\u001b[39m\n\u001b[32m----> \u001b[39m\u001b[32m1\u001b[39m \u001b[43mx\u001b[49m\u001b[43m/\u001b[49m\u001b[32;43m2\u001b[39;49m \u001b[38;5;66;03m#here we cannot use as the above code is iterated in a particular block\u001b[39;00m\n",
      "\u001b[31mTypeError\u001b[39m: unsupported operand type(s) for /: 'list' and 'int'"
     ]
    }
   ],
   "source": [
    "x/2 #here we cannot use as the above code is iterated in a particular block"
   ]
  },
  {
   "cell_type": "code",
   "execution_count": null,
   "id": "b86f3f20",
   "metadata": {},
   "outputs": [],
   "source": [
    "# So to make it happen and get the code easier we will use the NUMPY module"
   ]
  },
  {
   "cell_type": "code",
   "execution_count": null,
   "id": "a9048723",
   "metadata": {},
   "outputs": [
    {
     "name": "stdout",
     "output_type": "stream",
     "text": [
      "[ 2  4  6  8 10]\n"
     ]
    }
   ],
   "source": [
    "import numpy as np\n",
    "x=np.array([2,4,6,8,10])\n",
    "\n",
    "print(x) "
   ]
  },
  {
   "cell_type": "code",
   "execution_count": null,
   "id": "ae0195ab",
   "metadata": {},
   "outputs": [
    {
     "data": {
      "text/plain": [
       "array([ 4,  8, 12, 16, 20])"
      ]
     },
     "execution_count": 6,
     "metadata": {},
     "output_type": "execute_result"
    }
   ],
   "source": [
    "x*2 #as we have used the numpy module we can call the variable and can do any calculation in it"
   ]
  },
  {
   "cell_type": "code",
   "execution_count": null,
   "id": "f13cf3fa",
   "metadata": {},
   "outputs": [
    {
     "data": {
      "text/plain": [
       "numpy.ndarray"
      ]
     },
     "execution_count": 7,
     "metadata": {},
     "output_type": "execute_result"
    }
   ],
   "source": [
    "type(x)"
   ]
  },
  {
   "cell_type": "code",
   "execution_count": null,
   "id": "f3ff69aa",
   "metadata": {},
   "outputs": [],
   "source": [
    "#Numpy has Rich set of NumPy Functions:\n",
    "\n",
    "## Set1 = Random Functions:"
   ]
  },
  {
   "cell_type": "code",
   "execution_count": null,
   "id": "781fdfd6",
   "metadata": {},
   "outputs": [
    {
     "data": {
      "text/plain": [
       "array([7, 9, 7, 0, 9, 0], dtype=int32)"
      ]
     },
     "execution_count": 14,
     "metadata": {},
     "output_type": "execute_result"
    }
   ],
   "source": [
    "import numpy as np\n",
    "np.random.randint(0,10,6)   #randint will generate randopm integer numbers in range of 0 t0 10 , the number of elements it will print is 6"
   ]
  },
  {
   "cell_type": "code",
   "execution_count": null,
   "id": "bd924c9f",
   "metadata": {},
   "outputs": [
    {
     "data": {
      "text/plain": [
       "array([[1, 7, 4, 0],\n",
       "       [2, 5, 4, 2],\n",
       "       [2, 6, 8, 5]], dtype=int32)"
      ]
     },
     "execution_count": 18,
     "metadata": {},
     "output_type": "execute_result"
    }
   ],
   "source": [
    "array=np.random.randint(0,10,(3,4)) # range is 1 to 10 and (3,4) is the no. of rows and columns i.e, it will generate a 3x4 matrix\n",
    "array"
   ]
  },
  {
   "cell_type": "code",
   "execution_count": null,
   "id": "4595c682",
   "metadata": {},
   "outputs": [
    {
     "data": {
      "text/plain": [
       "array([[4, 6, 8],\n",
       "       [9, 2, 2]], dtype=int32)"
      ]
     },
     "execution_count": 17,
     "metadata": {},
     "output_type": "execute_result"
    }
   ],
   "source": [
    "np.random.randint(0,10,(2,3)) "
   ]
  },
  {
   "cell_type": "code",
   "execution_count": null,
   "id": "5e418afc",
   "metadata": {},
   "outputs": [
    {
     "data": {
      "text/plain": [
       "array([168, 173], dtype=int32)"
      ]
     },
     "execution_count": 21,
     "metadata": {},
     "output_type": "execute_result"
    }
   ],
   "source": [
    "np.random.randint(100,200,2) #it will generate random 2 numbers from 100 to 200"
   ]
  },
  {
   "cell_type": "code",
   "execution_count": null,
   "id": "7e9f5e0e",
   "metadata": {},
   "outputs": [
    {
     "data": {
      "text/plain": [
       "array([[2, 5],\n",
       "       [2, 6]], dtype=int32)"
      ]
     },
     "execution_count": 22,
     "metadata": {},
     "output_type": "execute_result"
    }
   ],
   "source": [
    "#Numpy slicing\n",
    "array[1: ,0:2]"
   ]
  },
  {
   "cell_type": "code",
   "execution_count": null,
   "id": "d0193243",
   "metadata": {},
   "outputs": [
    {
     "data": {
      "text/plain": [
       "array([[3, 8, 9, 5],\n",
       "       [4, 1, 5, 0],\n",
       "       [0, 1, 7, 2],\n",
       "       [3, 8, 5, 5],\n",
       "       [4, 4, 1, 5]], dtype=int32)"
      ]
     },
     "execution_count": 24,
     "metadata": {},
     "output_type": "execute_result"
    }
   ],
   "source": [
    "data = np.random.randint(0,10,(5,4))\n",
    "data"
   ]
  },
  {
   "cell_type": "code",
   "execution_count": null,
   "id": "46576509",
   "metadata": {},
   "outputs": [
    {
     "data": {
      "text/plain": [
       "array([[4, 1],\n",
       "       [0, 1],\n",
       "       [3, 8],\n",
       "       [4, 4]], dtype=int32)"
      ]
     },
     "execution_count": 25,
     "metadata": {},
     "output_type": "execute_result"
    }
   ],
   "source": [
    "data[1: , :2]"
   ]
  },
  {
   "cell_type": "code",
   "execution_count": null,
   "id": "91c1d12f",
   "metadata": {},
   "outputs": [
    {
     "data": {
      "text/plain": [
       "array([[1, 7, 2],\n",
       "       [8, 5, 5]], dtype=int32)"
      ]
     },
     "execution_count": 26,
     "metadata": {},
     "output_type": "execute_result"
    }
   ],
   "source": [
    "data[2:4,1: ]"
   ]
  },
  {
   "cell_type": "code",
   "execution_count": null,
   "id": "bcb3b7c6",
   "metadata": {},
   "outputs": [
    {
     "name": "stdout",
     "output_type": "stream",
     "text": [
      "[ 1 23 24]\n"
     ]
    }
   ],
   "source": [
    "#Numpy\n",
    "\n",
    "#1 D array:\n",
    "\n",
    "import numpy as np\n",
    "a=np.array([1,23,24])\n",
    "print(a)"
   ]
  },
  {
   "cell_type": "code",
   "execution_count": null,
   "id": "a60303fc",
   "metadata": {},
   "outputs": [
    {
     "name": "stdout",
     "output_type": "stream",
     "text": [
      "[2 3 4]\n"
     ]
    },
    {
     "data": {
      "text/plain": [
       "1"
      ]
     },
     "execution_count": 36,
     "metadata": {},
     "output_type": "execute_result"
    }
   ],
   "source": [
    "import numpy as np\n",
    "\n",
    "#1D array\n",
    "a =np.array([2,3,4])\n",
    "print(a)\n",
    "np.ndim(a)"
   ]
  },
  {
   "cell_type": "code",
   "execution_count": null,
   "id": "a94fc611",
   "metadata": {},
   "outputs": [
    {
     "name": "stdout",
     "output_type": "stream",
     "text": [
      "[[ 2  4  6]\n",
      " [ 8 10 12]\n",
      " [ 5  6  7]]\n"
     ]
    },
    {
     "data": {
      "text/plain": [
       "2"
      ]
     },
     "execution_count": 37,
     "metadata": {},
     "output_type": "execute_result"
    }
   ],
   "source": [
    "#2D array\n",
    "\n",
    "b=np.array([[2,4,6],[8,10,12],[5,6,7]])\n",
    "print(b)\n",
    "np.ndim(b)"
   ]
  },
  {
   "cell_type": "code",
   "execution_count": null,
   "id": "cd6568fb",
   "metadata": {},
   "outputs": [
    {
     "name": "stdout",
     "output_type": "stream",
     "text": [
      "[[[1 2 3]\n",
      "  [4 5 6]]\n",
      "\n",
      " [[1 2 3]\n",
      "  [4 5 6]]]\n"
     ]
    },
    {
     "data": {
      "text/plain": [
       "3"
      ]
     },
     "execution_count": 41,
     "metadata": {},
     "output_type": "execute_result"
    }
   ],
   "source": [
    "d = np.array([[[1, 2, 3], [4, 5, 6]], [[1, 2, 3], [4, 5, 6]]]) # <-3 dim\n",
    "print(d)\n",
    "np.ndim(d)"
   ]
  },
  {
   "cell_type": "code",
   "execution_count": null,
   "id": "df5a56ea",
   "metadata": {},
   "outputs": [
    {
     "name": "stdout",
     "output_type": "stream",
     "text": [
      "1\n",
      "2\n",
      "3\n"
     ]
    }
   ],
   "source": [
    "a= np.array([1,2,3]) #--> 1 dim\n",
    "b=np.array([[1,2,3],[4,5,6]]) #--> 2 dim\n",
    "c=np.array([[[1,2,3],[4,5,6]],[[7,8,9],[10,11,12]]]) #--> 3 dim\n",
    "print(np.ndim(a))\n",
    "print(np.ndim(b))\n",
    "print(np.ndim(c))"
   ]
  },
  {
   "cell_type": "code",
   "execution_count": null,
   "id": "de6d7248",
   "metadata": {},
   "outputs": [
    {
     "data": {
      "text/plain": [
       "array([[0., 0., 0.],\n",
       "       [0., 0., 0.]])"
      ]
     },
     "execution_count": 46,
     "metadata": {},
     "output_type": "execute_result"
    }
   ],
   "source": [
    "#Initialize Numpy arrays\n",
    "\n",
    "#initialize 'x X y' dimensions with '0' values\n",
    "import numpy as np\n",
    "np.zeros((2,3))"
   ]
  },
  {
   "cell_type": "code",
   "execution_count": null,
   "id": "c036ce45",
   "metadata": {},
   "outputs": [
    {
     "data": {
      "text/plain": [
       "array([[1., 1., 1.],\n",
       "       [1., 1., 1.],\n",
       "       [1., 1., 1.],\n",
       "       [1., 1., 1.]])"
      ]
     },
     "execution_count": 48,
     "metadata": {},
     "output_type": "execute_result"
    }
   ],
   "source": [
    "import numpy as np\n",
    "np.ones((4,3))"
   ]
  },
  {
   "cell_type": "code",
   "execution_count": null,
   "id": "cbf72b28",
   "metadata": {},
   "outputs": [
    {
     "data": {
      "text/plain": [
       "array([[-6, -6, -6, -6],\n",
       "       [-6, -6, -6, -6],\n",
       "       [-6, -6, -6, -6],\n",
       "       [-6, -6, -6, -6]])"
      ]
     },
     "execution_count": 50,
     "metadata": {},
     "output_type": "execute_result"
    }
   ],
   "source": [
    "import numpy as np\n",
    "\n",
    "#full array with -6 values\n",
    "np.full((4,4),-6)"
   ]
  },
  {
   "cell_type": "code",
   "execution_count": null,
   "id": "b1a992c5",
   "metadata": {},
   "outputs": [
    {
     "name": "stdout",
     "output_type": "stream",
     "text": [
      "[1 2 3]\n"
     ]
    }
   ],
   "source": [
    "#1D Array\n",
    "\n",
    "a=np.array([1,2,3])\n",
    "print(a)"
   ]
  },
  {
   "cell_type": "code",
   "execution_count": null,
   "id": "d0c18793",
   "metadata": {},
   "outputs": [
    {
     "name": "stdout",
     "output_type": "stream",
     "text": [
      "[[2 4 6]\n",
      " [4 5 6]\n",
      " [6 5 7]]\n",
      "<class 'numpy.ndarray'>\n"
     ]
    },
    {
     "data": {
      "text/plain": [
       "2"
      ]
     },
     "execution_count": 52,
     "metadata": {},
     "output_type": "execute_result"
    }
   ],
   "source": [
    "#2d array\n",
    "a =np.array([[2,4,6],[4,5,6],[6,5,7]])\n",
    "\n",
    "print(a)\n",
    "print(type(a))\n",
    "a.ndim"
   ]
  },
  {
   "cell_type": "code",
   "execution_count": null,
   "id": "fccb9e5b",
   "metadata": {},
   "outputs": [
    {
     "name": "stdout",
     "output_type": "stream",
     "text": [
      "[[[1 2 3]\n",
      "  [4 5 6]\n",
      "  [5 6 7]]\n",
      "\n",
      " [[4 5 6]\n",
      "  [8 8 7]\n",
      "  [8 9 7]]]\n",
      "<class 'numpy.ndarray'>\n"
     ]
    },
    {
     "data": {
      "text/plain": [
       "3"
      ]
     },
     "execution_count": 54,
     "metadata": {},
     "output_type": "execute_result"
    }
   ],
   "source": [
    "#3d array\n",
    "x= np.array([[[1,2,3], [4,5,6],[5,6,7]], [[4,5,6],[8,8,7],[8,9,7]]])\n",
    "print(x)\n",
    "\n",
    "print(type(x))\n",
    "x.ndim"
   ]
  },
  {
   "cell_type": "code",
   "execution_count": null,
   "id": "02b7715a",
   "metadata": {},
   "outputs": [
    {
     "data": {
      "text/plain": [
       "array([  0,  10,  20,  30,  40,  50,  60,  70,  80,  90, 100])"
      ]
     },
     "execution_count": 55,
     "metadata": {},
     "output_type": "execute_result"
    }
   ],
   "source": [
    "#Initilize 'x' and 'y' with an interval of z\n",
    "\n",
    "np.arange(0,101,10)"
   ]
  },
  {
   "cell_type": "code",
   "execution_count": null,
   "id": "508f3b35",
   "metadata": {},
   "outputs": [
    {
     "data": {
      "text/plain": [
       "array([  0,   5,  10,  15,  20,  25,  30,  35,  40,  45,  50,  55,  60,\n",
       "        65,  70,  75,  80,  85,  90,  95, 100])"
      ]
     },
     "execution_count": 56,
     "metadata": {},
     "output_type": "execute_result"
    }
   ],
   "source": [
    "np.arange(0,101,5)"
   ]
  },
  {
   "cell_type": "code",
   "execution_count": null,
   "id": "e84b7aed",
   "metadata": {},
   "outputs": [
    {
     "data": {
      "text/plain": [
       "array([ 1,  2,  3,  4,  5,  6,  7,  8,  9, 10, 11, 12, 13, 14, 15, 16, 17,\n",
       "       18, 19])"
      ]
     },
     "execution_count": 57,
     "metadata": {},
     "output_type": "execute_result"
    }
   ],
   "source": [
    "np.arange(1,20)"
   ]
  },
  {
   "cell_type": "code",
   "execution_count": null,
   "id": "ba4aeded",
   "metadata": {},
   "outputs": [
    {
     "data": {
      "text/plain": [
       "array([ 0.,  5., 10., 15., 20.])"
      ]
     },
     "execution_count": 58,
     "metadata": {},
     "output_type": "execute_result"
    }
   ],
   "source": [
    "#initialize 'z' numbers between 'x' and 'y'\n",
    "#devide upper and lower limit to equal measures\n",
    "\n",
    "np.linspace(0,20,5)\n"
   ]
  },
  {
   "cell_type": "code",
   "execution_count": null,
   "id": "a6257383",
   "metadata": {},
   "outputs": [
    {
     "data": {
      "text/plain": [
       "array([ 9., 18., 27., 36., 45., 54., 63., 72., 81., 90.])"
      ]
     },
     "execution_count": 59,
     "metadata": {},
     "output_type": "execute_result"
    }
   ],
   "source": [
    "np.linspace(9,90,10)"
   ]
  },
  {
   "cell_type": "code",
   "execution_count": null,
   "id": "4b67788c",
   "metadata": {},
   "outputs": [
    {
     "data": {
      "text/plain": [
       "array([ 0. ,  2.5,  5. ,  7.5, 10. ])"
      ]
     },
     "execution_count": 60,
     "metadata": {},
     "output_type": "execute_result"
    }
   ],
   "source": [
    "np.linspace(0,10,5)"
   ]
  },
  {
   "cell_type": "code",
   "execution_count": null,
   "id": "0606dd8e",
   "metadata": {},
   "outputs": [
    {
     "data": {
      "text/plain": [
       "array([[1., 0., 0., 0., 0.],\n",
       "       [0., 1., 0., 0., 0.],\n",
       "       [0., 0., 1., 0., 0.],\n",
       "       [0., 0., 0., 1., 0.],\n",
       "       [0., 0., 0., 0., 1.]])"
      ]
     },
     "execution_count": 61,
     "metadata": {},
     "output_type": "execute_result"
    }
   ],
   "source": [
    "np.eye(5)  # eye: refer to identical matrix"
   ]
  },
  {
   "cell_type": "code",
   "execution_count": null,
   "id": "7cbc732d",
   "metadata": {},
   "outputs": [
    {
     "data": {
      "text/plain": [
       "array([[1., 0., 0.],\n",
       "       [0., 1., 0.],\n",
       "       [0., 0., 1.]])"
      ]
     },
     "execution_count": 62,
     "metadata": {},
     "output_type": "execute_result"
    }
   ],
   "source": [
    "np.eye(3)"
   ]
  },
  {
   "cell_type": "code",
   "execution_count": null,
   "id": "a5d67f99",
   "metadata": {},
   "outputs": [
    {
     "data": {
      "text/plain": [
       "array([[1., 0., 0., 0., 0., 0., 0., 0.],\n",
       "       [0., 1., 0., 0., 0., 0., 0., 0.],\n",
       "       [0., 0., 1., 0., 0., 0., 0., 0.],\n",
       "       [0., 0., 0., 1., 0., 0., 0., 0.],\n",
       "       [0., 0., 0., 0., 1., 0., 0., 0.],\n",
       "       [0., 0., 0., 0., 0., 1., 0., 0.],\n",
       "       [0., 0., 0., 0., 0., 0., 1., 0.],\n",
       "       [0., 0., 0., 0., 0., 0., 0., 1.]])"
      ]
     },
     "execution_count": 63,
     "metadata": {},
     "output_type": "execute_result"
    }
   ],
   "source": [
    "np.eye(8)"
   ]
  },
  {
   "cell_type": "code",
   "execution_count": null,
   "id": "25e651ce",
   "metadata": {},
   "outputs": [
    {
     "name": "stdout",
     "output_type": "stream",
     "text": [
      "[[ 5  4  0  1]\n",
      " [11  4 10  7]\n",
      " [ 7 10  5  6]\n",
      " [ 7 12 10  4]\n",
      " [ 3  7  3  4]]\n"
     ]
    }
   ],
   "source": [
    "import numpy as np\n",
    "\n",
    "# Create the NumPy array\n",
    "data = np.array([[5, 4, 0, 1],\n",
    "                  [11, 4, 10, 7],\n",
    "                  [7, 10, 5, 6],\n",
    "                  [7, 12, 10, 4],\n",
    "                  [3, 7, 3, 4]])\n",
    "\n",
    "# Print the array\n",
    "print(data)"
   ]
  },
  {
   "cell_type": "code",
   "execution_count": null,
   "id": "07cb600d",
   "metadata": {},
   "outputs": [
    {
     "data": {
      "text/plain": [
       "8"
      ]
     },
     "execution_count": 65,
     "metadata": {},
     "output_type": "execute_result"
    }
   ],
   "source": [
    "dt =[1,3,4]\n",
    "sum(dt)"
   ]
  },
  {
   "cell_type": "code",
   "execution_count": null,
   "id": "35190405",
   "metadata": {},
   "outputs": [
    {
     "data": {
      "text/plain": [
       "np.int64(12)"
      ]
     },
     "execution_count": 66,
     "metadata": {},
     "output_type": "execute_result"
    }
   ],
   "source": [
    "data.max()"
   ]
  },
  {
   "cell_type": "code",
   "execution_count": null,
   "id": "88de23fa",
   "metadata": {},
   "outputs": [
    {
     "data": {
      "text/plain": [
       "np.float64(6.0)"
      ]
     },
     "execution_count": 67,
     "metadata": {},
     "output_type": "execute_result"
    }
   ],
   "source": [
    "data.mean()"
   ]
  },
  {
   "cell_type": "code",
   "execution_count": null,
   "id": "e5ece2f7",
   "metadata": {},
   "outputs": [
    {
     "data": {
      "text/plain": [
       "np.int64(120)"
      ]
     },
     "execution_count": 68,
     "metadata": {},
     "output_type": "execute_result"
    }
   ],
   "source": [
    "data.sum()"
   ]
  },
  {
   "cell_type": "code",
   "execution_count": null,
   "id": "b2fc8023",
   "metadata": {},
   "outputs": [
    {
     "data": {
      "text/plain": [
       "array([[3, 3, 3, 3, 3],\n",
       "       [3, 3, 3, 3, 3],\n",
       "       [3, 3, 3, 3, 3],\n",
       "       [3, 3, 3, 3, 3]])"
      ]
     },
     "execution_count": 69,
     "metadata": {},
     "output_type": "execute_result"
    }
   ],
   "source": [
    "#Fill SAME numbers in an array of dimensions 'x' X 'y'\n",
    "\n",
    "np.full((4,5),3)"
   ]
  },
  {
   "cell_type": "code",
   "execution_count": null,
   "id": "192fb681",
   "metadata": {},
   "outputs": [
    {
     "name": "stdout",
     "output_type": "stream",
     "text": [
      "[[ 2  4  6]\n",
      " [ 5  6  7]\n",
      " [ 8 10 12]]\n",
      "(3, 3)\n"
     ]
    }
   ],
   "source": [
    "#ndarray.shape:\n",
    "\n",
    "a=np.array([[2,4,6],[5,6,7],[8,10,12]])\n",
    "print(a)\n",
    "print(a.shape)"
   ]
  },
  {
   "cell_type": "code",
   "execution_count": null,
   "id": "a3ac80ed",
   "metadata": {},
   "outputs": [
    {
     "name": "stdout",
     "output_type": "stream",
     "text": [
      "(2, 3)\n"
     ]
    }
   ],
   "source": [
    "b=np.array([[4,5,6],[6,8,10]])\n",
    "print(b.shape)   #2,3"
   ]
  },
  {
   "cell_type": "code",
   "execution_count": null,
   "id": "909f783b",
   "metadata": {},
   "outputs": [
    {
     "name": "stdout",
     "output_type": "stream",
     "text": [
      "Original Array:\n",
      " [[ 2  4  6  4]\n",
      " [ 5  6  7  8]\n",
      " [ 8 10 12  4]]\n",
      "Changed Array:\n",
      " [[ 2  4]\n",
      " [ 6  4]\n",
      " [ 5  6]\n",
      " [ 7  8]\n",
      " [ 8 10]\n",
      " [12  4]]\n",
      "Changed Array:\n",
      " [[ 2  4  6]\n",
      " [ 4  5  6]\n",
      " [ 7  8  8]\n",
      " [10 12  4]]\n"
     ]
    }
   ],
   "source": [
    "#We can use ndarray.shape function to resize the array:\n",
    "a=np.array([[2,4,6,4],[5,6,7,8],[8,10,12,4]]) #3,4 =12\n",
    "print(\"Original Array:\\n\", a)\n",
    "a.shape=(6,2)   #12 = 1,2,3,4,6,12 (1,12), (2,6),(3,4),(4,3),(6,2)(12,1)\n",
    "print(\"Changed Array:\\n\",a)\n",
    "\n",
    "a.shape=(4,3)\n",
    "print(\"Changed Array:\\n\",a)"
   ]
  },
  {
   "cell_type": "code",
   "execution_count": null,
   "id": "7bd6b59e",
   "metadata": {},
   "outputs": [
    {
     "name": "stdout",
     "output_type": "stream",
     "text": [
      "1*12:\n",
      " [[1 2 3 4 5 6 5 8 8 5 6 4]]\n",
      "Size of the array:  12\n",
      "Dimension of the array 2\n",
      "\n",
      "\n",
      "2*6:\n",
      " [[1 2 3 4 5 6]\n",
      " [5 8 8 5 6 4]]\n",
      "Size of the array:  12\n",
      "Dimension of the array 2\n",
      "\n",
      "\n",
      "3*4:\n",
      " [[1 2 3 4]\n",
      " [5 6 5 8]\n",
      " [8 5 6 4]]\n",
      "Size of the array:  12\n",
      "Dimension of the array 2\n",
      "\n",
      "\n",
      "4*3:\n",
      " [[1 2 3]\n",
      " [4 5 6]\n",
      " [5 8 8]\n",
      " [5 6 4]]\n",
      "Size of the array:  12\n",
      "Dimension of the array 2\n",
      "\n",
      "\n",
      "6*2:\n",
      " [[1 2]\n",
      " [3 4]\n",
      " [5 6]\n",
      " [5 8]\n",
      " [8 5]\n",
      " [6 4]]\n",
      "Size of the array:  12\n",
      "Dimension of the array 2\n"
     ]
    }
   ],
   "source": [
    "b=np.array([[1,2,3],[4,5,6],[5,8,8],[5,6,4]])\n",
    "# 12= 1*12,2*6,3*4, 4*3,6*2,1*12\n",
    "b.shape=(1,12)  \n",
    "print(\"1*12:\\n\",b)\n",
    "print(\"Size of the array: \",b.size)\n",
    "print(\"Dimension of the array\",b.ndim)\n",
    "print(\"\\n\")\n",
    "b.shape=(2,6)  \n",
    "print(\"2*6:\\n\",b)\n",
    "print(\"Size of the array: \",b.size)\n",
    "print(\"Dimension of the array\",b.ndim)\n",
    "print(\"\\n\")\n",
    "b.shape=(3,4)  \n",
    "print(\"3*4:\\n\",b)\n",
    "print(\"Size of the array: \",b.size)\n",
    "print(\"Dimension of the array\",b.ndim)\n",
    "print(\"\\n\")\n",
    "b.shape=(4,3)  \n",
    "print(\"4*3:\\n\",b)\n",
    "print(\"Size of the array: \",b.size)\n",
    "print(\"Dimension of the array\",b.ndim)\n",
    "print(\"\\n\")\n",
    "b.shape=(6,2)  \n",
    "print(\"6*2:\\n\",b)\n",
    "print(\"Size of the array: \",b.size)\n",
    "print(\"Dimension of the array\",b.ndim)"
   ]
  },
  {
   "cell_type": "code",
   "execution_count": null,
   "id": "bdaf588f",
   "metadata": {},
   "outputs": [
    {
     "name": "stdout",
     "output_type": "stream",
     "text": [
      "[ 0  1  2  3  4  5  6  7  8  9 10 11 12 13 14 15 16 17 18 19 20 21 22 23]\n",
      "[[[ 0  1  2  3]\n",
      "  [ 4  5  6  7]\n",
      "  [ 8  9 10 11]]\n",
      "\n",
      " [[12 13 14 15]\n",
      "  [16 17 18 19]\n",
      "  [20 21 22 23]]]\n",
      "3\n",
      "\n",
      "\n",
      "[[[ 0  1  2]\n",
      "  [ 3  4  5]]\n",
      "\n",
      " [[ 6  7  8]\n",
      "  [ 9 10 11]]\n",
      "\n",
      " [[12 13 14]\n",
      "  [15 16 17]]\n",
      "\n",
      " [[18 19 20]\n",
      "  [21 22 23]]]\n"
     ]
    }
   ],
   "source": [
    "z=np.arange(24)\n",
    "print(z)\n",
    "#1D array[0,1,2,3,.....,23]  # 1*24\n",
    "#print(z)     #24 =1,2,3,4,6,8,12,24(1,24)(2,12),(3,8)\n",
    "# For reshaping into 3D Array (2,6,2) (4,2,3)\n",
    "z.shape=(2,3,4)  #4,3,2\n",
    "#3 dimensional\n",
    "print(z)\n",
    "print(z.ndim)  #.ndim= no of dimenssions in that array\n",
    "print(\"\\n\")\n",
    "z.shape=(4,2,3)\n",
    "print(z)"
   ]
  },
  {
   "cell_type": "code",
   "execution_count": null,
   "id": "b654a619",
   "metadata": {},
   "outputs": [
    {
     "name": "stdout",
     "output_type": "stream",
     "text": [
      "[[[ 0  1  2]\n",
      "  [ 3  4  5]\n",
      "  [ 6  7  8]\n",
      "  [ 9 10 11]\n",
      "  [12 13 14]\n",
      "  [15 16 17]\n",
      "  [18 19 20]\n",
      "  [21 22 23]\n",
      "  [24 25 26]\n",
      "  [27 28 29]]]\n",
      "3\n"
     ]
    }
   ],
   "source": [
    "z=np.arange(30)\n",
    "#print(z)\n",
    "#1D array[0,1,2,3,.....,23]  # 1*24\n",
    "#print(z)     #24 =1,2,3,4,6,8,12,24(1,24)(2,12),(3,8)\n",
    "# For reshaping into 3D Array (2,5,3),(3,5,2),(1,10,3)\n",
    "z.shape=(1,10,3)  #2,2,2,3\n",
    "#3 dimensional\n",
    "print(z)\n",
    "print(z.ndim)"
   ]
  },
  {
   "cell_type": "code",
   "execution_count": null,
   "id": "229ed810",
   "metadata": {},
   "outputs": [
    {
     "name": "stdout",
     "output_type": "stream",
     "text": [
      "[[[[  0   1   2   3   4]\n",
      "   [  5   6   7   8   9]\n",
      "   [ 10  11  12  13  14]\n",
      "   [ 15  16  17  18  19]\n",
      "   [ 20  21  22  23  24]]\n",
      "\n",
      "  [[ 25  26  27  28  29]\n",
      "   [ 30  31  32  33  34]\n",
      "   [ 35  36  37  38  39]\n",
      "   [ 40  41  42  43  44]\n",
      "   [ 45  46  47  48  49]]]\n",
      "\n",
      "\n",
      " [[[ 50  51  52  53  54]\n",
      "   [ 55  56  57  58  59]\n",
      "   [ 60  61  62  63  64]\n",
      "   [ 65  66  67  68  69]\n",
      "   [ 70  71  72  73  74]]\n",
      "\n",
      "  [[ 75  76  77  78  79]\n",
      "   [ 80  81  82  83  84]\n",
      "   [ 85  86  87  88  89]\n",
      "   [ 90  91  92  93  94]\n",
      "   [ 95  96  97  98  99]]]\n",
      "\n",
      "\n",
      " [[[100 101 102 103 104]\n",
      "   [105 106 107 108 109]\n",
      "   [110 111 112 113 114]\n",
      "   [115 116 117 118 119]\n",
      "   [120 121 122 123 124]]\n",
      "\n",
      "  [[125 126 127 128 129]\n",
      "   [130 131 132 133 134]\n",
      "   [135 136 137 138 139]\n",
      "   [140 141 142 143 144]\n",
      "   [145 146 147 148 149]]]\n",
      "\n",
      "\n",
      " [[[150 151 152 153 154]\n",
      "   [155 156 157 158 159]\n",
      "   [160 161 162 163 164]\n",
      "   [165 166 167 168 169]\n",
      "   [170 171 172 173 174]]\n",
      "\n",
      "  [[175 176 177 178 179]\n",
      "   [180 181 182 183 184]\n",
      "   [185 186 187 188 189]\n",
      "   [190 191 192 193 194]\n",
      "   [195 196 197 198 199]]]]\n",
      "4\n"
     ]
    }
   ],
   "source": [
    "Y =np.arange(200)  #0,1,.......,199\n",
    "#print(Y)\n",
    "#print(Y.size)    #200 =100*2 =50*2*2=25*2*2*2=5*5*2*2*2\n",
    "\n",
    "\n",
    "Y.shape=(4,2,5,5) #5*5*4*2\n",
    "print(Y)\n",
    "print(Y.ndim)"
   ]
  },
  {
   "cell_type": "code",
   "execution_count": 11,
   "id": "f4b722d1",
   "metadata": {},
   "outputs": [
    {
     "name": "stdout",
     "output_type": "stream",
     "text": [
      "(2, 3)\n",
      "2\n",
      "[[ 4  5]\n",
      " [ 6  6]\n",
      " [ 8 10]]\n",
      "2\n",
      "[[[ 4  5  6]\n",
      "  [ 6  8 10]]]\n",
      "3\n"
     ]
    }
   ],
   "source": [
    "import numpy as np\n",
    "b=np.array([[4,5,6],[6,8,10]])\n",
    "print(b.shape)\n",
    "print(b.ndim)\n",
    "#Convert above array into 2D and 3D array\n",
    "#2D\n",
    "b.shape=(3,2)\n",
    "print(b)#6=1,2,3,6\n",
    "print(b.ndim)\n",
    "#3D\n",
    "b.shape=(1,2,3)\n",
    "print(b)\n",
    "print(b.ndim)"
   ]
  },
  {
   "cell_type": "markdown",
   "id": "372bc14b",
   "metadata": {},
   "source": [
    "# Find the number elements in array"
   ]
  },
  {
   "cell_type": "code",
   "execution_count": 12,
   "id": "e851da92",
   "metadata": {},
   "outputs": [],
   "source": [
    "import numpy as np"
   ]
  },
  {
   "cell_type": "code",
   "execution_count": 13,
   "id": "e05fa553",
   "metadata": {},
   "outputs": [
    {
     "name": "stdout",
     "output_type": "stream",
     "text": [
      "9\n",
      "(3, 3)\n",
      "2\n",
      "int64\n"
     ]
    }
   ],
   "source": [
    "a= np.array([[1,2,3],[4,5,6],[5,8,12]])\n",
    "print(a.size )   \n",
    "print(a.shape)   \n",
    "print(a.ndim)\n",
    "print(a.dtype)"
   ]
  },
  {
   "cell_type": "code",
   "execution_count": 14,
   "id": "7bf59028",
   "metadata": {},
   "outputs": [
    {
     "name": "stdout",
     "output_type": "stream",
     "text": [
      "16\n",
      "int64\n",
      "(2, 2, 4)\n",
      "3\n"
     ]
    }
   ],
   "source": [
    "a=np.array([\n",
    "    [[1,2,3,4],[4,5,6,8]],\n",
    "     [[7,8,9,4],[4,5,5,6]]\n",
    "])\n",
    "print(a.size)\n",
    "print(a.dtype)\n",
    "\n",
    "import numpy as np\n",
    "\n",
    "print(a.shape)\n",
    "print(a.ndim)"
   ]
  },
  {
   "cell_type": "code",
   "execution_count": 21,
   "id": "b9538e05",
   "metadata": {},
   "outputs": [
    {
     "name": "stdout",
     "output_type": "stream",
     "text": [
      "[[ 9  2 18  3 10]\n",
      " [19 17 10  8  5]\n",
      " [14  6 19  8  7]\n",
      " [ 1 14  5  3 13]\n",
      " [10 13 13 14  0]\n",
      " [ 1 13  8  5  2]]\n"
     ]
    }
   ],
   "source": [
    "import numpy as np\n",
    "\n",
    "x=np.random.randint(0,20,(6,5))\n",
    "print(x)"
   ]
  },
  {
   "cell_type": "code",
   "execution_count": null,
   "id": "cdc6b276",
   "metadata": {},
   "outputs": [
    {
     "name": "stdout",
     "output_type": "stream",
     "text": [
      "[[13  1 10 17  1  3  1  5 16 14 19 19  9  1 13]\n",
      " [ 6 18  9  0 16 18  6 18 17  8  6  9  6 17 15]]\n"
     ]
    }
   ],
   "source": [
    "# x.shape=(2,15)\n",
    "# print(x)"
   ]
  },
  {
   "cell_type": "markdown",
   "id": "6d85b395",
   "metadata": {},
   "source": [
    "The shape and reshape functions in NumPy serve different purposes related to array dimensions:\n",
    "- **Shape**\n",
    "1) shape is an attribute of a NumPy array that returns a tuple representing the dimensions of the array.\n",
    "2) It is used to get the current shape of an array. \n",
    "3) It can also be used to modify the shape of the array in-place by assigning a new tuple of dimensions, but this is less common and can be error-prone.\n",
    "4) It does not create a new array but rather provides information about the existing array or modifies it directly.\n",
    "- **Reshape**\n",
    "1) reshape is a function that changes the shape of a NumPy array without changing its data.\n",
    "2) It returns a new array with the specified shape, provided that the new shape is compatible with the original array size (i.e., the number of elements remains the same).\n",
    "3) It does not modify the original array unless assigned back to it.\n",
    "4) It is commonly used to transform arrays into different dimensions for various operations."
   ]
  },
  {
   "cell_type": "code",
   "execution_count": 22,
   "id": "321e69b8",
   "metadata": {},
   "outputs": [
    {
     "data": {
      "text/plain": [
       "array([ 9,  2, 18,  3, 10, 19, 17, 10,  8,  5, 14,  6, 19,  8,  7,  1, 14,\n",
       "        5,  3, 13, 10, 13, 13, 14,  0,  1, 13,  8,  5,  2], dtype=int32)"
      ]
     },
     "execution_count": 22,
     "metadata": {},
     "output_type": "execute_result"
    }
   ],
   "source": [
    "x.ravel() #ravel flattens the array"
   ]
  },
  {
   "cell_type": "code",
   "execution_count": 23,
   "id": "37245c04",
   "metadata": {},
   "outputs": [
    {
     "data": {
      "text/plain": [
       "array([[ 9,  2, 18,  3, 10, 19, 17, 10,  8,  5],\n",
       "       [14,  6, 19,  8,  7,  1, 14,  5,  3, 13],\n",
       "       [10, 13, 13, 14,  0,  1, 13,  8,  5,  2]], dtype=int32)"
      ]
     },
     "execution_count": 23,
     "metadata": {},
     "output_type": "execute_result"
    }
   ],
   "source": [
    "x.reshape(3,10)"
   ]
  },
  {
   "cell_type": "code",
   "execution_count": 25,
   "id": "f0beef7d",
   "metadata": {},
   "outputs": [
    {
     "name": "stdout",
     "output_type": "stream",
     "text": [
      "[[ 9  2 18  3 10]\n",
      " [19 17 10  8  5]\n",
      " [14  6 19  8  7]\n",
      " [ 1 14  5  3 13]\n",
      " [10 13 13 14  0]\n",
      " [ 1 13  8  5  2]]\n"
     ]
    }
   ],
   "source": [
    "print(x) #so reshape doesnt change values/ dimension the original array is unchanged"
   ]
  },
  {
   "cell_type": "code",
   "execution_count": 26,
   "id": "a6c7e1fc",
   "metadata": {},
   "outputs": [
    {
     "data": {
      "text/plain": [
       "array([[ 9,  2, 18],\n",
       "       [ 3, 10, 19],\n",
       "       [17, 10,  8],\n",
       "       [ 5, 14,  6],\n",
       "       [19,  8,  7],\n",
       "       [ 1, 14,  5],\n",
       "       [ 3, 13, 10],\n",
       "       [13, 13, 14],\n",
       "       [ 0,  1, 13],\n",
       "       [ 8,  5,  2]], dtype=int32)"
      ]
     },
     "execution_count": 26,
     "metadata": {},
     "output_type": "execute_result"
    }
   ],
   "source": [
    "x.reshape(10,3)"
   ]
  },
  {
   "cell_type": "code",
   "execution_count": 27,
   "id": "66ab38f3",
   "metadata": {},
   "outputs": [
    {
     "name": "stdout",
     "output_type": "stream",
     "text": [
      "[[ 9  2 18  3 10]\n",
      " [19 17 10  8  5]\n",
      " [14  6 19  8  7]\n",
      " [ 1 14  5  3 13]\n",
      " [10 13 13 14  0]\n",
      " [ 1 13  8  5  2]]\n"
     ]
    }
   ],
   "source": [
    "print(x)"
   ]
  },
  {
   "cell_type": "code",
   "execution_count": 28,
   "id": "c29dacd1",
   "metadata": {},
   "outputs": [
    {
     "data": {
      "text/plain": [
       "array([[ 9,  2, 18,  3, 10, 19],\n",
       "       [17, 10,  8,  5, 14,  6],\n",
       "       [19,  8,  7,  1, 14,  5],\n",
       "       [ 3, 13, 10, 13, 13, 14],\n",
       "       [ 0,  1, 13,  8,  5,  2]], dtype=int32)"
      ]
     },
     "execution_count": 28,
     "metadata": {},
     "output_type": "execute_result"
    }
   ],
   "source": [
    "x.reshape(5,6)"
   ]
  },
  {
   "cell_type": "code",
   "execution_count": 29,
   "id": "12579f11",
   "metadata": {},
   "outputs": [
    {
     "name": "stdout",
     "output_type": "stream",
     "text": [
      "[[ 9  2 18  3 10]\n",
      " [19 17 10  8  5]\n",
      " [14  6 19  8  7]\n",
      " [ 1 14  5  3 13]\n",
      " [10 13 13 14  0]\n",
      " [ 1 13  8  5  2]]\n"
     ]
    }
   ],
   "source": [
    "print(x)"
   ]
  },
  {
   "cell_type": "code",
   "execution_count": 30,
   "id": "7244f948",
   "metadata": {},
   "outputs": [
    {
     "name": "stdout",
     "output_type": "stream",
     "text": [
      "[[2 3]\n",
      " [4 3]]\n"
     ]
    }
   ],
   "source": [
    "x1 =np.array([[2,3],[4,3]])\n",
    "print(x1)"
   ]
  },
  {
   "cell_type": "code",
   "execution_count": 31,
   "id": "c6645e8f",
   "metadata": {},
   "outputs": [
    {
     "name": "stdout",
     "output_type": "stream",
     "text": [
      "[[4 5]\n",
      " [6 7]]\n"
     ]
    }
   ],
   "source": [
    "x2= np.array([[4,5],[6,7]])\n",
    "print(x2)"
   ]
  },
  {
   "cell_type": "code",
   "execution_count": 32,
   "id": "c64a1b75",
   "metadata": {},
   "outputs": [
    {
     "data": {
      "text/plain": [
       "array([[2, 3],\n",
       "       [4, 3],\n",
       "       [4, 5],\n",
       "       [6, 7]])"
      ]
     },
     "execution_count": 32,
     "metadata": {},
     "output_type": "execute_result"
    }
   ],
   "source": [
    "np.vstack([x1,x2])"
   ]
  },
  {
   "cell_type": "code",
   "execution_count": 33,
   "id": "057bed87",
   "metadata": {},
   "outputs": [
    {
     "data": {
      "text/plain": [
       "array([[2, 3, 4, 5],\n",
       "       [4, 3, 6, 7]])"
      ]
     },
     "execution_count": 33,
     "metadata": {},
     "output_type": "execute_result"
    }
   ],
   "source": [
    "np.hstack([x1,x2])"
   ]
  },
  {
   "cell_type": "code",
   "execution_count": 40,
   "id": "c1bf8afd",
   "metadata": {},
   "outputs": [
    {
     "data": {
      "text/plain": [
       "array([[2, 3],\n",
       "       [4, 3],\n",
       "       [4, 5],\n",
       "       [6, 7]])"
      ]
     },
     "execution_count": 40,
     "metadata": {},
     "output_type": "execute_result"
    }
   ],
   "source": [
    "np.concatenate([x1,x2],axis=0)  #vstack axis = 0 --> row"
   ]
  },
  {
   "cell_type": "code",
   "execution_count": 41,
   "id": "12a8fa15",
   "metadata": {},
   "outputs": [
    {
     "data": {
      "text/plain": [
       "array([[2, 3, 4, 5],\n",
       "       [4, 3, 6, 7]])"
      ]
     },
     "execution_count": 41,
     "metadata": {},
     "output_type": "execute_result"
    }
   ],
   "source": [
    "np.concatenate([x1,x2],axis=1)   #hstack axis = 1 --> column"
   ]
  },
  {
   "cell_type": "code",
   "execution_count": 42,
   "id": "d3d9dba8",
   "metadata": {},
   "outputs": [
    {
     "data": {
      "text/plain": [
       "array([[1, 4, 5, 5, 2, 9],\n",
       "       [4, 6, 2, 6, 2, 0],\n",
       "       [8, 4, 3, 2, 5, 7],\n",
       "       [7, 0, 8, 3, 8, 7]], dtype=int32)"
      ]
     },
     "execution_count": 42,
     "metadata": {},
     "output_type": "execute_result"
    }
   ],
   "source": [
    "x=np.random.randint(0,10,(4,6))\n",
    "x"
   ]
  },
  {
   "cell_type": "code",
   "execution_count": 39,
   "id": "40af8dd0",
   "metadata": {},
   "outputs": [
    {
     "data": {
      "text/plain": [
       "[array([[6, 6, 9, 7, 8, 8],\n",
       "        [6, 2, 7, 7, 7, 3]], dtype=int32),\n",
       " array([[1, 2, 1, 4, 0, 9],\n",
       "        [7, 8, 9, 0, 2, 6]], dtype=int32)]"
      ]
     },
     "execution_count": 39,
     "metadata": {},
     "output_type": "execute_result"
    }
   ],
   "source": [
    "np.split(x,2,axis=0)"
   ]
  },
  {
   "cell_type": "code",
   "execution_count": 43,
   "id": "3a379e6d",
   "metadata": {},
   "outputs": [
    {
     "data": {
      "text/plain": [
       "[array([[1, 4, 5],\n",
       "        [4, 6, 2],\n",
       "        [8, 4, 3],\n",
       "        [7, 0, 8]], dtype=int32),\n",
       " array([[5, 2, 9],\n",
       "        [6, 2, 0],\n",
       "        [2, 5, 7],\n",
       "        [3, 8, 7]], dtype=int32)]"
      ]
     },
     "execution_count": 43,
     "metadata": {},
     "output_type": "execute_result"
    }
   ],
   "source": [
    "np.split(x,2,axis=1)"
   ]
  },
  {
   "cell_type": "markdown",
   "id": "e1d8f39e",
   "metadata": {},
   "source": [
    "# finding the data type of an array"
   ]
  },
  {
   "cell_type": "code",
   "execution_count": 44,
   "id": "56602258",
   "metadata": {},
   "outputs": [
    {
     "name": "stdout",
     "output_type": "stream",
     "text": [
      "[ 0  1  2  3  4  5  6  7  8  9 10 11 12 13 14 15 16 17 18 19 20 21 22 23]\n",
      "int64\n"
     ]
    }
   ],
   "source": [
    "d=np.arange(24)  #[0,-----,23]\n",
    "print(d)\n",
    "print(d.dtype)"
   ]
  },
  {
   "cell_type": "code",
   "execution_count": 45,
   "id": "8f5ab062",
   "metadata": {},
   "outputs": [
    {
     "name": "stdout",
     "output_type": "stream",
     "text": [
      "[ 0.  1.  2.  3.  4.  5.  6.  7.  8.  9. 10. 11. 12. 13. 14. 15. 16. 17.\n",
      " 18. 19. 20. 21. 22. 23.]\n",
      "float64\n"
     ]
    }
   ],
   "source": [
    "d=np.arange(24,dtype='float') #0,1,.....,23\n",
    "print(d)\n",
    "print(d.dtype)"
   ]
  },
  {
   "cell_type": "markdown",
   "id": "0321e131",
   "metadata": {},
   "source": [
    "# Numpy array Mathematical - SUM"
   ]
  },
  {
   "cell_type": "code",
   "execution_count": 46,
   "id": "3275870f",
   "metadata": {},
   "outputs": [
    {
     "data": {
      "text/plain": [
       "np.int64(480)"
      ]
     },
     "execution_count": 46,
     "metadata": {},
     "output_type": "execute_result"
    }
   ],
   "source": [
    "import numpy as np\n",
    "np.sum([10,30,60,54,68,258])"
   ]
  },
  {
   "cell_type": "code",
   "execution_count": 47,
   "id": "8645438d",
   "metadata": {},
   "outputs": [
    {
     "data": {
      "text/plain": [
       "np.int64(55)"
      ]
     },
     "execution_count": 47,
     "metadata": {},
     "output_type": "execute_result"
    }
   ],
   "source": [
    "a=[10,20]   #25+30\n",
    "b=[20,5]\n",
    "\n",
    "np.sum([a,b])"
   ]
  },
  {
   "cell_type": "code",
   "execution_count": 48,
   "id": "2b19ce87",
   "metadata": {},
   "outputs": [
    {
     "name": "stdout",
     "output_type": "stream",
     "text": [
      "Addition:\n",
      " [[16 16 21]\n",
      " [24 25 31]]\n"
     ]
    },
    {
     "data": {
      "text/plain": [
       "2"
      ]
     },
     "execution_count": 48,
     "metadata": {},
     "output_type": "execute_result"
    }
   ],
   "source": [
    "import numpy as np\n",
    "\n",
    "# Creating two 2D arrays\n",
    "array1 = np.array([[1, 2, 3],\n",
    "                   [4, 5, 6]])\n",
    "\n",
    "array2 = np.array([[7, 8, 9],       #[8,10,12],[14,16,18]\n",
    "                   [10, 11, 12]])\n",
    "\n",
    "array3 = np.array([[8, 6, 9],      #[16,16,21],[24,25,31]\n",
    "                   [10, 9, 13]])\n",
    "\n",
    "# Adding the two arrays\n",
    "sum_array = array1+array2+array3\n",
    "print(\"Addition:\\n\", sum_array)\n",
    "sum_array.ndim"
   ]
  },
  {
   "cell_type": "markdown",
   "id": "10805e98",
   "metadata": {},
   "source": [
    "# SUBTRACTION"
   ]
  },
  {
   "cell_type": "code",
   "execution_count": 49,
   "id": "97637960",
   "metadata": {},
   "outputs": [
    {
     "data": {
      "text/plain": [
       "np.int64(-10)"
      ]
     },
     "execution_count": 49,
     "metadata": {},
     "output_type": "execute_result"
    }
   ],
   "source": [
    "import numpy as np\n",
    "\n",
    "np.subtract(10,20)"
   ]
  },
  {
   "cell_type": "code",
   "execution_count": 50,
   "id": "d084847a",
   "metadata": {},
   "outputs": [
    {
     "name": "stdout",
     "output_type": "stream",
     "text": [
      "[ 0 -5  1]\n"
     ]
    }
   ],
   "source": [
    "#Subtraction of two arrays:\n",
    "\n",
    "a=np.array([0,1,6])\n",
    "b=np.array([0,5,3])\n",
    "c=np.array([0,1,2])\n",
    "Sub = a-b-c\n",
    "print(Sub)"
   ]
  },
  {
   "cell_type": "code",
   "execution_count": 51,
   "id": "2d81810e",
   "metadata": {},
   "outputs": [
    {
     "data": {
      "text/plain": [
       "array([ 0, -4])"
      ]
     },
     "execution_count": 51,
     "metadata": {},
     "output_type": "execute_result"
    }
   ],
   "source": [
    "a=[0,1]\n",
    "b=[0,5]\n",
    "\n",
    "np.subtract(a,b)"
   ]
  },
  {
   "cell_type": "code",
   "execution_count": 53,
   "id": "d3c83298",
   "metadata": {},
   "outputs": [
    {
     "name": "stdout",
     "output_type": "stream",
     "text": [
      "Result of a - b: \n",
      " [[-2 -2]\n",
      " [ 2  3]]\n"
     ]
    }
   ],
   "source": [
    "import numpy as np\n",
    "\n",
    "a = np.array([[2, 4],\n",
    "              [5,8]])\n",
    "b = np.array([[4, 6],\n",
    "              [3,5]])\n",
    "\n",
    "# Perform element-wise subtraction\n",
    "result = np.subtract(a, b)\n",
    "print(\"Result of a - b: \\n\", result)"
   ]
  },
  {
   "cell_type": "markdown",
   "id": "2b9bae5a",
   "metadata": {},
   "source": [
    "Broadcasting in NumPy enables arithmetic operations between arrays with different shapes, provided they are compatible. NumPy automatically \"stretches\" the smaller array to match the shape of the larger array, without creating copies of the data. This allows for efficient element-wise operations."
   ]
  },
  {
   "cell_type": "code",
   "execution_count": 54,
   "id": "2d1a8b2c",
   "metadata": {},
   "outputs": [
    {
     "name": "stdout",
     "output_type": "stream",
     "text": [
      "Result of a + b with broadcasting:\n",
      " [[ 6  6]\n",
      " [11 12]\n",
      " [11  9]]\n"
     ]
    }
   ],
   "source": [
    "#Using Different Shapes(Broadcasting)\n",
    "import numpy as np\n",
    "\n",
    "a = np.array([[1, 2],\n",
    "              [6, 8],\n",
    "              [6, 5]])\n",
    "b = np.array([5,4])\n",
    "\n",
    "# Addition from each row of a using broadcasting\n",
    "result = a + b\n",
    "print(\"Result of a + b with broadcasting:\\n\", result)"
   ]
  },
  {
   "cell_type": "code",
   "execution_count": 55,
   "id": "4ff7c74f",
   "metadata": {},
   "outputs": [
    {
     "name": "stdout",
     "output_type": "stream",
     "text": [
      "Subtraction:\n",
      " [[ 9 18 27]\n",
      " [36 45 54]]\n"
     ]
    }
   ],
   "source": [
    "import numpy as np\n",
    "\n",
    "# Creating two 2D arrays\n",
    "array1 = np.array([[10, 20, 30],\n",
    "                   [40, 50, 60]])\n",
    "\n",
    "array2 = np.array([[1, 2, 3],\n",
    "                   [4, 5, 6]])\n",
    "\n",
    "# Subtracting the second array from the first array\n",
    "difference_array = array1 - array2\n",
    "print(\"Subtraction:\\n\", difference_array)"
   ]
  },
  {
   "cell_type": "code",
   "execution_count": 56,
   "id": "c198dd2c",
   "metadata": {},
   "outputs": [
    {
     "name": "stdout",
     "output_type": "stream",
     "text": [
      "[[5 6 7]\n",
      " [6 7 8]]\n"
     ]
    }
   ],
   "source": [
    "import numpy as np\n",
    "\n",
    "a = np.array([1, 2, 3])      # Shape (3,)\n",
    "b = np.array([[4], [5]])    # Shape (2, 1)\n",
    "\n",
    "result = a + b  \n",
    "print(result)"
   ]
  },
  {
   "cell_type": "markdown",
   "id": "b71230a6",
   "metadata": {},
   "source": [
    "# Multiplication of numpy array"
   ]
  },
  {
   "cell_type": "code",
   "execution_count": 57,
   "id": "c0cd18b6",
   "metadata": {},
   "outputs": [
    {
     "name": "stdout",
     "output_type": "stream",
     "text": [
      "Multiplication:\n",
      " [[ 7 16 27]\n",
      " [40 55 72]]\n"
     ]
    }
   ],
   "source": [
    "import numpy as np\n",
    "\n",
    "# Creating two 2D arrays\n",
    "array1 = np.array([[1, 2, 3],\n",
    "                   [4, 5, 6]])\n",
    "\n",
    "array2 = np.array([[7, 8, 9],\n",
    "                   [10, 11, 12]])\n",
    "\n",
    "# Multiplying the two arrays element-wise\n",
    "product_array = array1 * array2\n",
    "print(\"Multiplication:\\n\", product_array)"
   ]
  },
  {
   "cell_type": "code",
   "execution_count": 59,
   "id": "34ad5d6e",
   "metadata": {},
   "outputs": [
    {
     "name": "stdout",
     "output_type": "stream",
     "text": [
      "Multiplication:\n",
      " [[ 7 16 27]\n",
      " [28 40 54]]\n"
     ]
    }
   ],
   "source": [
    "array1 = np.array([[1, 2, 3],\n",
    "                   [4, 5, 6]])\n",
    "\n",
    "array2 = np.array([7, 8, 9])\n",
    "\n",
    "product_array = array1 * array2\n",
    "print(\"Multiplication:\\n\", product_array)"
   ]
  },
  {
   "cell_type": "code",
   "execution_count": 58,
   "id": "54d17871",
   "metadata": {},
   "outputs": [
    {
     "ename": "ValueError",
     "evalue": "operands could not be broadcast together with shapes (3,3) (3,2) ",
     "output_type": "error",
     "traceback": [
      "\u001b[31m---------------------------------------------------------------------------\u001b[39m",
      "\u001b[31mValueError\u001b[39m                                Traceback (most recent call last)",
      "\u001b[36mCell\u001b[39m\u001b[36m \u001b[39m\u001b[32mIn[58]\u001b[39m\u001b[32m, line 11\u001b[39m\n\u001b[32m      5\u001b[39m array2 = np.array([[\u001b[32m7\u001b[39m, \u001b[32m8\u001b[39m],\n\u001b[32m      6\u001b[39m                   [\u001b[32m4\u001b[39m,\u001b[32m1\u001b[39m],\n\u001b[32m      7\u001b[39m                    [\u001b[32m5\u001b[39m,\u001b[32m2\u001b[39m]\n\u001b[32m      8\u001b[39m                    ])\n\u001b[32m     10\u001b[39m \u001b[38;5;66;03m# Multiplying the two arrays element-wise\u001b[39;00m\n\u001b[32m---> \u001b[39m\u001b[32m11\u001b[39m product_array = \u001b[43marray1\u001b[49m\u001b[43m \u001b[49m\u001b[43m*\u001b[49m\u001b[43m \u001b[49m\u001b[43marray2\u001b[49m\n\u001b[32m     12\u001b[39m \u001b[38;5;28mprint\u001b[39m(\u001b[33m\"\u001b[39m\u001b[33mMultiplication:\u001b[39m\u001b[38;5;130;01m\\n\u001b[39;00m\u001b[33m\"\u001b[39m, product_array)\n",
      "\u001b[31mValueError\u001b[39m: operands could not be broadcast together with shapes (3,3) (3,2) "
     ]
    }
   ],
   "source": [
    "array1 = np.array([[1, 2,3],\n",
    "                   [4, 5,3],\n",
    "                   [4,6,1]])\n",
    "\n",
    "array2 = np.array([[7, 8],\n",
    "                  [4,1],\n",
    "                   [5,2]\n",
    "                   ])\n",
    "\n",
    "# Multiplying the two arrays element-wise\n",
    "product_array = array1 * array2\n",
    "print(\"Multiplication:\\n\", product_array)"
   ]
  },
  {
   "cell_type": "markdown",
   "id": "699016ae",
   "metadata": {},
   "source": [
    "# Matrix Multiplication\n",
    "the number of columns in the first matrix must be equal to the number of rows in the second matrix. The resulting matrix, known as the matrix product, has the number of rows of the first and the number of columns of the second matrix. The product of matrices A and B is denoted as AB."
   ]
  },
  {
   "cell_type": "code",
   "execution_count": 63,
   "id": "842184bc",
   "metadata": {},
   "outputs": [
    {
     "name": "stdout",
     "output_type": "stream",
     "text": [
      "[[8 7]\n",
      " [2 1]]\n",
      "[[4 5]\n",
      " [9 9]]\n"
     ]
    }
   ],
   "source": [
    "x1=np.random.randint(0,10,(2,2))\n",
    "x2=np.random.randint(0,10,(2,2))\n",
    "print(x1)\n",
    "print(x2)"
   ]
  },
  {
   "cell_type": "code",
   "execution_count": 64,
   "id": "9c2fb437",
   "metadata": {},
   "outputs": [
    {
     "data": {
      "text/plain": [
       "array([[ 95, 103],\n",
       "       [ 17,  19]], dtype=int32)"
      ]
     },
     "execution_count": 64,
     "metadata": {},
     "output_type": "execute_result"
    }
   ],
   "source": [
    "np.dot(x1,x2)"
   ]
  },
  {
   "cell_type": "code",
   "execution_count": 68,
   "id": "3cb6d20e",
   "metadata": {},
   "outputs": [
    {
     "name": "stdout",
     "output_type": "stream",
     "text": [
      "[[5 8 3]\n",
      " [0 3 5]]\n",
      "[[3 6]\n",
      " [3 9]\n",
      " [4 0]]\n"
     ]
    }
   ],
   "source": [
    "x1=np.random.randint(0,10,(2,3))\n",
    "x2=np.random.randint(0,10,(3,2))\n",
    "print(x1)\n",
    "print(x2)"
   ]
  },
  {
   "cell_type": "code",
   "execution_count": 69,
   "id": "46569eba",
   "metadata": {},
   "outputs": [
    {
     "name": "stdout",
     "output_type": "stream",
     "text": [
      "[[0 3 2]\n",
      " [3 1 7]]\n",
      "[[5 5]\n",
      " [4 3]]\n"
     ]
    }
   ],
   "source": [
    "x1=np.random.randint(0,10,(2,3))\n",
    "x2=np.random.randint(0,10,(2,2))\n",
    "print(x1)\n",
    "print(x2)\n",
    "#it will show error as no. of elements in each matrix should be equal i.e, m*n = p*k"
   ]
  },
  {
   "cell_type": "code",
   "execution_count": 67,
   "id": "ab00ce1b",
   "metadata": {},
   "outputs": [
    {
     "ename": "ValueError",
     "evalue": "shapes (2,3) and (2,2) not aligned: 3 (dim 1) != 2 (dim 0)",
     "output_type": "error",
     "traceback": [
      "\u001b[31m---------------------------------------------------------------------------\u001b[39m",
      "\u001b[31mValueError\u001b[39m                                Traceback (most recent call last)",
      "\u001b[36mCell\u001b[39m\u001b[36m \u001b[39m\u001b[32mIn[67]\u001b[39m\u001b[32m, line 1\u001b[39m\n\u001b[32m----> \u001b[39m\u001b[32m1\u001b[39m \u001b[43mnp\u001b[49m\u001b[43m.\u001b[49m\u001b[43mdot\u001b[49m\u001b[43m(\u001b[49m\u001b[43mx1\u001b[49m\u001b[43m,\u001b[49m\u001b[43mx2\u001b[49m\u001b[43m)\u001b[49m\n",
      "\u001b[31mValueError\u001b[39m: shapes (2,3) and (2,2) not aligned: 3 (dim 1) != 2 (dim 0)"
     ]
    }
   ],
   "source": [
    "np.dot(x1,x2)"
   ]
  },
  {
   "cell_type": "markdown",
   "id": "90865772",
   "metadata": {},
   "source": [
    "# Datatypes in numpy\n",
    "- i - integer\n",
    "- b - boolean\n",
    "- u - unsigned integer\n",
    "- f - float\n",
    "- c - complex float\n",
    "- m - timedelta\n",
    "- M - datetime\n",
    "- O - object\n",
    "- S - string\n",
    "- U - unicode string\n",
    "- V - fixed chunk of memory for other type ( void )"
   ]
  },
  {
   "cell_type": "markdown",
   "id": "6639bfa8",
   "metadata": {},
   "source": [
    "# String Functions"
   ]
  },
  {
   "cell_type": "code",
   "execution_count": 71,
   "id": "395f78e6",
   "metadata": {},
   "outputs": [
    {
     "data": {
      "text/plain": [
       "array(['1', '2', '3', 'data'], dtype='<U21')"
      ]
     },
     "execution_count": 71,
     "metadata": {},
     "output_type": "execute_result"
    }
   ],
   "source": [
    "x=np.array([1,2,3,'data'])\n",
    "x"
   ]
  },
  {
   "cell_type": "code",
   "execution_count": 72,
   "id": "11427710",
   "metadata": {},
   "outputs": [
    {
     "data": {
      "text/plain": [
       "array(['1', '2', '3', 'Data'], dtype='<U21')"
      ]
     },
     "execution_count": 72,
     "metadata": {},
     "output_type": "execute_result"
    }
   ],
   "source": [
    "np.char.capitalize(x)"
   ]
  },
  {
   "cell_type": "code",
   "execution_count": 75,
   "id": "cbee69ec",
   "metadata": {},
   "outputs": [
    {
     "data": {
      "text/plain": [
       "array(['----1-----', '----2-----', '----3-----', '---data---'],\n",
       "      dtype='<U10')"
      ]
     },
     "execution_count": 75,
     "metadata": {},
     "output_type": "execute_result"
    }
   ],
   "source": [
    "np.char.center(x,10,fillchar='-')"
   ]
  },
  {
   "cell_type": "code",
   "execution_count": 76,
   "id": "0d6485c9",
   "metadata": {},
   "outputs": [
    {
     "data": {
      "text/plain": [
       "array(['1', '2', '3', 'data eNginEerIng'], dtype='<U21')"
      ]
     },
     "execution_count": 76,
     "metadata": {},
     "output_type": "execute_result"
    }
   ],
   "source": [
    "x=np.array([1,2,3,'data eNginEerIng'])\n",
    "x"
   ]
  },
  {
   "cell_type": "code",
   "execution_count": 77,
   "id": "a569fe56",
   "metadata": {},
   "outputs": [
    {
     "name": "stdout",
     "output_type": "stream",
     "text": [
      "['1' '2' '3' 'DATA ENGINEERING']\n",
      "['1' '2' '3' 'data engineering']\n",
      "['1' '2' '3' 'Data Engineering']\n"
     ]
    }
   ],
   "source": [
    "print(np.char.upper(x))\n",
    "print(np.char.lower(x))\n",
    "print(np.char.title(x))"
   ]
  },
  {
   "cell_type": "code",
   "execution_count": 78,
   "id": "436eeac3",
   "metadata": {},
   "outputs": [
    {
     "data": {
      "text/plain": [
       "array([list(['1']), list(['2']), list(['3']),\n",
       "       list(['data', 'eNginEerIng'])], dtype=object)"
      ]
     },
     "execution_count": 78,
     "metadata": {},
     "output_type": "execute_result"
    }
   ],
   "source": [
    "np.char.split(x)"
   ]
  },
  {
   "cell_type": "code",
   "execution_count": 80,
   "id": "70edfd7c",
   "metadata": {},
   "outputs": [
    {
     "data": {
      "text/plain": [
       "array(['Data Science', 'Machine Learning'], dtype='<U16')"
      ]
     },
     "execution_count": 80,
     "metadata": {},
     "output_type": "execute_result"
    }
   ],
   "source": [
    "y=np.array([\"Data Science\",\"Machine Learning\"])\n",
    "y"
   ]
  },
  {
   "cell_type": "code",
   "execution_count": 81,
   "id": "c39241ca",
   "metadata": {},
   "outputs": [
    {
     "data": {
      "text/plain": [
       "array([list(['Data Sci', 'nc', '']), list(['Machin', ' L', 'arning'])],\n",
       "      dtype=object)"
      ]
     },
     "execution_count": 81,
     "metadata": {},
     "output_type": "execute_result"
    }
   ],
   "source": [
    "np.char.split(y,sep='e')"
   ]
  },
  {
   "cell_type": "code",
   "execution_count": 82,
   "id": "e31ca244",
   "metadata": {},
   "outputs": [
    {
     "data": {
      "text/plain": [
       "array([1, 2])"
      ]
     },
     "execution_count": 82,
     "metadata": {},
     "output_type": "execute_result"
    }
   ],
   "source": [
    "np.char.count(y,\"i\")"
   ]
  },
  {
   "cell_type": "code",
   "execution_count": 83,
   "id": "ddfbce0e",
   "metadata": {},
   "outputs": [
    {
     "data": {
      "text/plain": [
       "array(['Data Science', 'Machine Learning'], dtype='<U16')"
      ]
     },
     "execution_count": 83,
     "metadata": {},
     "output_type": "execute_result"
    }
   ],
   "source": [
    "y"
   ]
  },
  {
   "cell_type": "code",
   "execution_count": 84,
   "id": "d6eb7f38",
   "metadata": {},
   "outputs": [
    {
     "data": {
      "text/plain": [
       "array([False,  True])"
      ]
     },
     "execution_count": 84,
     "metadata": {},
     "output_type": "execute_result"
    }
   ],
   "source": [
    "np.char.startswith(y, \"M\")"
   ]
  },
  {
   "cell_type": "code",
   "execution_count": 85,
   "id": "7c03a2dd",
   "metadata": {},
   "outputs": [
    {
     "data": {
      "text/plain": [
       "array(['Dxxxxxxxtxxxxxxx Science', 'Mxxxxxxxchine Lexxxxxxxrning'],\n",
       "      dtype='<U28')"
      ]
     },
     "execution_count": 85,
     "metadata": {},
     "output_type": "execute_result"
    }
   ],
   "source": [
    "np.char.replace(y,'a','xxxxxxx')"
   ]
  },
  {
   "cell_type": "code",
   "execution_count": 86,
   "id": "d4cda829",
   "metadata": {},
   "outputs": [
    {
     "data": {
      "text/plain": [
       "array(['********Data Science', '****Machine Learning'], dtype='<U20')"
      ]
     },
     "execution_count": 86,
     "metadata": {},
     "output_type": "execute_result"
    }
   ],
   "source": [
    "np.char.rjust(y,20,fillchar=\"*\")"
   ]
  },
  {
   "cell_type": "code",
   "execution_count": 87,
   "id": "f18c29bb",
   "metadata": {},
   "outputs": [
    {
     "data": {
      "text/plain": [
       "array(['Data Science********', 'Machine Learning****'], dtype='<U20')"
      ]
     },
     "execution_count": 87,
     "metadata": {},
     "output_type": "execute_result"
    }
   ],
   "source": [
    "np.char.ljust(y,20,fillchar=\"*\")"
   ]
  },
  {
   "cell_type": "markdown",
   "id": "bfcbd844",
   "metadata": {},
   "source": [
    "# Time Base Functions:\n",
    "- YYYY:MM:DD  HH:MM:SS  Time Stamp\n",
    "- YYYY:MM:DD   Date\n",
    "- HH:MM:SS      Time\n",
    "\n",
    "# Purpose:\n",
    "- extract month and identify\n",
    "- can be found answers questions based on time series\n",
    "- extracting yeras, week, days, studied"
   ]
  },
  {
   "cell_type": "markdown",
   "id": "494d1d48",
   "metadata": {},
   "source": [
    "# Division of arrays"
   ]
  },
  {
   "cell_type": "code",
   "execution_count": 88,
   "id": "b7f591b2",
   "metadata": {},
   "outputs": [
    {
     "name": "stdout",
     "output_type": "stream",
     "text": [
      "Division:\n",
      " [[ 3.33333333  5.          6.        ]\n",
      " [ 4.         10.         20.        ]]\n",
      "float64\n"
     ]
    }
   ],
   "source": [
    "import numpy as np\n",
    "\n",
    "# Creating two 2D arrays\n",
    "array1 = np.array([[10, 20, 30],\n",
    "                   [40, 50, 60]])\n",
    "\n",
    "array2 = np.array([[3, 4, 5],\n",
    "                   [10, 5, 3]])\n",
    "\n",
    "# Dividing the first array by the second array element-wise\n",
    "division_array = array1 / array2\n",
    "print(\"Division:\\n\", division_array)\n",
    "print(division_array.dtype)"
   ]
  },
  {
   "cell_type": "markdown",
   "id": "694e13f8",
   "metadata": {},
   "source": [
    "# Calculating the exponential\n",
    "This line calculates the exponential of each element in the array a.\n",
    "The function np.exp() applies the exponential function\n",
    "𝑒^a\n",
    "  to each element in the array."
   ]
  },
  {
   "cell_type": "code",
   "execution_count": 89,
   "id": "64af83ba",
   "metadata": {},
   "outputs": [
    {
     "name": "stdout",
     "output_type": "stream",
     "text": [
      "Original array: [1 2 3 4 5]\n",
      "Exponential of the array: [  2.71828183   7.3890561   20.08553692  54.59815003 148.4131591 ]\n"
     ]
    }
   ],
   "source": [
    "import numpy as np\n",
    "\n",
    "# Creating a NumPy array\n",
    "a = np.array([1, 2, 3, 4, 5])\n",
    "\n",
    "# Calculating the exponential of each element in the array\n",
    "exp_a = np.exp(a)\n",
    "\n",
    "print(\"Original array:\", a)\n",
    "print(\"Exponential of the array:\", exp_a)  #e = 2.718281828459045"
   ]
  },
  {
   "cell_type": "code",
   "execution_count": 90,
   "id": "70f720c6",
   "metadata": {},
   "outputs": [
    {
     "data": {
      "text/plain": [
       "2.718281828459045"
      ]
     },
     "execution_count": 90,
     "metadata": {},
     "output_type": "execute_result"
    }
   ],
   "source": [
    "import math\n",
    "math.e"
   ]
  },
  {
   "cell_type": "code",
   "execution_count": 91,
   "id": "29d5a9d3",
   "metadata": {},
   "outputs": [
    {
     "name": "stdout",
     "output_type": "stream",
     "text": [
      "Original 2D array:\n",
      " [[1 2 3]\n",
      " [4 5 6]]\n",
      "Exponential of the 2D array:\n",
      " [[  2.71828183   7.3890561   20.08553692]\n",
      " [ 54.59815003 148.4131591  403.42879349]]\n"
     ]
    }
   ],
   "source": [
    "#Exponential of a 2D Array\n",
    "\n",
    "\n",
    "import numpy as np\n",
    "\n",
    "# Creating a 2D NumPy array\n",
    "b = np.array([[1, 2, 3], [4, 5, 6]])\n",
    "\n",
    "# Calculating the exponential of each element in the 2D array\n",
    "exp_b = np.exp(b)\n",
    "\n",
    "print(\"Original 2D array:\\n\", b)\n",
    "print(\"Exponential of the 2D array:\\n\", exp_b)"
   ]
  },
  {
   "cell_type": "markdown",
   "id": "de5bd4e7",
   "metadata": {},
   "source": [
    "# Square Root (np.sqrt())\n",
    "The np.sqrt() function computes the non-negative square root of each element in the input array."
   ]
  },
  {
   "cell_type": "code",
   "execution_count": 92,
   "id": "12094d30",
   "metadata": {},
   "outputs": [
    {
     "name": "stdout",
     "output_type": "stream",
     "text": [
      "Original array: [ 1  4  9 16 25 37]\n",
      "Square root of the array: [1.         2.         3.         4.         5.         6.08276253]\n"
     ]
    }
   ],
   "source": [
    "import numpy as np\n",
    "\n",
    "# Creating a NumPy array\n",
    "a = np.array([1, 4, 9, 16, 25,37])\n",
    "\n",
    "# Calculating the square root of each element\n",
    "sqrt_a = np.sqrt(a)\n",
    "\n",
    "print(\"Original array:\", a)  #[1,4,9,16,25]\n",
    "print(\"Square root of the array:\", sqrt_a)  #[1.,2.,3.,4.,5.]"
   ]
  },
  {
   "cell_type": "code",
   "execution_count": 93,
   "id": "a5f702b7",
   "metadata": {},
   "outputs": [
    {
     "name": "stdout",
     "output_type": "stream",
     "text": [
      "sqrt of a: [1.41421356 2.         2.44948974]\n",
      "exp of a: [  7.3890561   54.59815003 403.42879349]\n",
      "sin of a: [ 0.90929743 -0.7568025  -0.2794155 ]\n",
      "cos of a: [-0.41614684 -0.65364362  0.96017029]\n",
      "log of a: [0.69314718 1.38629436 1.79175947]\n"
     ]
    }
   ],
   "source": [
    "#expo, sqrt,sin,cos,log\n",
    "\n",
    "a=np.array([2,4,6])\n",
    "\n",
    "print(\"sqrt of a:\", np.sqrt(a))\n",
    "print(\"exp of a:\", np.exp(a))\n",
    "print(\"sin of a:\", np.sin(a))\n",
    "print(\"cos of a:\", np.cos(a))\n",
    "print(\"log of a:\", np.log(a))"
   ]
  },
  {
   "cell_type": "code",
   "execution_count": null,
   "id": "5782a04d",
   "metadata": {},
   "outputs": [
    {
     "name": "stdout",
     "output_type": "stream",
     "text": [
      "Sum: 42\n",
      "Minimum Value: 1\n",
      "Maxmum Value: 9\n",
      "Mean Value: 5.25\n",
      "Median Value: 5.5\n",
      "Corelation Coefficient: 1.0\n",
      "Standard Deviation: 2.6339134382131846\n"
     ]
    }
   ],
   "source": [
    "#Aggregate Functions:\n",
    "\n",
    "#aggregate functions perform computations on arrays to return a single value.\n",
    "#Here are some common aggregate functions in NumPy\n",
    "\n",
    "a=np.array([1,2,4,5,6,7,8,9])\n",
    "print(\"Sum:\",np.sum(a))   # 42\n",
    "print(\"Minimum Value:\", np.min(a))   #1\n",
    "print(\"Maxmum Value:\", np.max(a))\n",
    "print(\"Mean Value:\", np.mean(a))     #mean =average\n",
    "print(\"Median Value:\", np.median(a)) #\n",
    "print(\"Corelation Coefficient:\", np.corrcoef(a))   #\n",
    "print(\"Standard Deviation:\", np.std(a))"
   ]
  },
  {
   "cell_type": "code",
   "execution_count": null,
   "id": "4b85c41b",
   "metadata": {},
   "outputs": [],
   "source": []
  }
 ],
 "metadata": {
  "kernelspec": {
   "display_name": "Python 3",
   "language": "python",
   "name": "python3"
  },
  "language_info": {
   "codemirror_mode": {
    "name": "ipython",
    "version": 3
   },
   "file_extension": ".py",
   "mimetype": "text/x-python",
   "name": "python",
   "nbconvert_exporter": "python",
   "pygments_lexer": "ipython3",
   "version": "3.13.3"
  }
 },
 "nbformat": 4,
 "nbformat_minor": 5
}
