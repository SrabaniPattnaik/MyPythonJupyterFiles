{
 "cells": [
  {
   "cell_type": "markdown",
   "id": "3b42edc0",
   "metadata": {},
   "source": [
    "# NUMPY\n",
    "   is a powerful library for numerical computations in Python.\n",
    "    It provides support for arrays, matrices, and\n",
    "    many mathematical functions to operate on these data structures."
   ]
  },
  {
   "cell_type": "code",
   "execution_count": null,
   "id": "791b7e13",
   "metadata": {},
   "outputs": [
    {
     "name": "stdout",
     "output_type": "stream",
     "text": [
      "1.0\n",
      "2.0\n",
      "3.0\n",
      "4.0\n",
      "5.0\n"
     ]
    }
   ],
   "source": [
    "#to get the division of all elements we have to iterate it using for loop\n",
    "x =[2,4,6,8,10]\n",
    "for i in x:\n",
    "  print(i/2)"
   ]
  },
  {
   "cell_type": "code",
   "execution_count": 3,
   "id": "d380d871",
   "metadata": {},
   "outputs": [
    {
     "ename": "TypeError",
     "evalue": "unsupported operand type(s) for /: 'list' and 'int'",
     "output_type": "error",
     "traceback": [
      "\u001b[31m---------------------------------------------------------------------------\u001b[39m",
      "\u001b[31mTypeError\u001b[39m                                 Traceback (most recent call last)",
      "\u001b[36mCell\u001b[39m\u001b[36m \u001b[39m\u001b[32mIn[3]\u001b[39m\u001b[32m, line 1\u001b[39m\n\u001b[32m----> \u001b[39m\u001b[32m1\u001b[39m \u001b[43mx\u001b[49m\u001b[43m/\u001b[49m\u001b[32;43m2\u001b[39;49m \u001b[38;5;66;03m#here we cannot use as the above code is iterated in a particular block\u001b[39;00m\n",
      "\u001b[31mTypeError\u001b[39m: unsupported operand type(s) for /: 'list' and 'int'"
     ]
    }
   ],
   "source": [
    "x/2 #here we cannot use as the above code is iterated in a particular block"
   ]
  },
  {
   "cell_type": "code",
   "execution_count": null,
   "id": "b86f3f20",
   "metadata": {},
   "outputs": [],
   "source": [
    "# So to make it happen and get the code easier we will use the NUMPY module"
   ]
  },
  {
   "cell_type": "code",
   "execution_count": null,
   "id": "a9048723",
   "metadata": {},
   "outputs": [
    {
     "name": "stdout",
     "output_type": "stream",
     "text": [
      "[ 2  4  6  8 10]\n"
     ]
    }
   ],
   "source": [
    "import numpy as np\n",
    "x=np.array([2,4,6,8,10])\n",
    "\n",
    "print(x) "
   ]
  },
  {
   "cell_type": "code",
   "execution_count": 6,
   "id": "ae0195ab",
   "metadata": {},
   "outputs": [
    {
     "data": {
      "text/plain": [
       "array([ 4,  8, 12, 16, 20])"
      ]
     },
     "execution_count": 6,
     "metadata": {},
     "output_type": "execute_result"
    }
   ],
   "source": [
    "x*2 #as we have used the numpy module we can call the variable and can do any calculation in it"
   ]
  },
  {
   "cell_type": "code",
   "execution_count": 7,
   "id": "f13cf3fa",
   "metadata": {},
   "outputs": [
    {
     "data": {
      "text/plain": [
       "numpy.ndarray"
      ]
     },
     "execution_count": 7,
     "metadata": {},
     "output_type": "execute_result"
    }
   ],
   "source": [
    "type(x)"
   ]
  },
  {
   "cell_type": "code",
   "execution_count": 8,
   "id": "f3ff69aa",
   "metadata": {},
   "outputs": [],
   "source": [
    "#Numpy has Rich set of NumPy Functions:\n",
    "\n",
    "## Set1 = Random Functions:"
   ]
  },
  {
   "cell_type": "code",
   "execution_count": 14,
   "id": "781fdfd6",
   "metadata": {},
   "outputs": [
    {
     "data": {
      "text/plain": [
       "array([7, 9, 7, 0, 9, 0], dtype=int32)"
      ]
     },
     "execution_count": 14,
     "metadata": {},
     "output_type": "execute_result"
    }
   ],
   "source": [
    "import numpy as np\n",
    "np.random.randint(0,10,6)   #randint will generate randopm integer numbers in range of 0 t0 10 , the number of elements it will print is 6"
   ]
  },
  {
   "cell_type": "code",
   "execution_count": 18,
   "id": "bd924c9f",
   "metadata": {},
   "outputs": [
    {
     "data": {
      "text/plain": [
       "array([[1, 7, 4, 0],\n",
       "       [2, 5, 4, 2],\n",
       "       [2, 6, 8, 5]], dtype=int32)"
      ]
     },
     "execution_count": 18,
     "metadata": {},
     "output_type": "execute_result"
    }
   ],
   "source": [
    "array=np.random.randint(0,10,(3,4)) # range is 1 to 10 and (3,4) is the no. of rows and columns i.e, it will generate a 3x4 matrix\n",
    "array"
   ]
  },
  {
   "cell_type": "code",
   "execution_count": 17,
   "id": "4595c682",
   "metadata": {},
   "outputs": [
    {
     "data": {
      "text/plain": [
       "array([[4, 6, 8],\n",
       "       [9, 2, 2]], dtype=int32)"
      ]
     },
     "execution_count": 17,
     "metadata": {},
     "output_type": "execute_result"
    }
   ],
   "source": [
    "np.random.randint(0,10,(2,3)) "
   ]
  },
  {
   "cell_type": "code",
   "execution_count": 21,
   "id": "5e418afc",
   "metadata": {},
   "outputs": [
    {
     "data": {
      "text/plain": [
       "array([168, 173], dtype=int32)"
      ]
     },
     "execution_count": 21,
     "metadata": {},
     "output_type": "execute_result"
    }
   ],
   "source": [
    "np.random.randint(100,200,2) #it will generate random 2 numbers from 100 to 200"
   ]
  },
  {
   "cell_type": "code",
   "execution_count": 22,
   "id": "7e9f5e0e",
   "metadata": {},
   "outputs": [
    {
     "data": {
      "text/plain": [
       "array([[2, 5],\n",
       "       [2, 6]], dtype=int32)"
      ]
     },
     "execution_count": 22,
     "metadata": {},
     "output_type": "execute_result"
    }
   ],
   "source": [
    "#Numpy slicing\n",
    "array[1: ,0:2]"
   ]
  },
  {
   "cell_type": "code",
   "execution_count": 24,
   "id": "d0193243",
   "metadata": {},
   "outputs": [
    {
     "data": {
      "text/plain": [
       "array([[3, 8, 9, 5],\n",
       "       [4, 1, 5, 0],\n",
       "       [0, 1, 7, 2],\n",
       "       [3, 8, 5, 5],\n",
       "       [4, 4, 1, 5]], dtype=int32)"
      ]
     },
     "execution_count": 24,
     "metadata": {},
     "output_type": "execute_result"
    }
   ],
   "source": [
    "data = np.random.randint(0,10,(5,4))\n",
    "data"
   ]
  },
  {
   "cell_type": "code",
   "execution_count": 25,
   "id": "46576509",
   "metadata": {},
   "outputs": [
    {
     "data": {
      "text/plain": [
       "array([[4, 1],\n",
       "       [0, 1],\n",
       "       [3, 8],\n",
       "       [4, 4]], dtype=int32)"
      ]
     },
     "execution_count": 25,
     "metadata": {},
     "output_type": "execute_result"
    }
   ],
   "source": [
    "data[1: , :2]"
   ]
  },
  {
   "cell_type": "code",
   "execution_count": 26,
   "id": "91c1d12f",
   "metadata": {},
   "outputs": [
    {
     "data": {
      "text/plain": [
       "array([[1, 7, 2],\n",
       "       [8, 5, 5]], dtype=int32)"
      ]
     },
     "execution_count": 26,
     "metadata": {},
     "output_type": "execute_result"
    }
   ],
   "source": [
    "data[2:4,1: ]"
   ]
  },
  {
   "cell_type": "code",
   "execution_count": 28,
   "id": "bcb3b7c6",
   "metadata": {},
   "outputs": [
    {
     "name": "stdout",
     "output_type": "stream",
     "text": [
      "[ 1 23 24]\n"
     ]
    }
   ],
   "source": [
    "#Numpy\n",
    "\n",
    "#1 D array:\n",
    "\n",
    "import numpy as np\n",
    "a=np.array([1,23,24])\n",
    "print(a)"
   ]
  },
  {
   "cell_type": "code",
   "execution_count": 36,
   "id": "a60303fc",
   "metadata": {},
   "outputs": [
    {
     "name": "stdout",
     "output_type": "stream",
     "text": [
      "[2 3 4]\n"
     ]
    },
    {
     "data": {
      "text/plain": [
       "1"
      ]
     },
     "execution_count": 36,
     "metadata": {},
     "output_type": "execute_result"
    }
   ],
   "source": [
    "import numpy as np\n",
    "\n",
    "#1D array\n",
    "a =np.array([2,3,4])\n",
    "print(a)\n",
    "np.ndim(a)"
   ]
  },
  {
   "cell_type": "code",
   "execution_count": 37,
   "id": "a94fc611",
   "metadata": {},
   "outputs": [
    {
     "name": "stdout",
     "output_type": "stream",
     "text": [
      "[[ 2  4  6]\n",
      " [ 8 10 12]\n",
      " [ 5  6  7]]\n"
     ]
    },
    {
     "data": {
      "text/plain": [
       "2"
      ]
     },
     "execution_count": 37,
     "metadata": {},
     "output_type": "execute_result"
    }
   ],
   "source": [
    "#2D array\n",
    "\n",
    "b=np.array([[2,4,6],[8,10,12],[5,6,7]])\n",
    "print(b)\n",
    "np.ndim(b)"
   ]
  },
  {
   "cell_type": "code",
   "execution_count": 41,
   "id": "cd6568fb",
   "metadata": {},
   "outputs": [
    {
     "name": "stdout",
     "output_type": "stream",
     "text": [
      "[[[1 2 3]\n",
      "  [4 5 6]]\n",
      "\n",
      " [[1 2 3]\n",
      "  [4 5 6]]]\n"
     ]
    },
    {
     "data": {
      "text/plain": [
       "3"
      ]
     },
     "execution_count": 41,
     "metadata": {},
     "output_type": "execute_result"
    }
   ],
   "source": [
    "d = np.array([[[1, 2, 3], [4, 5, 6]], [[1, 2, 3], [4, 5, 6]]]) # <-3 dim\n",
    "print(d)\n",
    "np.ndim(d)"
   ]
  },
  {
   "cell_type": "code",
   "execution_count": 45,
   "id": "df5a56ea",
   "metadata": {},
   "outputs": [
    {
     "name": "stdout",
     "output_type": "stream",
     "text": [
      "1\n",
      "2\n",
      "3\n"
     ]
    }
   ],
   "source": [
    "a= np.array([1,2,3]) #--> 1 dim\n",
    "b=np.array([[1,2,3],[4,5,6]]) #--> 2 dim\n",
    "c=np.array([[[1,2,3],[4,5,6]],[[7,8,9],[10,11,12]]]) #--> 3 dim\n",
    "print(np.ndim(a))\n",
    "print(np.ndim(b))\n",
    "print(np.ndim(c))"
   ]
  },
  {
   "cell_type": "code",
   "execution_count": 46,
   "id": "de6d7248",
   "metadata": {},
   "outputs": [
    {
     "data": {
      "text/plain": [
       "array([[0., 0., 0.],\n",
       "       [0., 0., 0.]])"
      ]
     },
     "execution_count": 46,
     "metadata": {},
     "output_type": "execute_result"
    }
   ],
   "source": [
    "#Initialize Numpy arrays\n",
    "\n",
    "#initialize 'x X y' dimensions with '0' values\n",
    "import numpy as np\n",
    "np.zeros((2,3))"
   ]
  },
  {
   "cell_type": "code",
   "execution_count": 48,
   "id": "c036ce45",
   "metadata": {},
   "outputs": [
    {
     "data": {
      "text/plain": [
       "array([[1., 1., 1.],\n",
       "       [1., 1., 1.],\n",
       "       [1., 1., 1.],\n",
       "       [1., 1., 1.]])"
      ]
     },
     "execution_count": 48,
     "metadata": {},
     "output_type": "execute_result"
    }
   ],
   "source": [
    "import numpy as np\n",
    "np.ones((4,3))"
   ]
  },
  {
   "cell_type": "code",
   "execution_count": 50,
   "id": "cbf72b28",
   "metadata": {},
   "outputs": [
    {
     "data": {
      "text/plain": [
       "array([[-6, -6, -6, -6],\n",
       "       [-6, -6, -6, -6],\n",
       "       [-6, -6, -6, -6],\n",
       "       [-6, -6, -6, -6]])"
      ]
     },
     "execution_count": 50,
     "metadata": {},
     "output_type": "execute_result"
    }
   ],
   "source": [
    "import numpy as np\n",
    "\n",
    "#full array with -6 values\n",
    "np.full((4,4),-6)"
   ]
  },
  {
   "cell_type": "code",
   "execution_count": 51,
   "id": "b1a992c5",
   "metadata": {},
   "outputs": [
    {
     "name": "stdout",
     "output_type": "stream",
     "text": [
      "[1 2 3]\n"
     ]
    }
   ],
   "source": [
    "#1D Array\n",
    "\n",
    "a=np.array([1,2,3])\n",
    "print(a)"
   ]
  },
  {
   "cell_type": "code",
   "execution_count": 52,
   "id": "d0c18793",
   "metadata": {},
   "outputs": [
    {
     "name": "stdout",
     "output_type": "stream",
     "text": [
      "[[2 4 6]\n",
      " [4 5 6]\n",
      " [6 5 7]]\n",
      "<class 'numpy.ndarray'>\n"
     ]
    },
    {
     "data": {
      "text/plain": [
       "2"
      ]
     },
     "execution_count": 52,
     "metadata": {},
     "output_type": "execute_result"
    }
   ],
   "source": [
    "#2d array\n",
    "a =np.array([[2,4,6],[4,5,6],[6,5,7]])\n",
    "\n",
    "print(a)\n",
    "print(type(a))\n",
    "a.ndim"
   ]
  },
  {
   "cell_type": "code",
   "execution_count": 54,
   "id": "fccb9e5b",
   "metadata": {},
   "outputs": [
    {
     "name": "stdout",
     "output_type": "stream",
     "text": [
      "[[[1 2 3]\n",
      "  [4 5 6]\n",
      "  [5 6 7]]\n",
      "\n",
      " [[4 5 6]\n",
      "  [8 8 7]\n",
      "  [8 9 7]]]\n",
      "<class 'numpy.ndarray'>\n"
     ]
    },
    {
     "data": {
      "text/plain": [
       "3"
      ]
     },
     "execution_count": 54,
     "metadata": {},
     "output_type": "execute_result"
    }
   ],
   "source": [
    "#3d array\n",
    "x= np.array([[[1,2,3], [4,5,6],[5,6,7]], [[4,5,6],[8,8,7],[8,9,7]]])\n",
    "print(x)\n",
    "\n",
    "print(type(x))\n",
    "x.ndim"
   ]
  },
  {
   "cell_type": "code",
   "execution_count": 55,
   "id": "02b7715a",
   "metadata": {},
   "outputs": [
    {
     "data": {
      "text/plain": [
       "array([  0,  10,  20,  30,  40,  50,  60,  70,  80,  90, 100])"
      ]
     },
     "execution_count": 55,
     "metadata": {},
     "output_type": "execute_result"
    }
   ],
   "source": [
    "#Initilize 'x' and 'y' with an interval of z\n",
    "\n",
    "np.arange(0,101,10)"
   ]
  },
  {
   "cell_type": "code",
   "execution_count": 56,
   "id": "508f3b35",
   "metadata": {},
   "outputs": [
    {
     "data": {
      "text/plain": [
       "array([  0,   5,  10,  15,  20,  25,  30,  35,  40,  45,  50,  55,  60,\n",
       "        65,  70,  75,  80,  85,  90,  95, 100])"
      ]
     },
     "execution_count": 56,
     "metadata": {},
     "output_type": "execute_result"
    }
   ],
   "source": [
    "np.arange(0,101,5)"
   ]
  },
  {
   "cell_type": "code",
   "execution_count": 57,
   "id": "e84b7aed",
   "metadata": {},
   "outputs": [
    {
     "data": {
      "text/plain": [
       "array([ 1,  2,  3,  4,  5,  6,  7,  8,  9, 10, 11, 12, 13, 14, 15, 16, 17,\n",
       "       18, 19])"
      ]
     },
     "execution_count": 57,
     "metadata": {},
     "output_type": "execute_result"
    }
   ],
   "source": [
    "np.arange(1,20)"
   ]
  },
  {
   "cell_type": "code",
   "execution_count": 58,
   "id": "ba4aeded",
   "metadata": {},
   "outputs": [
    {
     "data": {
      "text/plain": [
       "array([ 0.,  5., 10., 15., 20.])"
      ]
     },
     "execution_count": 58,
     "metadata": {},
     "output_type": "execute_result"
    }
   ],
   "source": [
    "#initialize 'z' numbers between 'x' and 'y'\n",
    "#devide upper and lower limit to equal measures\n",
    "\n",
    "np.linspace(0,20,5)"
   ]
  },
  {
   "cell_type": "code",
   "execution_count": 59,
   "id": "a6257383",
   "metadata": {},
   "outputs": [
    {
     "data": {
      "text/plain": [
       "array([ 9., 18., 27., 36., 45., 54., 63., 72., 81., 90.])"
      ]
     },
     "execution_count": 59,
     "metadata": {},
     "output_type": "execute_result"
    }
   ],
   "source": [
    "np.linspace(9,90,10)"
   ]
  },
  {
   "cell_type": "code",
   "execution_count": 60,
   "id": "4b67788c",
   "metadata": {},
   "outputs": [
    {
     "data": {
      "text/plain": [
       "array([ 0. ,  2.5,  5. ,  7.5, 10. ])"
      ]
     },
     "execution_count": 60,
     "metadata": {},
     "output_type": "execute_result"
    }
   ],
   "source": [
    "np.linspace(0,10,5)"
   ]
  },
  {
   "cell_type": "code",
   "execution_count": 61,
   "id": "0606dd8e",
   "metadata": {},
   "outputs": [
    {
     "data": {
      "text/plain": [
       "array([[1., 0., 0., 0., 0.],\n",
       "       [0., 1., 0., 0., 0.],\n",
       "       [0., 0., 1., 0., 0.],\n",
       "       [0., 0., 0., 1., 0.],\n",
       "       [0., 0., 0., 0., 1.]])"
      ]
     },
     "execution_count": 61,
     "metadata": {},
     "output_type": "execute_result"
    }
   ],
   "source": [
    "np.eye(5)  # eye: refer to identical matrix"
   ]
  },
  {
   "cell_type": "code",
   "execution_count": 62,
   "id": "7cbc732d",
   "metadata": {},
   "outputs": [
    {
     "data": {
      "text/plain": [
       "array([[1., 0., 0.],\n",
       "       [0., 1., 0.],\n",
       "       [0., 0., 1.]])"
      ]
     },
     "execution_count": 62,
     "metadata": {},
     "output_type": "execute_result"
    }
   ],
   "source": [
    "np.eye(3)"
   ]
  },
  {
   "cell_type": "code",
   "execution_count": 63,
   "id": "a5d67f99",
   "metadata": {},
   "outputs": [
    {
     "data": {
      "text/plain": [
       "array([[1., 0., 0., 0., 0., 0., 0., 0.],\n",
       "       [0., 1., 0., 0., 0., 0., 0., 0.],\n",
       "       [0., 0., 1., 0., 0., 0., 0., 0.],\n",
       "       [0., 0., 0., 1., 0., 0., 0., 0.],\n",
       "       [0., 0., 0., 0., 1., 0., 0., 0.],\n",
       "       [0., 0., 0., 0., 0., 1., 0., 0.],\n",
       "       [0., 0., 0., 0., 0., 0., 1., 0.],\n",
       "       [0., 0., 0., 0., 0., 0., 0., 1.]])"
      ]
     },
     "execution_count": 63,
     "metadata": {},
     "output_type": "execute_result"
    }
   ],
   "source": [
    "np.eye(8)"
   ]
  },
  {
   "cell_type": "code",
   "execution_count": 64,
   "id": "25e651ce",
   "metadata": {},
   "outputs": [
    {
     "name": "stdout",
     "output_type": "stream",
     "text": [
      "[[ 5  4  0  1]\n",
      " [11  4 10  7]\n",
      " [ 7 10  5  6]\n",
      " [ 7 12 10  4]\n",
      " [ 3  7  3  4]]\n"
     ]
    }
   ],
   "source": [
    "import numpy as np\n",
    "\n",
    "# Create the NumPy array\n",
    "data = np.array([[5, 4, 0, 1],\n",
    "                  [11, 4, 10, 7],\n",
    "                  [7, 10, 5, 6],\n",
    "                  [7, 12, 10, 4],\n",
    "                  [3, 7, 3, 4]])\n",
    "\n",
    "# Print the array\n",
    "print(data)"
   ]
  },
  {
   "cell_type": "code",
   "execution_count": 65,
   "id": "07cb600d",
   "metadata": {},
   "outputs": [
    {
     "data": {
      "text/plain": [
       "8"
      ]
     },
     "execution_count": 65,
     "metadata": {},
     "output_type": "execute_result"
    }
   ],
   "source": [
    "dt =[1,3,4]\n",
    "sum(dt)"
   ]
  },
  {
   "cell_type": "code",
   "execution_count": 66,
   "id": "35190405",
   "metadata": {},
   "outputs": [
    {
     "data": {
      "text/plain": [
       "np.int64(12)"
      ]
     },
     "execution_count": 66,
     "metadata": {},
     "output_type": "execute_result"
    }
   ],
   "source": [
    "data.max()"
   ]
  },
  {
   "cell_type": "code",
   "execution_count": 67,
   "id": "88de23fa",
   "metadata": {},
   "outputs": [
    {
     "data": {
      "text/plain": [
       "np.float64(6.0)"
      ]
     },
     "execution_count": 67,
     "metadata": {},
     "output_type": "execute_result"
    }
   ],
   "source": [
    "data.mean()"
   ]
  },
  {
   "cell_type": "code",
   "execution_count": 68,
   "id": "e5ece2f7",
   "metadata": {},
   "outputs": [
    {
     "data": {
      "text/plain": [
       "np.int64(120)"
      ]
     },
     "execution_count": 68,
     "metadata": {},
     "output_type": "execute_result"
    }
   ],
   "source": [
    "data.sum()"
   ]
  },
  {
   "cell_type": "code",
   "execution_count": 69,
   "id": "b2fc8023",
   "metadata": {},
   "outputs": [
    {
     "data": {
      "text/plain": [
       "array([[3, 3, 3, 3, 3],\n",
       "       [3, 3, 3, 3, 3],\n",
       "       [3, 3, 3, 3, 3],\n",
       "       [3, 3, 3, 3, 3]])"
      ]
     },
     "execution_count": 69,
     "metadata": {},
     "output_type": "execute_result"
    }
   ],
   "source": [
    "#Fill SAME numbers in an array of dimensions 'x' X 'y'\n",
    "\n",
    "np.full((4,5),3)"
   ]
  },
  {
   "cell_type": "code",
   "execution_count": 70,
   "id": "192fb681",
   "metadata": {},
   "outputs": [
    {
     "name": "stdout",
     "output_type": "stream",
     "text": [
      "[[ 2  4  6]\n",
      " [ 5  6  7]\n",
      " [ 8 10 12]]\n",
      "(3, 3)\n"
     ]
    }
   ],
   "source": [
    "#ndarray.shape:\n",
    "\n",
    "a=np.array([[2,4,6],[5,6,7],[8,10,12]])\n",
    "print(a)\n",
    "print(a.shape)"
   ]
  },
  {
   "cell_type": "code",
   "execution_count": 71,
   "id": "a3ac80ed",
   "metadata": {},
   "outputs": [
    {
     "name": "stdout",
     "output_type": "stream",
     "text": [
      "(2, 3)\n"
     ]
    }
   ],
   "source": [
    "b=np.array([[4,5,6],[6,8,10]])\n",
    "print(b.shape)   #2,3"
   ]
  },
  {
   "cell_type": "code",
   "execution_count": 72,
   "id": "909f783b",
   "metadata": {},
   "outputs": [
    {
     "name": "stdout",
     "output_type": "stream",
     "text": [
      "Original Array:\n",
      " [[ 2  4  6  4]\n",
      " [ 5  6  7  8]\n",
      " [ 8 10 12  4]]\n",
      "Changed Array:\n",
      " [[ 2  4]\n",
      " [ 6  4]\n",
      " [ 5  6]\n",
      " [ 7  8]\n",
      " [ 8 10]\n",
      " [12  4]]\n",
      "Changed Array:\n",
      " [[ 2  4  6]\n",
      " [ 4  5  6]\n",
      " [ 7  8  8]\n",
      " [10 12  4]]\n"
     ]
    }
   ],
   "source": [
    "#We can use ndarray.shape function to resize the array:\n",
    "a=np.array([[2,4,6,4],[5,6,7,8],[8,10,12,4]]) #3,4 =12\n",
    "print(\"Original Array:\\n\", a)\n",
    "a.shape=(6,2)   #12 = 1,2,3,4,6,12 (1,12), (2,6),(3,4),(4,3),(6,2)(12,1)\n",
    "print(\"Changed Array:\\n\",a)\n",
    "\n",
    "a.shape=(4,3)\n",
    "print(\"Changed Array:\\n\",a)"
   ]
  },
  {
   "cell_type": "code",
   "execution_count": 77,
   "id": "7bd6b59e",
   "metadata": {},
   "outputs": [
    {
     "name": "stdout",
     "output_type": "stream",
     "text": [
      "1*12:\n",
      " [[1 2 3 4 5 6 5 8 8 5 6 4]]\n",
      "Size of the array:  12\n",
      "Dimension of the array 2\n",
      "\n",
      "\n",
      "2*6:\n",
      " [[1 2 3 4 5 6]\n",
      " [5 8 8 5 6 4]]\n",
      "Size of the array:  12\n",
      "Dimension of the array 2\n",
      "\n",
      "\n",
      "3*4:\n",
      " [[1 2 3 4]\n",
      " [5 6 5 8]\n",
      " [8 5 6 4]]\n",
      "Size of the array:  12\n",
      "Dimension of the array 2\n",
      "\n",
      "\n",
      "4*3:\n",
      " [[1 2 3]\n",
      " [4 5 6]\n",
      " [5 8 8]\n",
      " [5 6 4]]\n",
      "Size of the array:  12\n",
      "Dimension of the array 2\n",
      "\n",
      "\n",
      "6*2:\n",
      " [[1 2]\n",
      " [3 4]\n",
      " [5 6]\n",
      " [5 8]\n",
      " [8 5]\n",
      " [6 4]]\n",
      "Size of the array:  12\n",
      "Dimension of the array 2\n"
     ]
    }
   ],
   "source": [
    "b=np.array([[1,2,3],[4,5,6],[5,8,8],[5,6,4]])\n",
    "# 12= 1*12,2*6,3*4, 4*3,6*2,1*12\n",
    "b.shape=(1,12)  \n",
    "print(\"1*12:\\n\",b)\n",
    "print(\"Size of the array: \",b.size)\n",
    "print(\"Dimension of the array\",b.ndim)\n",
    "print(\"\\n\")\n",
    "b.shape=(2,6)  \n",
    "print(\"2*6:\\n\",b)\n",
    "print(\"Size of the array: \",b.size)\n",
    "print(\"Dimension of the array\",b.ndim)\n",
    "print(\"\\n\")\n",
    "b.shape=(3,4)  \n",
    "print(\"3*4:\\n\",b)\n",
    "print(\"Size of the array: \",b.size)\n",
    "print(\"Dimension of the array\",b.ndim)\n",
    "print(\"\\n\")\n",
    "b.shape=(4,3)  \n",
    "print(\"4*3:\\n\",b)\n",
    "print(\"Size of the array: \",b.size)\n",
    "print(\"Dimension of the array\",b.ndim)\n",
    "print(\"\\n\")\n",
    "b.shape=(6,2)  \n",
    "print(\"6*2:\\n\",b)\n",
    "print(\"Size of the array: \",b.size)\n",
    "print(\"Dimension of the array\",b.ndim)"
   ]
  }
 ],
 "metadata": {
  "kernelspec": {
   "display_name": "Python 3",
   "language": "python",
   "name": "python3"
  },
  "language_info": {
   "codemirror_mode": {
    "name": "ipython",
    "version": 3
   },
   "file_extension": ".py",
   "mimetype": "text/x-python",
   "name": "python",
   "nbconvert_exporter": "python",
   "pygments_lexer": "ipython3",
   "version": "3.13.3"
  }
 },
 "nbformat": 4,
 "nbformat_minor": 5
}
