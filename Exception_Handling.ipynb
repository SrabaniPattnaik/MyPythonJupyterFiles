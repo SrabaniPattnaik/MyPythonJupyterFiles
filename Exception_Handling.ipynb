{
 "cells": [
  {
   "cell_type": "markdown",
   "id": "45ca6072",
   "metadata": {},
   "source": [
    "# Exception Handling in Python:\n",
    "* Exception handling is a mechanism in Python that allows you to deal with errors or exceptions that may occur during the execution of a program.\n",
    "* This helps in preventing the program from crashing and allows you to manage errors gracefully.\n",
    "\n",
    "# 1000\n",
    "--> 500th --> whole application may crash\n",
    "-->\n",
    "\n",
    "# We are buliding ATM:\n",
    "50000-->\n",
    "1--> Insert ATM Card\n",
    "2--> Enter Passout  (i/p taken from user)\n",
    "password = int(input(\"Enter Password:\\n\"))\n",
    "\n",
    "--> How kind of diffeernt erros may occure\n",
    "Keep those erros in Try & Catch Block--> Will handle those errors\n",
    "\n",
    "$231\n",
    "\n",
    "a=10\n",
    "b=0\n",
    "a/b="
   ]
  },
  {
   "cell_type": "markdown",
   "id": "f93d6cf5",
   "metadata": {},
   "source": [
    "# Why Use Exception Handling?\n",
    "* When a Python script encounters an error (an exception), it typically stops execution and generates an error message.\n",
    "* Exception handling can be used to handle the error gracefully and continue executing the program."
   ]
  },
  {
   "cell_type": "markdown",
   "id": "ca030a8a",
   "metadata": {},
   "source": [
    "# Common Exceptions in Python\n",
    "1. ZeroDivisionError: Occurs when you divide a number by zero. 10/0\n",
    "2. TypeError: Occurs when an operation or function is applied to an object of inappropriate type.  $Sandeep_Bank_Balance =10000000\n",
    "3. ValueError: Occurs when a function receives an argument of the correct type but an inappropriate value.  x=int(input(\"Value of x:\"))   X =\"Sandeep\"\n",
    "4. FileNotFoundError: Occurs when trying to open a file that does not exist."
   ]
  },
  {
   "cell_type": "code",
   "execution_count": 1,
   "id": "bfccbe6d",
   "metadata": {},
   "outputs": [
    {
     "ename": "ValueError",
     "evalue": "invalid literal for int() with base 10: 'jk'",
     "output_type": "error",
     "traceback": [
      "\u001b[31m---------------------------------------------------------------------------\u001b[39m",
      "\u001b[31mValueError\u001b[39m                                Traceback (most recent call last)",
      "\u001b[36mCell\u001b[39m\u001b[36m \u001b[39m\u001b[32mIn[1]\u001b[39m\u001b[32m, line 1\u001b[39m\n\u001b[32m----> \u001b[39m\u001b[32m1\u001b[39m a=\u001b[38;5;28;43mint\u001b[39;49m\u001b[43m(\u001b[49m\u001b[38;5;28;43minput\u001b[39;49m\u001b[43m(\u001b[49m\u001b[33;43m\"\u001b[39;49m\u001b[33;43mEnter A value for a\u001b[39;49m\u001b[38;5;130;43;01m\\n\u001b[39;49;00m\u001b[33;43m\"\u001b[39;49m\u001b[43m)\u001b[49m\u001b[43m)\u001b[49m\n\u001b[32m      3\u001b[39m b=\u001b[38;5;28mint\u001b[39m(\u001b[38;5;28minput\u001b[39m(\u001b[33m\"\u001b[39m\u001b[33mEnter A value for b\u001b[39m\u001b[38;5;130;01m\\n\u001b[39;00m\u001b[33m \u001b[39m\u001b[33m\"\u001b[39m))\n\u001b[32m      5\u001b[39m c = a/b\n",
      "\u001b[31mValueError\u001b[39m: invalid literal for int() with base 10: 'jk'"
     ]
    }
   ],
   "source": [
    "a=int(input(\"Enter A value for a\\n\"))\n",
    "\n",
    "b=int(input(\"Enter A value for b\\n \"))\n",
    "\n",
    "c = a/b\n",
    "\n",
    "print(c)"
   ]
  },
  {
   "cell_type": "code",
   "execution_count": 9,
   "id": "a8850969",
   "metadata": {},
   "outputs": [
    {
     "ename": "ZeroDivisionError",
     "evalue": "division by zero",
     "output_type": "error",
     "traceback": [
      "\u001b[31m---------------------------------------------------------------------------\u001b[39m",
      "\u001b[31mZeroDivisionError\u001b[39m                         Traceback (most recent call last)",
      "\u001b[36mCell\u001b[39m\u001b[36m \u001b[39m\u001b[32mIn[9]\u001b[39m\u001b[32m, line 6\u001b[39m\n\u001b[32m      2\u001b[39m a = \u001b[38;5;28mint\u001b[39m(\u001b[38;5;28minput\u001b[39m(\u001b[33m\"\u001b[39m\u001b[33mEnter A value for a\u001b[39m\u001b[38;5;130;01m\\n\u001b[39;00m\u001b[33m\"\u001b[39m))\n\u001b[32m      4\u001b[39m b = \u001b[38;5;28mint\u001b[39m(\u001b[38;5;28minput\u001b[39m(\u001b[33m\"\u001b[39m\u001b[33mEnter A value for b\u001b[39m\u001b[38;5;130;01m\\n\u001b[39;00m\u001b[33m\"\u001b[39m))\n\u001b[32m----> \u001b[39m\u001b[32m6\u001b[39m c = \u001b[43ma\u001b[49m\u001b[43m/\u001b[49m\u001b[43mb\u001b[49m\n\u001b[32m      8\u001b[39m \u001b[38;5;28mprint\u001b[39m(c)\n",
      "\u001b[31mZeroDivisionError\u001b[39m: division by zero"
     ]
    }
   ],
   "source": [
    "#Zerodivision error\n",
    "a = int(input(\"Enter A value for a\\n\"))\n",
    "\n",
    "b = int(input(\"Enter A value for b\\n\"))\n",
    "\n",
    "c = a/b\n",
    "\n",
    "print(c)"
   ]
  },
  {
   "cell_type": "markdown",
   "id": "ebf9c40a",
   "metadata": {},
   "source": [
    "# Syntax of Exception Handling:\n",
    "* Python uses try, except, else, and finally blocks for exception handling.\n",
    "\n",
    "1. try: This block lets you test a block of code for errors.\n",
    "2. except: This block lets you handle the error.\n",
    "3. else: This block lets you execute code when there is no error.\n",
    "4. finally: This block lets you execute code, regardless of the result of the try-except blocks."
   ]
  },
  {
   "cell_type": "code",
   "execution_count": 3,
   "id": "27f2f440",
   "metadata": {},
   "outputs": [
    {
     "name": "stdout",
     "output_type": "stream",
     "text": [
      "Result: 0.0\n",
      "The operation was successful.\n",
      "This block will always execute, regardless of an error.\n"
     ]
    }
   ],
   "source": [
    "try:\n",
    "    #code that might cause an edxception\n",
    "    num = float(input(\"Enter a number:\"))\n",
    "    result = 10*num\n",
    "    print(f\"Result: {result}\")\n",
    "except ZeroDivisionError:\n",
    "    #code to handle the ZeroDivisionError\n",
    "    print(\"Error: Cannot divide by zero!\")\n",
    "except ValueError:\n",
    "    # Code to handle the ValueError\n",
    "    print(\"Error: Invalid input! Please enter a valid number.\")\n",
    "else:\n",
    "    # Code to execute if there is no exception\n",
    "    print(\"The operation was successful.\")\n",
    "finally:\n",
    "    # Code that always executes\n",
    "    print(\"This block will always execute, regardless of an error.\")"
   ]
  },
  {
   "cell_type": "code",
   "execution_count": 5,
   "id": "49ff90f0",
   "metadata": {},
   "outputs": [
    {
     "name": "stdout",
     "output_type": "stream",
     "text": [
      "Result:280.0\n",
      "The Code is Good\n",
      "This Finally Block is optional and will execute regardless of an error\n"
     ]
    }
   ],
   "source": [
    "try:\n",
    "    num= float(input(\"Enter a Number:\\n\"))   #Float = int , decimal number , #int = interger, no decimal\n",
    "    result=num*5\n",
    "    print(f\"Result:{result}\")\n",
    "except ValueError:\n",
    "    print(\"Error:could not convert string to float: \")\n",
    "else:\n",
    "    print(\"The Code is Good\")\n",
    "finally:\n",
    "    print(\"This Finally Block is optional and will execute regardless of an error\")\n"
   ]
  },
  {
   "cell_type": "code",
   "execution_count": 10,
   "id": "32463667",
   "metadata": {},
   "outputs": [
    {
     "ename": "ZeroDivisionError",
     "evalue": "float division by zero",
     "output_type": "error",
     "traceback": [
      "\u001b[31m---------------------------------------------------------------------------\u001b[39m",
      "\u001b[31mZeroDivisionError\u001b[39m                         Traceback (most recent call last)",
      "\u001b[36mCell\u001b[39m\u001b[36m \u001b[39m\u001b[32mIn[10]\u001b[39m\u001b[32m, line 3\u001b[39m\n\u001b[32m      1\u001b[39m \u001b[38;5;28;01mtry\u001b[39;00m:\n\u001b[32m      2\u001b[39m     num = \u001b[38;5;28mfloat\u001b[39m(\u001b[38;5;28minput\u001b[39m(\u001b[33m\"\u001b[39m\u001b[33mEnter a Number:\u001b[39m\u001b[38;5;130;01m\\n\u001b[39;00m\u001b[33m\"\u001b[39m))\n\u001b[32m----> \u001b[39m\u001b[32m3\u001b[39m     result = \u001b[32;43m50\u001b[39;49m\u001b[43m/\u001b[49m\u001b[43mnum\u001b[49m\n\u001b[32m      4\u001b[39m     \u001b[38;5;28mprint\u001b[39m(\u001b[33mf\u001b[39m\u001b[33m\"\u001b[39m\u001b[33mResult:\u001b[39m\u001b[38;5;132;01m{\u001b[39;00mresult\u001b[38;5;132;01m}\u001b[39;00m\u001b[33m\"\u001b[39m)\n\u001b[32m      5\u001b[39m \u001b[38;5;28;01mexcept\u001b[39;00m \u001b[38;5;167;01mValueError\u001b[39;00m:\n",
      "\u001b[31mZeroDivisionError\u001b[39m: float division by zero"
     ]
    }
   ],
   "source": [
    "try:\n",
    "    num = float(input(\"Enter a Number:\\n\"))\n",
    "    result = 50/num\n",
    "    print(f\"Result:{result}\")\n",
    "except ValueError:\n",
    "    print(\"Error: could not convert string to float:\")\n",
    "\n",
    "else:\n",
    "    print(\"The code is Good\")"
   ]
  },
  {
   "cell_type": "code",
   "execution_count": 11,
   "id": "b7b430ad",
   "metadata": {},
   "outputs": [
    {
     "name": "stdout",
     "output_type": "stream",
     "text": [
      "Error: Value Error\n"
     ]
    }
   ],
   "source": [
    "try:\n",
    "  num1= int(input(\"Enter the first number\\n\"))\n",
    "  num2= int(input(\"Enter the second number\\n\"))\n",
    "  result= num1/num2\n",
    "  print(f\"Result:{result}\")\n",
    "except ZeroDivisionError:\n",
    "  print(\"Error: Zero Division\")\n",
    "except ValueError:\n",
    "  print(\"Error: Value Error\")\n",
    "except Exception as e:\n",
    "  print(f\"An unexpected error occuured:{e}\")\n",
    "else:\n",
    "  print(\"execution is succesfull\")"
   ]
  }
 ],
 "metadata": {
  "kernelspec": {
   "display_name": "Python 3",
   "language": "python",
   "name": "python3"
  },
  "language_info": {
   "codemirror_mode": {
    "name": "ipython",
    "version": 3
   },
   "file_extension": ".py",
   "mimetype": "text/x-python",
   "name": "python",
   "nbconvert_exporter": "python",
   "pygments_lexer": "ipython3",
   "version": "3.13.3"
  }
 },
 "nbformat": 4,
 "nbformat_minor": 5
}
