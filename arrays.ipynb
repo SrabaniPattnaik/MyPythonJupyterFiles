{
 "cells": [
  {
   "cell_type": "code",
   "execution_count": 5,
   "id": "64ef509d-3293-4af9-97ce-e5b6e626d340",
   "metadata": {},
   "outputs": [],
   "source": [
    "#ARRAYS\n",
    "import numpy as np\n"
   ]
  },
  {
   "cell_type": "code",
   "execution_count": 6,
   "id": "c27642e8-bb01-4f70-94f8-873abcb22c48",
   "metadata": {},
   "outputs": [],
   "source": [
    "#NUMPY(Numerical Python)"
   ]
  },
  {
   "cell_type": "code",
   "execution_count": 7,
   "id": "ff69de59-cc64-430e-b0e3-364e92537812",
   "metadata": {},
   "outputs": [
    {
     "name": "stdout",
     "output_type": "stream",
     "text": [
      "0.0\n",
      "0.5\n",
      "1.0\n",
      "1.5\n",
      "2.0\n"
     ]
    }
   ],
   "source": [
    "x=[0,1,2,3,4]\n",
    "for i in x:\n",
    "   print(i/2)"
   ]
  },
  {
   "cell_type": "code",
   "execution_count": 8,
   "id": "190716bc-7bd0-4a84-9ca1-9dad4c4ee60e",
   "metadata": {},
   "outputs": [
    {
     "name": "stdout",
     "output_type": "stream",
     "text": [
      "[ 2  4  6  8 10]\n"
     ]
    }
   ],
   "source": [
    "x=np.array([2,4,6,8,10])\n",
    "print(x)"
   ]
  },
  {
   "cell_type": "code",
   "execution_count": 9,
   "id": "1ac7a17a-b7ad-41d3-812a-a896f913e38b",
   "metadata": {},
   "outputs": [
    {
     "data": {
      "text/plain": [
       "array([1., 2., 3., 4., 5.])"
      ]
     },
     "execution_count": 9,
     "metadata": {},
     "output_type": "execute_result"
    }
   ],
   "source": [
    "x/2"
   ]
  },
  {
   "cell_type": "code",
   "execution_count": 10,
   "id": "b3342efa-4c01-4506-84ee-fc60ef86cca3",
   "metadata": {},
   "outputs": [
    {
     "data": {
      "text/plain": [
       "numpy.ndarray"
      ]
     },
     "execution_count": 10,
     "metadata": {},
     "output_type": "execute_result"
    }
   ],
   "source": [
    "type(x)"
   ]
  },
  {
   "cell_type": "code",
   "execution_count": 11,
   "id": "0ac95750-6059-4b0c-a2db-3f5e27a883bd",
   "metadata": {},
   "outputs": [],
   "source": [
    "#numpy has a rich set of numpy function\n",
    "\n",
    "#set 1 : random functions : used to develope random arrays"
   ]
  },
  {
   "cell_type": "code",
   "execution_count": 12,
   "id": "48edf87d-bf9c-4df3-b01a-6ae1f34a5002",
   "metadata": {},
   "outputs": [
    {
     "data": {
      "text/plain": [
       "array([8, 7, 3, 7, 1, 9], dtype=int32)"
      ]
     },
     "execution_count": 12,
     "metadata": {},
     "output_type": "execute_result"
    }
   ],
   "source": [
    "import numpy as np\n",
    "np.random.randint(0,10,6)"
   ]
  },
  {
   "cell_type": "code",
   "execution_count": 13,
   "id": "66262677-6aca-42c9-a9a3-9aa221e899b5",
   "metadata": {},
   "outputs": [
    {
     "name": "stdout",
     "output_type": "stream",
     "text": [
      "[[2 1 8]\n",
      " [9 4 7]\n",
      " [1 5 9]]\n"
     ]
    }
   ],
   "source": [
    "array = np.random.randint(0,10,(3,3))\n",
    "print (array)"
   ]
  },
  {
   "cell_type": "code",
   "execution_count": 14,
   "id": "2dc063c1-cbf1-4b3b-98fb-a6d804ec0b71",
   "metadata": {},
   "outputs": [
    {
     "data": {
      "text/plain": [
       "array([[5, 1, 2, 7, 3],\n",
       "       [1, 4, 0, 7, 5]], dtype=int32)"
      ]
     },
     "execution_count": 14,
     "metadata": {},
     "output_type": "execute_result"
    }
   ],
   "source": [
    "array = np.random.randint(0,10,(2,5))\n",
    "array"
   ]
  },
  {
   "cell_type": "code",
   "execution_count": 15,
   "id": "e00f890b-111a-484b-a5da-608b03fd9434",
   "metadata": {},
   "outputs": [
    {
     "data": {
      "text/plain": [
       "array([0.23518931, 0.28929691, 0.06285804, 0.48296313, 0.21761564,\n",
       "       0.63250261, 0.3539076 , 0.8789264 , 0.60539362, 0.84631012])"
      ]
     },
     "execution_count": 15,
     "metadata": {},
     "output_type": "execute_result"
    }
   ],
   "source": [
    "np.random.rand(10)"
   ]
  },
  {
   "cell_type": "code",
   "execution_count": 16,
   "id": "b242af65-3bea-43f1-b977-431f459cb169",
   "metadata": {},
   "outputs": [
    {
     "data": {
      "text/plain": [
       "array([0.83437207, 0.16285983])"
      ]
     },
     "execution_count": 16,
     "metadata": {},
     "output_type": "execute_result"
    }
   ],
   "source": [
    "np.random.rand(2)"
   ]
  },
  {
   "cell_type": "code",
   "execution_count": 17,
   "id": "4ddb8443-46ec-408f-afbc-7b14d78236bf",
   "metadata": {},
   "outputs": [],
   "source": [
    "#NUMPY SLICING"
   ]
  },
  {
   "cell_type": "code",
   "execution_count": 18,
   "id": "ec19c232-8d70-4835-b965-6f4886496b56",
   "metadata": {},
   "outputs": [
    {
     "data": {
      "text/plain": [
       "array([[7, 1, 7, 8],\n",
       "       [2, 3, 2, 2],\n",
       "       [8, 9, 3, 0],\n",
       "       [5, 5, 9, 3],\n",
       "       [8, 2, 3, 5]], dtype=int32)"
      ]
     },
     "execution_count": 18,
     "metadata": {},
     "output_type": "execute_result"
    }
   ],
   "source": [
    "data = np.random.randint(0,10,(5,4))\n",
    "data"
   ]
  },
  {
   "cell_type": "code",
   "execution_count": 19,
   "id": "04027957-90c3-49d2-8b17-8ac649ed342b",
   "metadata": {},
   "outputs": [
    {
     "data": {
      "text/plain": [
       "array([[2, 3],\n",
       "       [8, 9],\n",
       "       [5, 5],\n",
       "       [8, 2]], dtype=int32)"
      ]
     },
     "execution_count": 19,
     "metadata": {},
     "output_type": "execute_result"
    }
   ],
   "source": [
    "data[1:,:2]"
   ]
  },
  {
   "cell_type": "code",
   "execution_count": 20,
   "id": "731ef915-acd0-4a66-b8ec-9f6a8a2891f7",
   "metadata": {},
   "outputs": [
    {
     "data": {
      "text/plain": [
       "array([[9, 3, 0],\n",
       "       [5, 9, 3]], dtype=int32)"
      ]
     },
     "execution_count": 20,
     "metadata": {},
     "output_type": "execute_result"
    }
   ],
   "source": [
    "data[2:4,1:]"
   ]
  },
  {
   "cell_type": "code",
   "execution_count": 21,
   "id": "f2bc1a55-2f52-47c4-b617-13999495009e",
   "metadata": {},
   "outputs": [
    {
     "data": {
      "text/plain": [
       "np.int64(92)"
      ]
     },
     "execution_count": 21,
     "metadata": {},
     "output_type": "execute_result"
    }
   ],
   "source": [
    "data.sum() # it will show the sum of all numbers present in the data array"
   ]
  },
  {
   "cell_type": "code",
   "execution_count": 22,
   "id": "154e6b0f-3f0d-49c2-83a0-9a1a4747d354",
   "metadata": {},
   "outputs": [
    {
     "data": {
      "text/plain": [
       "np.int32(9)"
      ]
     },
     "execution_count": 22,
     "metadata": {},
     "output_type": "execute_result"
    }
   ],
   "source": [
    "data.max()        # it will show the max number that is present in the data array"
   ]
  },
  {
   "cell_type": "code",
   "execution_count": 23,
   "id": "22f93618-1b6a-44b3-b81a-5274e026ef71",
   "metadata": {},
   "outputs": [
    {
     "data": {
      "text/plain": [
       "np.int32(0)"
      ]
     },
     "execution_count": 23,
     "metadata": {},
     "output_type": "execute_result"
    }
   ],
   "source": [
    "data.min()        # it will show the min number that is present in the data array"
   ]
  },
  {
   "cell_type": "code",
   "execution_count": 24,
   "id": "d8196075-6ff6-4bb8-8b5f-7ffd171931ed",
   "metadata": {},
   "outputs": [],
   "source": [
    "# 1D Array"
   ]
  },
  {
   "cell_type": "code",
   "execution_count": 25,
   "id": "8af9c343-5595-4cb7-aa1c-bb09071aafe0",
   "metadata": {},
   "outputs": [
    {
     "name": "stdout",
     "output_type": "stream",
     "text": [
      "[ 4  8 11]\n"
     ]
    }
   ],
   "source": [
    "a = np.array([4,8,11])\n",
    "print(a)"
   ]
  },
  {
   "cell_type": "code",
   "execution_count": 26,
   "id": "b8645ef3-3b99-476d-929c-11f244105c67",
   "metadata": {},
   "outputs": [],
   "source": [
    "# 2D Array"
   ]
  },
  {
   "cell_type": "code",
   "execution_count": 27,
   "id": "6b912e4d-b3f3-4cdb-99af-2b05575c2276",
   "metadata": {},
   "outputs": [
    {
     "name": "stdout",
     "output_type": "stream",
     "text": [
      "[[ 4  8 11]\n",
      " [16 45  1]]\n"
     ]
    }
   ],
   "source": [
    "b = np.array([[4,8,11],[16,45,1]])\n",
    "print(b)"
   ]
  },
  {
   "cell_type": "code",
   "execution_count": 28,
   "id": "4150449f-a871-49ce-8197-cd5f527f02c6",
   "metadata": {},
   "outputs": [],
   "source": [
    "# 3D Array"
   ]
  },
  {
   "cell_type": "code",
   "execution_count": 29,
   "id": "8a8f0df7-e5dc-4d37-ba5a-3ccd246622be",
   "metadata": {},
   "outputs": [
    {
     "name": "stdout",
     "output_type": "stream",
     "text": [
      "[[[1 2 3]\n",
      "  [4 5 6]]\n",
      "\n",
      " [[4 5 6]\n",
      "  [8 8 7]]]\n"
     ]
    },
    {
     "data": {
      "text/plain": [
       "numpy.ndarray"
      ]
     },
     "execution_count": 29,
     "metadata": {},
     "output_type": "execute_result"
    }
   ],
   "source": [
    "m1 = np.array([[[1,2,3],[4,5,6]],[[4,5,6],[8,8,7]]])\n",
    "print(m1)\n",
    "type(m1)"
   ]
  },
  {
   "cell_type": "code",
   "execution_count": 30,
   "id": "304e993f-d46c-4157-a2ab-490d0be9caca",
   "metadata": {},
   "outputs": [],
   "source": [
    "#Initialize numpy arrays"
   ]
  },
  {
   "cell_type": "code",
   "execution_count": 31,
   "id": "6f91d7ac-4284-4b12-b914-2fecf7f3513c",
   "metadata": {},
   "outputs": [],
   "source": [
    "# initialize x X y dimentions with ' 0 ' values"
   ]
  },
  {
   "cell_type": "code",
   "execution_count": 32,
   "id": "0d4bb5a0-1022-48bd-a1d5-d3974c1e3d90",
   "metadata": {},
   "outputs": [],
   "source": [
    "# if we want all ' 0 's then zeros() will be used"
   ]
  },
  {
   "cell_type": "code",
   "execution_count": 33,
   "id": "b8d27d7a-8d48-4583-8871-c8b83602d314",
   "metadata": {},
   "outputs": [
    {
     "data": {
      "text/plain": [
       "array([[0., 0.],\n",
       "       [0., 0.],\n",
       "       [0., 0.],\n",
       "       [0., 0.]])"
      ]
     },
     "execution_count": 33,
     "metadata": {},
     "output_type": "execute_result"
    }
   ],
   "source": [
    "np.zeros((4,2))   #initializing numpy array which have all the values ' 0 ' ."
   ]
  },
  {
   "cell_type": "code",
   "execution_count": 34,
   "id": "4923eee7-5624-47aa-980c-0357237fab1f",
   "metadata": {},
   "outputs": [],
   "source": [
    "# if we want all ' 1 's then ones() will be used"
   ]
  },
  {
   "cell_type": "code",
   "execution_count": 35,
   "id": "a54c03d2-6aaa-4deb-8ce3-3571b56a4a76",
   "metadata": {},
   "outputs": [
    {
     "data": {
      "text/plain": [
       "array([[1., 1.],\n",
       "       [1., 1.],\n",
       "       [1., 1.],\n",
       "       [1., 1.]])"
      ]
     },
     "execution_count": 35,
     "metadata": {},
     "output_type": "execute_result"
    }
   ],
   "source": [
    "np.ones((4,2))   #initializing numpy array which have all the values ' 1 ' ."
   ]
  },
  {
   "cell_type": "code",
   "execution_count": 36,
   "id": "b20b0033-60c3-4c69-8245-1da70a1b7cd5",
   "metadata": {},
   "outputs": [],
   "source": [
    "# in case we want some other values except 0 & 1 then full() will be used"
   ]
  },
  {
   "cell_type": "code",
   "execution_count": 37,
   "id": "1c02d2c4-4813-412a-9bbd-c327c24cd58f",
   "metadata": {},
   "outputs": [
    {
     "data": {
      "text/plain": [
       "array([[-3, -3, -3],\n",
       "       [-3, -3, -3],\n",
       "       [-3, -3, -3],\n",
       "       [-3, -3, -3],\n",
       "       [-3, -3, -3]])"
      ]
     },
     "execution_count": 37,
     "metadata": {},
     "output_type": "execute_result"
    }
   ],
   "source": [
    "np.full((5,3),-3)"
   ]
  },
  {
   "cell_type": "code",
   "execution_count": 38,
   "id": "749d0e85-b324-4017-8af1-33bf267f9e39",
   "metadata": {},
   "outputs": [],
   "source": [
    "# initialize 'x' and 'y' with an interval of 'z'"
   ]
  },
  {
   "cell_type": "code",
   "execution_count": 39,
   "id": "a56c554d-0a97-4dab-99f0-59004a23a92a",
   "metadata": {},
   "outputs": [],
   "source": [
    "# if we want numbers from x to y in the interval of 5 we use arange()"
   ]
  },
  {
   "cell_type": "code",
   "execution_count": 40,
   "id": "0bdbd8d5-f2fe-4789-920c-da66430597c6",
   "metadata": {},
   "outputs": [
    {
     "data": {
      "text/plain": [
       "array([  0,   5,  10,  15,  20,  25,  30,  35,  40,  45,  50,  55,  60,\n",
       "        65,  70,  75,  80,  85,  90,  95, 100])"
      ]
     },
     "execution_count": 40,
     "metadata": {},
     "output_type": "execute_result"
    }
   ],
   "source": [
    "np.arange(0,101,5)    #it will show the numbers from 0 to 101 in the interval of 5 "
   ]
  },
  {
   "cell_type": "code",
   "execution_count": 41,
   "id": "bbba7146-dabc-4d42-bdd1-c55ef0d5a2c3",
   "metadata": {},
   "outputs": [
    {
     "data": {
      "text/plain": [
       "array([ 0,  1,  2,  3,  4,  5,  6,  7,  8,  9, 10, 11, 12, 13, 14, 15, 16,\n",
       "       17, 18, 19])"
      ]
     },
     "execution_count": 41,
     "metadata": {},
     "output_type": "execute_result"
    }
   ],
   "source": [
    "np.arange(0,20)       #it will show the numbers from 0 to 20, by default it will take interval of 1"
   ]
  },
  {
   "cell_type": "code",
   "execution_count": 42,
   "id": "fc35d41c-4b4b-4479-8bd7-f0b76b4c884f",
   "metadata": {},
   "outputs": [],
   "source": [
    "# initialize z numbers between x and y\n",
    "\n",
    "# divide upper and lower limit to equal measures"
   ]
  },
  {
   "cell_type": "code",
   "execution_count": 43,
   "id": "ac7a1525-23e4-4603-a166-9ced050cf20a",
   "metadata": {},
   "outputs": [
    {
     "data": {
      "text/plain": [
       "array([ 5.        ,  6.66666667,  8.33333333, 10.        ])"
      ]
     },
     "execution_count": 43,
     "metadata": {},
     "output_type": "execute_result"
    }
   ],
   "source": [
    "np.linspace(5,10,4)"
   ]
  },
  {
   "cell_type": "code",
   "execution_count": 44,
   "id": "384a36b4-0de7-45c7-bc73-efadc5e5150f",
   "metadata": {},
   "outputs": [
    {
     "data": {
      "text/plain": [
       "array([ 10.,  20.,  30.,  40.,  50.,  60.,  70.,  80.,  90., 100.])"
      ]
     },
     "execution_count": 44,
     "metadata": {},
     "output_type": "execute_result"
    }
   ],
   "source": [
    "np.linspace(10,100,10)"
   ]
  },
  {
   "cell_type": "code",
   "execution_count": 45,
   "id": "7f67d337-8279-4034-8162-94e055b5eef9",
   "metadata": {},
   "outputs": [
    {
     "data": {
      "text/plain": [
       "array([ 0.,  5., 10., 15., 20.])"
      ]
     },
     "execution_count": 45,
     "metadata": {},
     "output_type": "execute_result"
    }
   ],
   "source": [
    "np.linspace(0,20,5)"
   ]
  },
  {
   "cell_type": "code",
   "execution_count": 46,
   "id": "a28bccc5-46c7-474e-b7e6-232e213718ac",
   "metadata": {},
   "outputs": [],
   "source": [
    "# identical matrix"
   ]
  },
  {
   "cell_type": "code",
   "execution_count": 47,
   "id": "238d2531-64b4-4140-a4fa-adb565155219",
   "metadata": {},
   "outputs": [
    {
     "data": {
      "text/plain": [
       "array([[1., 0., 0., 0., 0.],\n",
       "       [0., 1., 0., 0., 0.],\n",
       "       [0., 0., 1., 0., 0.],\n",
       "       [0., 0., 0., 1., 0.],\n",
       "       [0., 0., 0., 0., 1.]])"
      ]
     },
     "execution_count": 47,
     "metadata": {},
     "output_type": "execute_result"
    }
   ],
   "source": [
    "np.eye(5)     # here i will get the identical matrix i.e having 5 rows and 5 columns"
   ]
  },
  {
   "cell_type": "code",
   "execution_count": 48,
   "id": "02bd389e-e888-44e8-b6ac-240033f9a8d8",
   "metadata": {},
   "outputs": [
    {
     "data": {
      "text/plain": [
       "array([[1., 0., 0., 0., 0., 0.],\n",
       "       [0., 1., 0., 0., 0., 0.],\n",
       "       [0., 0., 1., 0., 0., 0.],\n",
       "       [0., 0., 0., 1., 0., 0.],\n",
       "       [0., 0., 0., 0., 1., 0.],\n",
       "       [0., 0., 0., 0., 0., 1.]])"
      ]
     },
     "execution_count": 48,
     "metadata": {},
     "output_type": "execute_result"
    }
   ],
   "source": [
    "np.eye(6) "
   ]
  },
  {
   "cell_type": "code",
   "execution_count": 49,
   "id": "806c673a-f5f7-4694-8638-2d58b0d05760",
   "metadata": {},
   "outputs": [
    {
     "data": {
      "text/plain": [
       "array([[1., 0., 0.],\n",
       "       [0., 1., 0.],\n",
       "       [0., 0., 1.]])"
      ]
     },
     "execution_count": 49,
     "metadata": {},
     "output_type": "execute_result"
    }
   ],
   "source": [
    "np.eye(3) "
   ]
  },
  {
   "cell_type": "code",
   "execution_count": 50,
   "id": "4b3a39c0-8351-4518-8e96-c15b6af67c36",
   "metadata": {},
   "outputs": [],
   "source": [
    "#ndarray.shape                     #it will shows howmany rows and howmany columns are there"
   ]
  },
  {
   "cell_type": "code",
   "execution_count": 51,
   "id": "99483802-43b5-4dc0-a481-004885d2bcb9",
   "metadata": {},
   "outputs": [
    {
     "name": "stdout",
     "output_type": "stream",
     "text": [
      "(2, 2, 3)\n"
     ]
    }
   ],
   "source": [
    "print(m1.shape)                    #.shape will shows howmany rows and howmany columns are there"
   ]
  },
  {
   "cell_type": "code",
   "execution_count": 52,
   "id": "e7760453-3468-4ac7-8a9d-30c9f3dc0555",
   "metadata": {},
   "outputs": [],
   "source": [
    "# we can use ndarray.shape to resize the array"
   ]
  },
  {
   "cell_type": "code",
   "execution_count": 53,
   "id": "262d6a5a-0ecc-42a3-9c30-8df52cdb73dd",
   "metadata": {},
   "outputs": [
    {
     "name": "stdout",
     "output_type": "stream",
     "text": [
      "original array : \n",
      " [[ 2  4  6  5]\n",
      " [ 1  9 11  6]\n",
      " [ 6  7 10  1]]\n",
      "resized array : \n",
      " [[ 2  4]\n",
      " [ 6  5]\n",
      " [ 1  9]\n",
      " [11  6]\n",
      " [ 6  7]\n",
      " [10  1]]\n"
     ]
    }
   ],
   "source": [
    "a = np.array([[2,4,6,5],[1,9,11,6],[6,7,10,1]])\n",
    "print(\"original array : \\n\", a)\n",
    "a.shape = (6,2)\n",
    "print(\"resized array : \\n\", a)"
   ]
  },
  {
   "cell_type": "code",
   "execution_count": 54,
   "id": "dd1487f4-1e91-42f1-bff1-8090c6fbe640",
   "metadata": {},
   "outputs": [
    {
     "name": "stdout",
     "output_type": "stream",
     "text": [
      "[ 0  1  2  3  4  5  6  7  8  9 10 11 12 13 14 15 16 17 18 19 20 21 22 23]\n",
      "[[[ 0  1]\n",
      "  [ 2  3]]\n",
      "\n",
      " [[ 4  5]\n",
      "  [ 6  7]]\n",
      "\n",
      " [[ 8  9]\n",
      "  [10 11]]\n",
      "\n",
      " [[12 13]\n",
      "  [14 15]]\n",
      "\n",
      " [[16 17]\n",
      "  [18 19]]\n",
      "\n",
      " [[20 21]\n",
      "  [22 23]]]\n",
      "3\n"
     ]
    }
   ],
   "source": [
    "z = np.arange(24)\n",
    "print(z)\n",
    "# if i want to make a 3D array from the given array then \n",
    "z.shape = (6,2,2) #6 * 2 * 2 = 24, or we can use 4,3,2\n",
    "print(z)\n",
    "print(z.ndim)      #ndim refers how many dimentions are in the array, here 3D"
   ]
  },
  {
   "cell_type": "code",
   "execution_count": 55,
   "id": "4b39aaa4-5a34-4af1-891d-0a697dd4f6a8",
   "metadata": {},
   "outputs": [
    {
     "name": "stdout",
     "output_type": "stream",
     "text": [
      "[[[ 0  1  2]\n",
      "  [ 3  4  5]\n",
      "  [ 6  7  8]\n",
      "  [ 9 10 11]\n",
      "  [12 13 14]]\n",
      "\n",
      " [[15 16 17]\n",
      "  [18 19 20]\n",
      "  [21 22 23]\n",
      "  [24 25 26]\n",
      "  [27 28 29]]]\n",
      "3\n"
     ]
    }
   ],
   "source": [
    "z = np.arange(30)\n",
    "z.shape = (2,5,3)\n",
    "print(z)\n",
    "print(z.ndim)"
   ]
  },
  {
   "cell_type": "code",
   "execution_count": 56,
   "id": "12452167-88e0-4dbf-b29f-d6bfdcfd7979",
   "metadata": {},
   "outputs": [
    {
     "name": "stdout",
     "output_type": "stream",
     "text": [
      "[[ 0  1  2  3  4  5  6  7  8  9]\n",
      " [10 11 12 13 14 15 16 17 18 19]\n",
      " [20 21 22 23 24 25 26 27 28 29]]\n",
      "2\n"
     ]
    }
   ],
   "source": [
    "z = np.arange(30)\n",
    "z.shape = (3,10)\n",
    "print(z)\n",
    "print(z.ndim)"
   ]
  },
  {
   "cell_type": "code",
   "execution_count": 57,
   "id": "48f8b488",
   "metadata": {},
   "outputs": [
    {
     "name": "stdout",
     "output_type": "stream",
     "text": [
      "[ 0.  1.  2.  3.  4.  5.  6.  7.  8.  9. 10. 11. 12. 13. 14. 15. 16. 17.\n",
      " 18. 19. 20. 21. 22. 23.]\n"
     ]
    }
   ],
   "source": [
    "d = np.arange(24,dtype='float')   # if we won't mention dtype then it will take dtype = int\n",
    "print(d)                                  # if we want float dtype then we have to mention dtype = float \n"
   ]
  },
  {
   "cell_type": "code",
   "execution_count": 82,
   "id": "0141fc5e",
   "metadata": {},
   "outputs": [
    {
     "name": "stdout",
     "output_type": "stream",
     "text": [
      "size : 9\n",
      "shape : (3, 3)\n",
      "no.of dimentions : 2\n",
      "datatype : int64\n"
     ]
    }
   ],
   "source": [
    "a = np.array([[1,2,3],[4,5,6],[5,8,12]])\n",
    "print(f\"size : {a.size}\")\n",
    "print(f\"shape : {a.shape}\")\n",
    "print(f\"no.of dimentions : {a.ndim}\")\n",
    "print(f\"datatype : {a.dtype}\")"
   ]
  },
  {
   "cell_type": "code",
   "execution_count": 58,
   "id": "db5c5dc6-1242-402b-88e7-9c96f2e34f7c",
   "metadata": {},
   "outputs": [
    {
     "name": "stdout",
     "output_type": "stream",
     "text": [
      "[[ 7  7  6  7  7]\n",
      " [ 7 12  0  1  3]\n",
      " [ 0 14 13  0 13]\n",
      " [13 14 19  9  0]\n",
      " [13 10  1  3 19]\n",
      " [18  9 11  7  9]]\n",
      "(6, 5)\n"
     ]
    }
   ],
   "source": [
    "x = np.random.randint(0,20,(6,5))\n",
    "print(x)\n",
    "print(x.shape)"
   ]
  },
  {
   "cell_type": "code",
   "execution_count": 85,
   "id": "6f4d3486",
   "metadata": {},
   "outputs": [
    {
     "ename": "TypeError",
     "evalue": "'tuple' object is not callable",
     "output_type": "error",
     "traceback": [
      "\u001b[1;31m---------------------------------------------------------------------------\u001b[0m",
      "\u001b[1;31mTypeError\u001b[0m                                 Traceback (most recent call last)",
      "Cell \u001b[1;32mIn[85], line 1\u001b[0m\n\u001b[1;32m----> 1\u001b[0m \u001b[43mx\u001b[49m\u001b[38;5;241;43m.\u001b[39;49m\u001b[43mshape\u001b[49m\u001b[43m(\u001b[49m\u001b[43m)\u001b[49m\n",
      "\u001b[1;31mTypeError\u001b[0m: 'tuple' object is not callable"
     ]
    }
   ],
   "source": [
    "x.shape()"
   ]
  },
  {
   "cell_type": "code",
   "execution_count": null,
   "id": "9ba75bdf",
   "metadata": {},
   "outputs": [
    {
     "data": {
      "text/plain": [
       "(6, 5)"
      ]
     },
     "execution_count": 75,
     "metadata": {},
     "output_type": "execute_result"
    }
   ],
   "source": [
    "x.shape   #shape tool gives a tuple of array dimention \n",
    "          #and can be used to change the dimention of an array"
   ]
  },
  {
   "cell_type": "code",
   "execution_count": null,
   "id": "5f9bf55f",
   "metadata": {},
   "outputs": [
    {
     "data": {
      "text/plain": [
       "array([[ 7,  7,  6],\n",
       "       [ 7,  7,  7],\n",
       "       [12,  0,  1],\n",
       "       [ 3,  0, 14],\n",
       "       [13,  0, 13],\n",
       "       [13, 14, 19],\n",
       "       [ 9,  0, 13],\n",
       "       [10,  1,  3],\n",
       "       [19, 18,  9],\n",
       "       [11,  7,  9]], dtype=int32)"
      ]
     },
     "execution_count": 83,
     "metadata": {},
     "output_type": "execute_result"
    }
   ],
   "source": [
    "x.reshape(10,3)     #reshape tool gives a new shape to an array\n",
    "                    #without changing its data"
   ]
  },
  {
   "cell_type": "code",
   "execution_count": 79,
   "id": "03ec4eb8",
   "metadata": {},
   "outputs": [
    {
     "data": {
      "text/plain": [
       "array([ 7,  7,  6,  7,  7,  7, 12,  0,  1,  3,  0, 14, 13,  0, 13, 13, 14,\n",
       "       19,  9,  0, 13, 10,  1,  3, 19, 18,  9, 11,  7,  9], dtype=int32)"
      ]
     },
     "execution_count": 79,
     "metadata": {},
     "output_type": "execute_result"
    }
   ],
   "source": [
    "x.ravel()"
   ]
  },
  {
   "cell_type": "code",
   "execution_count": 81,
   "id": "6b0e142d",
   "metadata": {},
   "outputs": [
    {
     "data": {
      "text/plain": [
       "array([ 7,  7,  6,  7,  7,  7, 12,  0,  1,  3,  0, 14, 13,  0, 13, 13, 14,\n",
       "       19,  9,  0, 13, 10,  1,  3, 19, 18,  9, 11,  7,  9], dtype=int32)"
      ]
     },
     "execution_count": 81,
     "metadata": {},
     "output_type": "execute_result"
    }
   ],
   "source": [
    "y = x.ravel()\n",
    "y"
   ]
  },
  {
   "cell_type": "code",
   "execution_count": 60,
   "id": "260f00e8",
   "metadata": {},
   "outputs": [
    {
     "name": "stdout",
     "output_type": "stream",
     "text": [
      "[[2 3]\n",
      " [4 3]]\n"
     ]
    }
   ],
   "source": [
    "x1 = np.array([[2,3],[4,3]])\n",
    "print(x1)"
   ]
  },
  {
   "cell_type": "code",
   "execution_count": 61,
   "id": "ca457824",
   "metadata": {},
   "outputs": [
    {
     "name": "stdout",
     "output_type": "stream",
     "text": [
      "[[4 5]\n",
      " [6 7]]\n"
     ]
    }
   ],
   "source": [
    "x2 = np.array([[4,5],[6,7]])\n",
    "print(x2)"
   ]
  },
  {
   "cell_type": "code",
   "execution_count": 62,
   "id": "a966fb5d",
   "metadata": {},
   "outputs": [
    {
     "data": {
      "text/plain": [
       "array([[2, 3],\n",
       "       [4, 3],\n",
       "       [4, 5],\n",
       "       [6, 7]])"
      ]
     },
     "execution_count": 62,
     "metadata": {},
     "output_type": "execute_result"
    }
   ],
   "source": [
    "np.vstack([x1,x2])     #vertical stacking"
   ]
  },
  {
   "cell_type": "code",
   "execution_count": 63,
   "id": "b3bc34f1",
   "metadata": {},
   "outputs": [
    {
     "data": {
      "text/plain": [
       "array([[2, 3, 4, 5],\n",
       "       [4, 3, 6, 7]])"
      ]
     },
     "execution_count": 63,
     "metadata": {},
     "output_type": "execute_result"
    }
   ],
   "source": [
    "np.hstack([x1,x2])     #horizontal stacking"
   ]
  },
  {
   "cell_type": "code",
   "execution_count": 64,
   "id": "02628946",
   "metadata": {},
   "outputs": [
    {
     "data": {
      "text/plain": [
       "array([[2, 3],\n",
       "       [4, 3],\n",
       "       [4, 5],\n",
       "       [6, 7]])"
      ]
     },
     "execution_count": 64,
     "metadata": {},
     "output_type": "execute_result"
    }
   ],
   "source": [
    "np.concatenate([x1,x2],axis=0)     #vertical stacking"
   ]
  },
  {
   "cell_type": "code",
   "execution_count": 65,
   "id": "e0aa1655",
   "metadata": {},
   "outputs": [
    {
     "data": {
      "text/plain": [
       "array([[2, 3, 4, 5],\n",
       "       [4, 3, 6, 7]])"
      ]
     },
     "execution_count": 65,
     "metadata": {},
     "output_type": "execute_result"
    }
   ],
   "source": [
    "np.concatenate([x1,x2],axis=1)      #horizontal stacking"
   ]
  },
  {
   "cell_type": "code",
   "execution_count": 66,
   "id": "ede8485a",
   "metadata": {},
   "outputs": [
    {
     "data": {
      "text/plain": [
       "np.int64(55)"
      ]
     },
     "execution_count": 66,
     "metadata": {},
     "output_type": "execute_result"
    }
   ],
   "source": [
    "a = [10,20]\n",
    "b = [20,5]\n",
    "np.sum([a,b])"
   ]
  },
  {
   "cell_type": "code",
   "execution_count": 67,
   "id": "a2407219",
   "metadata": {},
   "outputs": [
    {
     "name": "stdout",
     "output_type": "stream",
     "text": [
      "addithon:\n",
      "[[ 8 10 12]\n",
      " [14 16 18]]\n"
     ]
    }
   ],
   "source": [
    "arr1 = np.array([[1,2,3],\n",
    "                [4,5,6]])\n",
    "arr2 = np.array([[7,8,9],\n",
    "                 [10,11,12]])\n",
    "#arr3 = np.array([[8,6,9],\n",
    "                 #[10,9,13]])\n",
    "sum_arrays = arr1 + arr2\n",
    "print(f\"addithon:\\n{sum_arrays}\")"
   ]
  },
  {
   "cell_type": "code",
   "execution_count": 68,
   "id": "d0689e83",
   "metadata": {},
   "outputs": [
    {
     "name": "stdout",
     "output_type": "stream",
     "text": [
      "addithon:\n",
      "[[16 16 21]\n",
      " [24 25 31]]\n"
     ]
    }
   ],
   "source": [
    "arr1 = np.array([[1,2,3],\n",
    "                [4,5,6]])\n",
    "arr2 = np.array([[7,8,9],\n",
    "                 [10,11,12]])\n",
    "arr3 = np.array([[8,6,9],\n",
    "                 [10,9,13]])\n",
    "sum_arrays = arr1 + arr2 + arr3\n",
    "print(f\"addithon:\\n{sum_arrays}\")"
   ]
  },
  {
   "cell_type": "code",
   "execution_count": 69,
   "id": "8b5ccad1",
   "metadata": {},
   "outputs": [
    {
     "data": {
      "text/plain": [
       "np.int64(2)"
      ]
     },
     "execution_count": 69,
     "metadata": {},
     "output_type": "execute_result"
    }
   ],
   "source": [
    "np.subtract(10,8)"
   ]
  },
  {
   "cell_type": "code",
   "execution_count": 70,
   "id": "e807b632",
   "metadata": {},
   "outputs": [
    {
     "name": "stdout",
     "output_type": "stream",
     "text": [
      "subtraction:\n",
      "[[ 3 12 21]\n",
      " [30 39 48]]\n"
     ]
    }
   ],
   "source": [
    "arr1 = np.array([[10,20,30],\n",
    "                [40,50,60]])\n",
    "arr2 = np.array([[7,8,9],\n",
    "                 [10,11,12]])\n",
    "#arr3 = np.array([[8,6,9],\n",
    "                 #[10,9,13]])\n",
    "subtract_arrays = arr1 - arr2\n",
    "print(f\"subtraction:\\n{subtract_arrays}\")"
   ]
  },
  {
   "cell_type": "code",
   "execution_count": 71,
   "id": "ee1bd823",
   "metadata": {},
   "outputs": [
    {
     "name": "stdout",
     "output_type": "stream",
     "text": [
      "subtraction:\n",
      "[[-5  6 12]\n",
      " [20 30 35]]\n"
     ]
    }
   ],
   "source": [
    "arr1 = np.array([[10,20,30],\n",
    "                [40,50,60]])\n",
    "arr2 = np.array([[7,8,9],\n",
    "                 [10,11,12]])\n",
    "arr3 = np.array([[8,6,9],\n",
    "                 [10,9,13]])\n",
    "subtract_arrays = arr1 - arr2 - arr3\n",
    "print(f\"subtraction:\\n{subtract_arrays}\")"
   ]
  },
  {
   "cell_type": "code",
   "execution_count": 84,
   "id": "7ab1629b",
   "metadata": {},
   "outputs": [
    {
     "name": "stdout",
     "output_type": "stream",
     "text": [
      "result of a + b with broadcasting : \n",
      " [[ 6  6]\n",
      " [11 12]]\n"
     ]
    }
   ],
   "source": [
    "#broadcasting (using different shapes)\n",
    "a = np.array([[1,2],[6,8]])\n",
    "b = np.array([5,4])\n",
    "\n",
    "# addition from each row of 'a' using broadcasing\n",
    "result = a + b\n",
    "print(f\"result of a + b with broadcasting : \\n {result}\")\n"
   ]
  }
 ],
 "metadata": {
  "kernelspec": {
   "display_name": "Python 3",
   "language": "python",
   "name": "python3"
  },
  "language_info": {
   "codemirror_mode": {
    "name": "ipython",
    "version": 3
   },
   "file_extension": ".py",
   "mimetype": "text/x-python",
   "name": "python",
   "nbconvert_exporter": "python",
   "pygments_lexer": "ipython3",
   "version": "3.12.7"
  }
 },
 "nbformat": 4,
 "nbformat_minor": 5
}
