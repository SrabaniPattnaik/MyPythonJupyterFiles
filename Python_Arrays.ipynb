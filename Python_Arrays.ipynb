{
 "cells": [
  {
   "cell_type": "markdown",
   "id": "bdf3f090",
   "metadata": {},
   "source": [
    "# Type Codes\n",
    "The array module uses type codes to specify the type of elements in the array:\n",
    "\n",
    "- 'b': signed char  (-ve & +ve)       int     1 byte   Can represent both -ve & +ve numbers. Range: -128 to 127.\n",
    "- 'B': unsigned char(+ve)       int     1 byte   Can represent only +ve numbers.    Range: 0 to 255\n",
    "- 'u': Unicode character   char    2 byte   Range  65,536 characters.\n",
    "- 'h': signed short        int     2 byte   Range: -32,768 to 32,767\n",
    "- 'H': unsigned short      int     2 byte   Range: 0 to 65,535\n",
    "- 'i': signed int          int     2 byte   Range: -32,768 to 32,767 (if 2 bytes)\n",
    "- 'I': unsigned int        int     2 byte   Range: 0 to 65,535 (if 2 bytes)\n",
    "- 'l': signed long         int     4 byte   Range: -2,147,483,648 to 2,147,483,647\n",
    "- 'L': unsigned long       int     4 byte   Range: 0 to 4,294,967,295\n",
    "- 'f': float               float   4 byte   Range: Floating point numbers (single precision)\n",
    "- 'd': double              float   8 byte   Range: Floating point numbers (double precision)"
   ]
  },
  {
   "cell_type": "code",
   "execution_count": 41,
   "id": "a3b56160",
   "metadata": {},
   "outputs": [
    {
     "name": "stdout",
     "output_type": "stream",
     "text": [
      "1\n",
      "3\n",
      "4\n",
      "array('i', [1, 10, 3, 4, 5])\n",
      "array('i', [1, 10, 3, 4, 5, 6])\n",
      "array('i', [1, 10, 3, 4, 5, 6, 7, 8, 9])\n",
      "array('i', [1, 3, 4, 5, 6, 7, 8, 9])\n",
      "array('i', [1, 3, 4, 5, 6, 7, 8])\n"
     ]
    }
   ],
   "source": [
    "#Using the array Module\n",
    "#The array module provides a basic array data structure that is more efficient for numerical data compared to lists.\n",
    "\n",
    "#Importing the array Module   \n",
    "#import array as arr\n",
    "#First, you need to import the array module:\n",
    "\n",
    "import array as arr\n",
    "\n",
    "#Creating an Array\n",
    "#You create an array by specifying the type code and the initial values:\n",
    "\n",
    "Eg_array = arr.array('i', [1, 2, 3, 4, 5])\n",
    "\n",
    "#'i': Type code for integers.\n",
    "#[1, 2, 3, 4, 5]: Initial values for the array.\n",
    "\n",
    "#You can access array elements by index:\n",
    "print(Eg_array[0])  # Output: 1\n",
    "print(Eg_array[2])  # Output: 3\n",
    "print(Eg_array[3])  # 4\n",
    "\n",
    "#You can modify elements by index:\n",
    "Eg_array[1] = 10\n",
    "print(Eg_array)  # Output: array('i', [1, 10, 3, 4, 5])\n",
    "\n",
    "#You can add elements to the array using append and extend:\n",
    "Eg_array.append(6)\n",
    "print(Eg_array)  # Output: array('i', [1, 10, 3, 4, 5, 6])\n",
    "\n",
    "Eg_array.extend([7, 8, 9])\n",
    "print(Eg_array)  # Output: array('i', [1, 10, 3, 4, 5, 6, 7, 8, 9])\n",
    "\n",
    "#You can remove elements using remove and pop:\n",
    "Eg_array.remove(10)\n",
    "print(Eg_array)  # Output: array('i', [1, 3, 4, 5, 6, 7, 8, 9])\n",
    "\n",
    "Eg_array.pop()\n",
    "print(Eg_array)  # Output: array('i', [1, 3, 4, 5, 6, 7, 8])"
   ]
  },
  {
   "cell_type": "code",
   "execution_count": 42,
   "id": "2d91bd5d",
   "metadata": {},
   "outputs": [
    {
     "name": "stdout",
     "output_type": "stream",
     "text": [
      "array('u', 'bacde')\n"
     ]
    },
    {
     "name": "stderr",
     "output_type": "stream",
     "text": [
      "C:\\Users\\pattn\\AppData\\Local\\Temp\\ipykernel_17800\\1244726427.py:2: DeprecationWarning: The 'u' type code is deprecated and will be removed in Python 3.16\n",
      "  arr = arr.array('u', ['b', 'a', 'c', 'd', 'e'])\n"
     ]
    }
   ],
   "source": [
    "import array as arr\n",
    "arr = arr.array('u', ['b', 'a', 'c', 'd', 'e'])\n",
    "print(arr)"
   ]
  },
  {
   "cell_type": "code",
   "execution_count": 43,
   "id": "5345f364",
   "metadata": {},
   "outputs": [
    {
     "name": "stdout",
     "output_type": "stream",
     "text": [
      "array('u', '12a345')\n",
      "1\n",
      "a\n",
      "3\n"
     ]
    },
    {
     "name": "stderr",
     "output_type": "stream",
     "text": [
      "C:\\Users\\pattn\\AppData\\Local\\Temp\\ipykernel_17800\\3485269530.py:6: DeprecationWarning: The 'u' type code is deprecated and will be removed in Python 3.16\n",
      "  arr = array.array('u',['1', '2','a', '3', '4', '5'])\n"
     ]
    }
   ],
   "source": [
    "import array\n",
    "\n",
    "#Creating an Array\n",
    "#You create an array by specifying the type code and the initial values:\n",
    "\n",
    "arr = array.array('u',['1', '2','a', '3', '4', '5'])\n",
    "\n",
    "#'i': Type code for integers.\n",
    "#[1, 2, 3, 4, 5]: Initial values for the array.\n",
    "print(arr)\n",
    "#You can access array elements by index:\n",
    "print(arr[0])  # Output: 1\n",
    "print(arr[2])  # Output: 3\n",
    "print(arr[3])  "
   ]
  },
  {
   "cell_type": "code",
   "execution_count": 44,
   "id": "10482db4",
   "metadata": {},
   "outputs": [
    {
     "name": "stdout",
     "output_type": "stream",
     "text": [
      "array('B', [1, 25, 3, 4, 5, 41, 5])\n"
     ]
    }
   ],
   "source": [
    "#Arrays:\n",
    "import array as arr\n",
    "arr = arr.array('B', [1,25,3, 4, 5,41,5])\n",
    "print(arr)"
   ]
  },
  {
   "cell_type": "code",
   "execution_count": 45,
   "id": "5ecfa8a3",
   "metadata": {},
   "outputs": [
    {
     "name": "stdout",
     "output_type": "stream",
     "text": [
      "array('h', [-32746, -125, 3, 4, 5, 41, 5, 32127])\n"
     ]
    }
   ],
   "source": [
    "import array as arr\n",
    "arr = arr.array('h', [-32746,-125,3, 4, 5,41,5,32127])\n",
    "print(arr)"
   ]
  },
  {
   "cell_type": "code",
   "execution_count": 46,
   "id": "df176055",
   "metadata": {},
   "outputs": [
    {
     "name": "stdout",
     "output_type": "stream",
     "text": [
      "array('u', 'Hello')\n"
     ]
    },
    {
     "name": "stderr",
     "output_type": "stream",
     "text": [
      "C:\\Users\\pattn\\AppData\\Local\\Temp\\ipykernel_17800\\3551175917.py:2: DeprecationWarning: The 'u' type code is deprecated and will be removed in Python 3.16\n",
      "  arr = arr.array('u', ['H', 'e','l','l','o'])\n"
     ]
    }
   ],
   "source": [
    "import array as arr\n",
    "arr = arr.array('u', ['H', 'e','l','l','o'])\n",
    "print(arr)"
   ]
  },
  {
   "cell_type": "code",
   "execution_count": 47,
   "id": "e248fe49",
   "metadata": {},
   "outputs": [
    {
     "name": "stdout",
     "output_type": "stream",
     "text": [
      "array('i', [1, 2, 3, 4, 5, 6, 26, 5])\n",
      "array('i', [1, 2, 3, 4, 5, 6, 26, 5, 8])\n"
     ]
    }
   ],
   "source": [
    "#1. append()\n",
    "#Adds an element to the end of the array.\n",
    "import array as arr\n",
    "x = arr.array('i', [1, 2, 3, 4, 5,6,26,5])\n",
    "print(x)\n",
    "x.append(8)\n",
    "print(x)"
   ]
  },
  {
   "cell_type": "code",
   "execution_count": 48,
   "id": "fc969ae9",
   "metadata": {},
   "outputs": [
    {
     "name": "stdout",
     "output_type": "stream",
     "text": [
      "array('i', [1, 2, 3, 4, 5, 6, 26, 5, 8])\n",
      "array('i', [1, 2, 3, 4, 5, 6, 26, 5, 8, 12, 14, 14])\n"
     ]
    }
   ],
   "source": [
    "#2. extend()\n",
    "#Adds elements from an iterable (e.g., list) to the end of the array.\n",
    "print(x)\n",
    "\n",
    "x.extend([12,14,14])\n",
    "print(x)"
   ]
  },
  {
   "cell_type": "code",
   "execution_count": 49,
   "id": "f077abc1",
   "metadata": {},
   "outputs": [
    {
     "name": "stdout",
     "output_type": "stream",
     "text": [
      "array('i', [1, 2, 3, 4, 5, 6, 26, 5, 8, 12, 14, 14])\n",
      "array('i', [1, 2, 3, 4, 24, 5, 6, 26, 5, 8, 12, 14, 14])\n",
      "array('i', [0, 1, 2, 3, 4, 24, 5, 6, 26, 5, 8, 12, 14, 14])\n"
     ]
    }
   ],
   "source": [
    "#3. insert()\n",
    "#Inserts an element at a specified position in the array.\n",
    "print(x)\n",
    "x.insert(4,24)\n",
    "print(x)\n",
    "x.insert(0,0)\n",
    "print(x)"
   ]
  },
  {
   "cell_type": "code",
   "execution_count": 50,
   "id": "6d55edf6",
   "metadata": {},
   "outputs": [
    {
     "name": "stdout",
     "output_type": "stream",
     "text": [
      "array('i', [0, 1, 2, 3, 4, 24, 5, 6, 26, 5, 8, 12, 14, 14])\n",
      "array('i', [0, 1, 2, 3, 4, 24, 5, 6, 26, 5, 8, 12, 14])\n",
      "array('i', [0, 1, 3, 4, 24, 5, 6, 26, 5, 8, 12, 14])\n"
     ]
    }
   ],
   "source": [
    "#4. pop()\n",
    "#Removes and returns the last element, or the element at a specified position.\n",
    "print(x)\n",
    "x.pop()\n",
    "print(x)\n",
    "x.pop(2)\n",
    "print(x)"
   ]
  },
  {
   "cell_type": "code",
   "execution_count": 51,
   "id": "607983aa",
   "metadata": {},
   "outputs": [
    {
     "name": "stdout",
     "output_type": "stream",
     "text": [
      "array('i', [0, 1, 3, 4, 24, 5, 6, 26, 5, 8, 12, 14])\n",
      "array('i', [0, 1, 3, 4, 24, 6, 26, 5, 8, 12, 14])\n",
      "array('i', [0, 1, 3, 5, 4, 24, 6, 26, 5, 8, 12, 14])\n",
      "array('i', [0, 1, 3, 5, 4, 5, 24, 6, 26, 5, 8, 12, 14])\n"
     ]
    }
   ],
   "source": [
    "#5. remove()\n",
    "#Removes the first occurrence of a specified element\n",
    "print(x)\n",
    "x.remove(5)\n",
    "print(x)\n",
    "x.insert(3,5)\n",
    "print(x)\n",
    "x.insert(5,5)\n",
    "print(x)"
   ]
  },
  {
   "cell_type": "code",
   "execution_count": 52,
   "id": "df0298d3",
   "metadata": {},
   "outputs": [
    {
     "name": "stdout",
     "output_type": "stream",
     "text": [
      "array('i', [0, 1, 3, 5, 4, 5, 24, 6, 26, 5, 8, 12, 14])\n",
      "Array after removing second occurrence of 5: array('i', [0, 1, 3, 5, 4, 24, 6, 26, 5, 8, 12, 14])\n"
     ]
    }
   ],
   "source": [
    "#How to find the 2nd occurance:\n",
    "#We can find it by using if condition as follow:\n",
    "import array as arr\n",
    "print(x)\n",
    "def remove_second_occurence(array,value):\n",
    "    count = 0\n",
    "    for elements in range(len(x)):\n",
    "        if array[elements] == value:\n",
    "            count += 1\n",
    "            if count == 2:\n",
    "                array.pop(elements)\n",
    "                break\n",
    "remove_second_occurence(x,5)\n",
    "print(\"Array after removing second occurrence of 5:\", x)"
   ]
  },
  {
   "cell_type": "code",
   "execution_count": 53,
   "id": "f16e190c",
   "metadata": {},
   "outputs": [
    {
     "name": "stdout",
     "output_type": "stream",
     "text": [
      "array('i', [0, 1, 3, 5, 4, 24, 6, 26, 5, 8, 12, 14])\n",
      "3\n"
     ]
    }
   ],
   "source": [
    "#6. index()\n",
    "#Returns the index of the first occurrence of a specified element.\n",
    "\n",
    "print(x)\n",
    "print(x.index(5))"
   ]
  },
  {
   "cell_type": "code",
   "execution_count": 54,
   "id": "64fd7e1b",
   "metadata": {},
   "outputs": [
    {
     "name": "stdout",
     "output_type": "stream",
     "text": [
      "Original array: array('i', [1, 2, 3, 4, 5, 6, 26, 5, 4, 4, 4])\n",
      "4\n"
     ]
    }
   ],
   "source": [
    "#7. count()\n",
    "#Returns the number of occurrences of a specified element.\n",
    "import array as arr\n",
    "\n",
    "# Creating an array of integers\n",
    "arr = arr.array('i', [1, 2, 3, 4, 5, 6, 26, 5,4,4,4])\n",
    "print(\"Original array:\", arr)\n",
    "\n",
    "print(arr.count(4))"
   ]
  },
  {
   "cell_type": "code",
   "execution_count": 57,
   "id": "9f16d3dd",
   "metadata": {},
   "outputs": [
    {
     "name": "stdout",
     "output_type": "stream",
     "text": [
      "Original array: array('i', [0, 1, 3, 5, 4, 24, 6, 26, 5, 8, 12, 14])\n",
      "Reversed Array:  array('i', [14, 12, 8, 5, 26, 6, 24, 4, 5, 3, 1, 0])\n"
     ]
    }
   ],
   "source": [
    "#8. reverse()\n",
    "#Reverses the order of elements in the array.\n",
    "\n",
    "print(\"Original array:\", x)\n",
    "x.reverse()\n",
    "print(\"Reversed Array: \",x)"
   ]
  },
  {
   "cell_type": "code",
   "execution_count": 58,
   "id": "a2595383",
   "metadata": {},
   "outputs": [
    {
     "name": "stdout",
     "output_type": "stream",
     "text": [
      "2\n"
     ]
    }
   ],
   "source": [
    "print(x.count(5))"
   ]
  },
  {
   "cell_type": "code",
   "execution_count": 59,
   "id": "5a0fd45f",
   "metadata": {},
   "outputs": [
    {
     "name": "stdout",
     "output_type": "stream",
     "text": [
      "Original array: array('i', [14, 12, 8, 5, 26, 6, 24, 4, 5, 3, 1, 0])\n",
      "(2058576628336, 12)\n"
     ]
    }
   ],
   "source": [
    "#9. buffer_info()\n",
    "#Returns a tuple containing the memory address and the number of elements in the array.\n",
    "import array as arr\n",
    "\n",
    "print(\"Original array:\", x)\n",
    "\n",
    "print(x.buffer_info())"
   ]
  },
  {
   "cell_type": "code",
   "execution_count": 60,
   "id": "db1e2166",
   "metadata": {},
   "outputs": [
    {
     "name": "stdout",
     "output_type": "stream",
     "text": [
      "Original array: array('i', [14, 12, 8, 5, 26, 6, 24, 4, 5, 3, 1, 0])\n",
      "[14, 12, 8, 5, 26, 6, 24, 4, 5, 3, 1, 0]\n"
     ]
    }
   ],
   "source": [
    "#10. tolist()\n",
    "#Converts the array to a regular list.\n",
    "import array as arr\n",
    "\n",
    "print(\"Original array:\", x)\n",
    "print(x.tolist())"
   ]
  }
 ],
 "metadata": {
  "kernelspec": {
   "display_name": "Python 3",
   "language": "python",
   "name": "python3"
  },
  "language_info": {
   "codemirror_mode": {
    "name": "ipython",
    "version": 3
   },
   "file_extension": ".py",
   "mimetype": "text/x-python",
   "name": "python",
   "nbconvert_exporter": "python",
   "pygments_lexer": "ipython3",
   "version": "3.13.3"
  }
 },
 "nbformat": 4,
 "nbformat_minor": 5
}
