{
 "cells": [
  {
   "cell_type": "markdown",
   "id": "3c644c41",
   "metadata": {},
   "source": [
    "Loop control statements in Python allow you to modify the standard execution flow of loops, such as skipping iterations or terminating the loop prematurely. These statements are break, continue, and pass\n",
    "1. break statement:\n",
    "Purpose: The break statement terminates the loop immediately and transfers control to the statement following the loop.\n",
    "2. continue statement:\n",
    "Purpose: The continue statement skips the current iteration of the loop and proceeds to the next iteration. The remaining statements within the current loop iteration are not executed.\n",
    "3. pass statement:\n",
    "Purpose: The pass statement is a null statement, meaning it does nothing. It is often used as a placeholder when a statement is required syntactically, but you don't want to execute any code.\n",
    "4. else clause in loops:\n",
    "Purpose: You can also include an else clause with a for or while loop. The else block is executed when the loop finishes normally, i.e., when it completes all its iterations without encountering a break statement."
   ]
  },
  {
   "cell_type": "markdown",
   "id": "276f30e9",
   "metadata": {},
   "source": [
    "# BREAK"
   ]
  },
  {
   "cell_type": "code",
   "execution_count": null,
   "id": "5cf7a1b7",
   "metadata": {},
   "outputs": [
    {
     "name": "stdout",
     "output_type": "stream",
     "text": [
      "10\n"
     ]
    }
   ],
   "source": [
    "for i in range(1,100):  #range(10)= (1 to 99)  # 0(1),..............10(9)\n",
    "    if i == 10:\n",
    "      print(i)\n",
    "      break"
   ]
  },
  {
   "cell_type": "code",
   "execution_count": 2,
   "id": "93552f51",
   "metadata": {},
   "outputs": [
    {
     "name": "stdout",
     "output_type": "stream",
     "text": [
      "1\n",
      "2\n",
      "3\n",
      "4\n",
      "5\n",
      "6\n",
      "7\n",
      "8\n",
      "9\n"
     ]
    }
   ],
   "source": [
    "for number in range(1,100):\n",
    "    if number == 10:\n",
    "      break\n",
    "    print(number)"
   ]
  },
  {
   "cell_type": "code",
   "execution_count": 3,
   "id": "f27ea793",
   "metadata": {},
   "outputs": [
    {
     "name": "stdout",
     "output_type": "stream",
     "text": [
      "1\n",
      "2\n",
      "3\n",
      "4\n",
      "5\n",
      "6\n",
      "7\n",
      "8\n",
      "9\n",
      "10\n"
     ]
    }
   ],
   "source": [
    "for number in range(1,100):\n",
    "    print(number)\n",
    "    if number == 10:\n",
    "      break"
   ]
  },
  {
   "cell_type": "code",
   "execution_count": 4,
   "id": "625792b6",
   "metadata": {},
   "outputs": [
    {
     "name": "stdout",
     "output_type": "stream",
     "text": [
      "0,1,2,3,4,6,7,8,9,"
     ]
    }
   ],
   "source": [
    "for i in range(0,10): #0123456789\n",
    "  if i==5:\n",
    "    continue\n",
    "  print(i, end=\",\")"
   ]
  },
  {
   "cell_type": "markdown",
   "id": "e470249c",
   "metadata": {},
   "source": [
    "# CONTINUE "
   ]
  },
  {
   "cell_type": "code",
   "execution_count": 5,
   "id": "999069dd",
   "metadata": {},
   "outputs": [
    {
     "name": "stdout",
     "output_type": "stream",
     "text": [
      "0\t2\t4\t6\t8\t"
     ]
    }
   ],
   "source": [
    "for number in range(10):  #range(0-9)\n",
    "    if number % 2 ==1:   # 0 %2 ==00,2%2==0,4%2==00, 6%2==00, 8%2==00\n",
    "        continue\n",
    "    print(number,end=\"\\t\")"
   ]
  },
  {
   "cell_type": "code",
   "execution_count": 6,
   "id": "2af8ca9c",
   "metadata": {},
   "outputs": [
    {
     "name": "stdout",
     "output_type": "stream",
     "text": [
      "1\n",
      "3\n",
      "5\n",
      "7\n",
      "9\n"
     ]
    }
   ],
   "source": [
    "for number in range(10):\n",
    "    if number % 2 == 0:\n",
    "        continue\n",
    "    print(number)"
   ]
  },
  {
   "cell_type": "code",
   "execution_count": 7,
   "id": "3ee55034",
   "metadata": {},
   "outputs": [
    {
     "name": "stdout",
     "output_type": "stream",
     "text": [
      "0,1,2,3,4,5,"
     ]
    }
   ],
   "source": [
    "for i in range(0,10):  #0123456789\n",
    "  if i>5:\n",
    "    continue\n",
    "    print(i,end=',')\n",
    "  else:\n",
    "    print(i,end=',')"
   ]
  },
  {
   "cell_type": "code",
   "execution_count": 8,
   "id": "75d536ff",
   "metadata": {},
   "outputs": [
    {
     "name": "stdout",
     "output_type": "stream",
     "text": [
      "1 1\n",
      "1 2\n",
      "1 4\n",
      "1 5\n",
      "2 1\n",
      "2 2\n",
      "2 4\n",
      "2 5\n",
      "3 1\n",
      "3 2\n",
      "3 4\n",
      "3 5\n",
      "4 1\n",
      "4 2\n",
      "4 4\n",
      "4 5\n",
      "5 1\n",
      "5 2\n",
      "5 4\n",
      "5 5\n"
     ]
    }
   ],
   "source": [
    "for i in range(1,6):\n",
    "  for j in range(1,6):\n",
    "    if j==3:\n",
    "      continue\n",
    "    print(i,j)"
   ]
  },
  {
   "cell_type": "code",
   "execution_count": 9,
   "id": "e9266848",
   "metadata": {},
   "outputs": [
    {
     "name": "stdout",
     "output_type": "stream",
     "text": [
      "1 1\n",
      "1 2\n",
      "1 3\n",
      "2 1\n",
      "2 2\n",
      "2 3\n",
      "3 1\n",
      "3 2\n",
      "3 3\n",
      "4 1\n",
      "4 2\n",
      "4 3\n",
      "5 1\n",
      "5 2\n",
      "5 3\n"
     ]
    }
   ],
   "source": [
    "for i in range(1,6):\n",
    "  for j in range(1,6):\n",
    "    print(i,j)\n",
    "    if j==3:\n",
    "      break"
   ]
  },
  {
   "cell_type": "code",
   "execution_count": 10,
   "id": "a01efc39",
   "metadata": {},
   "outputs": [
    {
     "name": "stdout",
     "output_type": "stream",
     "text": [
      "1 1\n",
      "1 2\n",
      "1 3\n",
      "1 4\n",
      "1 5\n",
      "2 1\n",
      "2 2\n",
      "2 3\n",
      "2 4\n",
      "2 5\n",
      "4 1\n",
      "4 2\n",
      "4 3\n",
      "4 4\n",
      "4 5\n",
      "5 1\n",
      "5 2\n",
      "5 3\n",
      "5 4\n",
      "5 5\n"
     ]
    }
   ],
   "source": [
    "for i in range(1,6):\n",
    "  for j in range(1,6):\n",
    "    if i==3:\n",
    "      continue\n",
    "    print(i,j)"
   ]
  },
  {
   "cell_type": "markdown",
   "id": "1c2aa1f2",
   "metadata": {},
   "source": [
    "# PASS"
   ]
  },
  {
   "cell_type": "code",
   "execution_count": 12,
   "id": "95a7574e",
   "metadata": {},
   "outputs": [],
   "source": [
    "a = 33 \n",
    "b= 200\n",
    "if b>a:\n",
    "    pass"
   ]
  },
  {
   "cell_type": "markdown",
   "id": "20be3c06",
   "metadata": {},
   "source": [
    "# ELSE CLAUSE IN LOOPS"
   ]
  },
  {
   "cell_type": "code",
   "execution_count": 14,
   "id": "ebb1e017",
   "metadata": {},
   "outputs": [
    {
     "name": "stdout",
     "output_type": "stream",
     "text": [
      "0\n",
      "1\n",
      "2\n",
      "3\n",
      "4\n",
      "Loop finished without break\n"
     ]
    }
   ],
   "source": [
    "for number in range(5):  #\n",
    "    print(number)\n",
    "else:\n",
    "    print(\"Loop finished without break\")"
   ]
  },
  {
   "cell_type": "code",
   "execution_count": null,
   "id": "5d7fce7d",
   "metadata": {},
   "outputs": [],
   "source": []
  }
 ],
 "metadata": {
  "kernelspec": {
   "display_name": "Python 3",
   "language": "python",
   "name": "python3"
  },
  "language_info": {
   "codemirror_mode": {
    "name": "ipython",
    "version": 3
   },
   "file_extension": ".py",
   "mimetype": "text/x-python",
   "name": "python",
   "nbconvert_exporter": "python",
   "pygments_lexer": "ipython3",
   "version": "3.13.3"
  }
 },
 "nbformat": 4,
 "nbformat_minor": 5
}
