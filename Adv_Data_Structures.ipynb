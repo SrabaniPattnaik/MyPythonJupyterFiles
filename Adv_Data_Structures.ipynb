{
 "cells": [
  {
   "cell_type": "markdown",
   "id": "f090c9bf",
   "metadata": {},
   "source": [
    "# Advanced Data Structures/Collections in Python\n",
    "- Python provides several advanced data structures (also called collections) in the collections module.\n",
    "- These are more specialized versions of Python’s built-in types like lists, dictionaries, and tuples.\n",
    "- The advanced data structures include\n",
    "1. deque\n",
    "2. namedtuple\n",
    "3. ChainMap\n",
    "4. Counter\n",
    "5. OrderedDict\n",
    "6. defaultdict."
   ]
  },
  {
   "cell_type": "markdown",
   "id": "15416d92",
   "metadata": {},
   "source": [
    "# 1. Deque (Double-Ended Queue)\n",
    "- Definition: A deque (pronounced \"deck\") is a list-like container that allows - fast appends and pops from both ends.\n",
    "- Use Cases: Deques are useful when you need to add or remove elements from both the front and back of a queue efficiently."
   ]
  },
  {
   "cell_type": "code",
   "execution_count": 1,
   "id": "473516b0",
   "metadata": {},
   "outputs": [
    {
     "name": "stdout",
     "output_type": "stream",
     "text": [
      "deque([2, 1])\n",
      "deque([])\n",
      "deque([1, 2, 3])\n",
      "deque([4, 5, 6, 1, 2, 3])\n"
     ]
    }
   ],
   "source": [
    "from collections import deque\n",
    "\n",
    "# Create a deque\n",
    "d = deque()\n",
    "\n",
    "# Add elements to the deque\n",
    "d.append(1)       # Adds 1 to the right end [1]\n",
    "d.appendleft(2)   # Adds 2 to the left end  [2,1]\n",
    "print(d)          # Output: deque([2, 1])\n",
    "\n",
    "# Remove elements from the deque\n",
    "d.pop()           # Removes from the right end\n",
    "d.popleft()       # Removes from the left end\n",
    "print(d)          # Output: deque([])\n",
    "d.extend([1,2,3])\n",
    "print(d)\n",
    "d.extendleft([6,5,4])\n",
    "print(d)"
   ]
  },
  {
   "cell_type": "code",
   "execution_count": 3,
   "id": "358d31ef",
   "metadata": {},
   "outputs": [
    {
     "name": "stdout",
     "output_type": "stream",
     "text": [
      "Initial deque: deque([1, 2, 3, 4, 5])\n",
      "After appending 6 to the right: deque([1, 2, 3, 4, 5, 6])\n",
      "After appending 0 to the left: deque([0, 1, 2, 3, 4, 5, 6])\n",
      "After popping from the right (6 removed): deque([0, 1, 2, 3, 4, 5])\n",
      "After popping from the left (0 removed): deque([1, 2, 3, 4, 5])\n",
      "After extending deque on the right with [7, 8]: deque([1, 2, 3, 4, 5, 7, 8])\n",
      "After extending deque on the left with [-2, -1]: deque([-1, -2, 1, 2, 3, 4, 5, 7, 8])\n",
      "After rotating right by 2: deque([5, 7, 8, -1, -2, 1, 2, 3, 4])\n",
      "After rotating left by -2: deque([8, -1, -2, 1, 2, 3, 4, 5, 7])\n",
      "After clearing the deque: deque([])\n"
     ]
    }
   ],
   "source": [
    "from collections import deque\n",
    "\n",
    "# Create a deque with an initial list of elements\n",
    "my_deque = deque([1, 2, 3, 4, 5])\n",
    "\n",
    "# Print the initial deque\n",
    "print(\"Initial deque:\", my_deque)  #Initial deque: [1,2,3,4,5]\n",
    "\n",
    "# Append an element to the right (end) of the deque\n",
    "my_deque.append(6)\n",
    "print(\"After appending 6 to the right:\", my_deque)\n",
    "\n",
    "# Append an element to the left (start) of the deque\n",
    "my_deque.appendleft(0)\n",
    "print(\"After appending 0 to the left:\", my_deque)   #[0,1,2,3,4,5,6]\n",
    "\n",
    "# Pop an element from the right (end) of the deque\n",
    "popped_right = my_deque.pop()\n",
    "print(f\"After popping from the right ({popped_right} removed):\", my_deque)\n",
    "\n",
    "# Pop an element from the left (start) of the deque\n",
    "popped_left = my_deque.popleft()\n",
    "print(f\"After popping from the left ({popped_left} removed):\", my_deque)\n",
    "\n",
    "# Extend the deque by adding multiple elements to the right\n",
    "my_deque.extend([7, 8])\n",
    "print(\"After extending deque on the right with [7, 8]:\", my_deque)\n",
    "\n",
    "# Extend the deque by adding multiple elements to the left\n",
    "my_deque.extendleft([-2, -1])   #[-2,-1,1,2,3,4,5,7,8]\n",
    "#[7,8,-2,-1,1,2,3,4,5]\n",
    "#[5,7,8,-2,-1,1,2,3,4]\n",
    "print(\"After extending deque on the left with [-2, -1]:\", my_deque)\n",
    "\n",
    "# Rotate the deque by n steps (positive to the right, negative to the left)\n",
    "my_deque.rotate(3)\n",
    "print(\"After rotating right by 2:\", my_deque)\n",
    "\n",
    "my_deque.rotate(-2)\n",
    "print(\"After rotating left by -2:\", my_deque)\n",
    "\n",
    "# Clear all elements from the deque\n",
    "my_deque.clear()\n",
    "print(\"After clearing the deque:\", my_deque)\n"
   ]
  },
  {
   "cell_type": "code",
   "execution_count": 4,
   "id": "a6b52128",
   "metadata": {},
   "outputs": [
    {
     "name": "stdout",
     "output_type": "stream",
     "text": [
      "List after inserting at the left: [5, 1, 2, 3, 4, 5]\n",
      "List after inserting at the left: [5, 1, 10, 2, 3, 4, 5]\n"
     ]
    }
   ],
   "source": [
    "# Create a list\n",
    "lst = [1, 2, 3, 4, 5]\n",
    "\n",
    "# Insert an element at the left end (index 0)\n",
    "lst.insert(0, 5)  # Adds 0 at the beginning of the list\n",
    "\n",
    "print(\"List after inserting at the left:\", lst)\n",
    "\n",
    "\n",
    "lst.insert(2, 10)  # Adds 10 at the 2nd index of the list\n",
    "\n",
    "print(\"List after inserting at the left:\", lst)"
   ]
  },
  {
   "cell_type": "markdown",
   "id": "922aa29e",
   "metadata": {},
   "source": [
    "- Use a deque when you need fast operations on both ends.\n",
    "- Use a list when you're mostly adding/removing elements from the end or accessing by index."
   ]
  },
  {
   "cell_type": "markdown",
   "id": "ab2b68a3",
   "metadata": {},
   "source": [
    "# 2. namedtuple\n",
    "- Definition: namedtuple is a subclass of tuples that allow you to access fields by name instead of position index.\n",
    "- Use Cases: namedtuple is useful when you want to create simple classes or structures without having to write full-fledged classes."
   ]
  },
  {
   "cell_type": "code",
   "execution_count": 5,
   "id": "5ebdea6b",
   "metadata": {},
   "outputs": [
    {
     "name": "stdout",
     "output_type": "stream",
     "text": [
      "John Doe\n",
      "30\n",
      "New York\n"
     ]
    }
   ],
   "source": [
    "from collections import namedtuple\n",
    "\n",
    "# Define a namedtuple called 'Person'\n",
    "\n",
    "Person= namedtuple('Person', ['name', 'age', 'city'])\n",
    "\n",
    "# Create an instance of Person\n",
    "person1 = Person(name='John Doe', age=30, city='New York')\n",
    "\n",
    "# Access fields by name\n",
    "print(person1.name)  # Output: John Doe\n",
    "print(person1.age)   # Output: 30\n",
    "print(person1.city)  # Output: New York"
   ]
  },
  {
   "cell_type": "code",
   "execution_count": 6,
   "id": "29eae5ce",
   "metadata": {},
   "outputs": [
    {
     "name": "stdout",
     "output_type": "stream",
     "text": [
      "John Doe\n",
      "28\n",
      "New York\n",
      "John Doe\n",
      "28\n",
      "New York\n",
      "{'name': 'John Doe', 'age': 28, 'city': 'New York'}\n",
      "person(name='John Doe', age=30, city='New York')\n",
      "John Doe 28 New York\n"
     ]
    }
   ],
   "source": [
    "from collections import namedtuple\n",
    "\n",
    "# Define the namedtuple\n",
    "Person = namedtuple('person', ['name', 'age', 'city'])\n",
    "\n",
    "# Create a Person object from a list\n",
    "person_data = ['John Doe', 28, 'New York']\n",
    "person = Person._make(person_data)\n",
    "\n",
    "# Access fields by name\n",
    "print(person.name)  # Output: John Doe\n",
    "print(person.age)   # Output: 28\n",
    "print(person.city)  # Output: New York\n",
    "\n",
    "# Access fields by index\n",
    "print(person[0])  # Output: John Doe\n",
    "print(person[1])  # Output: 28\n",
    "print(person[2])  # Output: New York\n",
    "\n",
    "# Convert namedtuple to a dictionary\n",
    "person_dict = person._asdict()\n",
    "print(person_dict)  # Output: {'name': 'John Doe', 'age': 28, 'city': 'New York'}\n",
    "\n",
    "# Replace a value in the namedtuple\n",
    "new_person = person._replace(age=30)\n",
    "print(new_person)  # Output: Person(name='John Doe', age=30, city='New York')\n",
    "\n",
    "# Unpack the namedtuple\n",
    "name, age, city = person\n",
    "print(name, age, city)  # Output: John Doe 28 New York\n"
   ]
  },
  {
   "cell_type": "code",
   "execution_count": 7,
   "id": "948cf5c2",
   "metadata": {},
   "outputs": [
    {
     "name": "stdout",
     "output_type": "stream",
     "text": [
      "Accessing fields by name:\n",
      "Name: John Doe, Age: 28, City: New York\n",
      "Name: Jane Smith, Age: 34, City: Los Angeles\n",
      "Name: Emily Davis, Age: 22, City: Chicago\n",
      "Name: Michael Brown, Age: 45, City: Houston\n",
      "Name: Sarah Johnson, Age: 30, City: San Francisco\n",
      "\n",
      "Accessing fields by index:\n",
      "Name: John Doe, Age: 28, City: New York\n",
      "Name: Jane Smith, Age: 34, City: Los Angeles\n",
      "Name: Emily Davis, Age: 22, City: Chicago\n",
      "Name: Michael Brown, Age: 45, City: Houston\n",
      "Name: Sarah Johnson, Age: 30, City: San Francisco\n"
     ]
    }
   ],
   "source": [
    "#WITH MULTIPLE VALUES:\n",
    "\n",
    "from collections import namedtuple\n",
    "\n",
    "# Define the namedtuple\n",
    "Person = namedtuple('person', ['name', 'age', 'city'])\n",
    "\n",
    "# Define multiple person data entries\n",
    "person_data_list = [\n",
    "    ['John Doe', 28, 'New York'],\n",
    "    ['Jane Smith', 34, 'Los Angeles'],\n",
    "    ['Emily Davis', 22, 'Chicago'],\n",
    "    ['Michael Brown', 45, 'Houston'],\n",
    "    ['Sarah Johnson', 30, 'San Francisco']\n",
    "]\n",
    "\n",
    "# Create a list of Person objects\n",
    "persons = [Person._make(data) for data in person_data_list]\n",
    "\n",
    "# Access fields by name\n",
    "print(\"Accessing fields by name:\")\n",
    "for person in persons:\n",
    "    print(f\"Name: {person.name}, Age: {person.age}, City: {person.city}\")\n",
    "\n",
    "# Access fields by index\n",
    "print(\"\\nAccessing fields by index:\")\n",
    "for person in persons:\n",
    "    print(f\"Name: {person[0]}, Age: {person[1]}, City: {person[2]}\")\n"
   ]
  },
  {
   "cell_type": "markdown",
   "id": "f3d97a47",
   "metadata": {},
   "source": [
    "# 3. ChainMap\n",
    "- Definition: ChainMap is a dictionary-like class that groups multiple dictionaries into a single view.\n",
    "- Use Cases: ChainMap is useful when you want to work with multiple dictionaries as a single unit without merging them."
   ]
  },
  {
   "cell_type": "code",
   "execution_count": 8,
   "id": "1e8cadf5",
   "metadata": {},
   "outputs": [
    {
     "name": "stdout",
     "output_type": "stream",
     "text": [
      "1\n",
      "2\n",
      "4\n",
      "3\n"
     ]
    }
   ],
   "source": [
    "from collections import ChainMap\n",
    "\n",
    "dict1 = {'a': 1, 'b': 2}   #0\n",
    "dict2 = {'b': 3, 'c': 4}   #1\n",
    "\n",
    "# Create a ChainMap:\n",
    "combined = ChainMap(dict1, dict2)  #[a:1,b:2,b:3,c:4]\n",
    "\n",
    "\n",
    "# Access values\n",
    "print(combined['a'])  # Output: 1 (from dict1)\n",
    "print(combined['b'])  # Output: 2 (from dict1, not dict2)\n",
    "print(combined['c'])  # Output: 4 (from dict2)\n",
    "print(combined.maps[1]['b'])"
   ]
  },
  {
   "cell_type": "code",
   "execution_count": 9,
   "id": "d85614e2",
   "metadata": {},
   "outputs": [
    {
     "name": "stdout",
     "output_type": "stream",
     "text": [
      "Combined ChainMap: ChainMap({'a': 1, 'b': 2, 'c': 3}, {'b': 4, 'd': 5, 'e': 6})\n",
      "Value of 'a': 1\n",
      "Value of 'b': 2\n",
      "Value of 'd': 5\n",
      "Updated 'b' in combined ChainMap: ChainMap({'a': 1, 'b': 10, 'c': 3}, {'b': 7, 'd': 5, 'e': 6})\n",
      "Updated dict1: {'a': 1, 'b': 10, 'c': 3}\n",
      "Updated dict2: {'b': 7, 'd': 5, 'e': 6}\n",
      "Added 'f' to combined ChainMap: ChainMap({'a': 1, 'b': 10, 'c': 3, 'f': 7}, {'b': 7, 'd': 5, 'e': 6})\n",
      "Updated dict1: {'a': 1, 'b': 10, 'c': 3, 'f': 7}\n",
      "Updated dict2: {'b': 7, 'd': 5, 'e': 6}\n",
      "All keys: ['b', 'd', 'e', 'a', 'c', 'f']\n",
      "All values: [10, 5, 6, 1, 3, 7]\n",
      "All items: [('b', 10), ('d', 5), ('e', 6), ('a', 1), ('c', 3), ('f', 7)]\n"
     ]
    }
   ],
   "source": [
    "from collections import ChainMap\n",
    "\n",
    "# Create two dictionaries\n",
    "dict1 = {'a': 1, 'b': 2, 'c': 3}\n",
    "dict2 = {'b': 4, 'd': 5, 'e': 6}\n",
    "\n",
    "# Combine the dictionaries using ChainMap\n",
    "combined = ChainMap(dict1, dict2)  #{'a':1,......'e':6}\n",
    "\n",
    "# Display the combined ChainMap\n",
    "print(\"Combined ChainMap:\", combined)\n",
    "\n",
    "# Accessing values\n",
    "print(\"Value of 'a':\", combined['a'])  # Found in dict1\n",
    "print(\"Value of 'b':\", combined['b'])  # Found in dict1 (overrides dict2)\n",
    "print(\"Value of 'd':\", combined['d'])  # Found in dict2\n",
    "\n",
    "# Update a value\n",
    "combined['b'] = 10\n",
    "dict2['b'] = 7\n",
    "print(\"Updated 'b' in combined ChainMap:\", combined)\n",
    "print(\"Updated dict1:\", dict1)  # Only dict1 is updated\n",
    "print(\"Updated dict2:\", dict2)  # dict2 remains unchanged\n",
    "\n",
    "# Add a new key-value pair\n",
    "combined['f'] = 7\n",
    "print(\"Added 'f' to combined ChainMap:\", combined)\n",
    "print(\"Updated dict1:\", dict1)  # Only dict1 is updated\n",
    "print(\"Updated dict2:\", dict2)  # dict2 remains unchanged\n",
    "\n",
    "# Access all keys, values, and items\n",
    "print(\"All keys:\", list(combined.keys()))\n",
    "print(\"All values:\", list(combined.values()))\n",
    "print(\"All items:\", list(combined.items()))"
   ]
  },
  {
   "cell_type": "code",
   "execution_count": 10,
   "id": "91f5d559",
   "metadata": {},
   "outputs": [
    {
     "name": "stdout",
     "output_type": "stream",
     "text": [
      "New Combined ChainMap with dict3: ChainMap({'g': 8, 'h': 9}, {'a': 1, 'b': 10, 'c': 3, 'f': 7}, {'b': 7, 'd': 5, 'e': 6})\n",
      "Underlying maps in the original ChainMap: [{'a': 1, 'b': 10, 'c': 3, 'f': 7}, {'b': 7, 'd': 5, 'e': 6}]\n",
      "Underlying maps in the new ChainMap: [{'g': 8, 'h': 9}, {'a': 1, 'b': 10, 'c': 3, 'f': 7}, {'b': 7, 'd': 5, 'e': 6}]\n"
     ]
    }
   ],
   "source": [
    "# Create a new dictionary\n",
    "dict3 = {'g': 8, 'h': 9}\n",
    "\n",
    "# Create a new ChainMap with dict3 as the first dictionary\n",
    "new_combined = combined.new_child(dict3)\n",
    "\n",
    "# Display the new ChainMap\n",
    "print(\"New Combined ChainMap with dict3:\", new_combined)\n",
    "\n",
    "# Access the underlying maps\n",
    "print(\"Underlying maps in the original ChainMap:\", combined.maps)\n",
    "print(\"Underlying maps in the new ChainMap:\", new_combined.maps)"
   ]
  },
  {
   "cell_type": "markdown",
   "id": "5c98329f",
   "metadata": {},
   "source": [
    "# 4. Counter\n",
    "- Definition: Counter is a subclass of dictionaries designed to count hashable objects.\n",
    "- Use Cases: Counter is useful for counting occurrences of elements in a collection, such as words in a sentence or items in a list."
   ]
  },
  {
   "cell_type": "code",
   "execution_count": 11,
   "id": "869b4c62",
   "metadata": {},
   "outputs": [
    {
     "name": "stdout",
     "output_type": "stream",
     "text": [
      "Counter({'apple': 3, 'banana': 2, 'orange': 1})\n",
      "3\n",
      "2\n"
     ]
    }
   ],
   "source": [
    "from collections import Counter\n",
    "\n",
    "# Count elements in a list\n",
    "fruits = ['apple', 'banana', 'apple', 'orange', 'banana', 'apple']\n",
    "counter = Counter(fruits)\n",
    "\n",
    "# Output: Counter({'apple': 3, 'banana': 2, 'orange': 1})\n",
    "print(counter)\n",
    "\n",
    "# Access counts\n",
    "print(counter['apple'])  # Output: 3\n",
    "print(counter['banana']) # Output: 2\n"
   ]
  },
  {
   "cell_type": "code",
   "execution_count": 12,
   "id": "84a1a2c8",
   "metadata": {},
   "outputs": [
    {
     "name": "stdout",
     "output_type": "stream",
     "text": [
      "Counter({1: 4, 5: 4, 8: 4, 2: 3, 4: 2, 6: 2, 9: 2, 3: 2, 'STRING': 1, 7: 1})\n",
      "2\n",
      "1\n"
     ]
    }
   ],
   "source": [
    "from collections import Counter\n",
    "\n",
    "a=[1, 2, 'STRING', 4 ,1, 2, 5, 6, 8, 9, 6, 2, 5, 1, 8, 9, 4, 3, 7, 5, 8, 8, 3, 1, 5]\n",
    "counter = Counter(a)\n",
    "print(counter)\n",
    "print(counter[4])\n",
    "print(counter['STRING'])"
   ]
  },
  {
   "cell_type": "code",
   "execution_count": 13,
   "id": "cf4e6a2a",
   "metadata": {},
   "outputs": [
    {
     "name": "stdout",
     "output_type": "stream",
     "text": [
      "Counter({'Python': 2, 'is': 2, 'great': 1, 'language': 1, 'and': 1, 'easy': 1, 'to': 1, 'learn': 1, 'also': 1, 'powerful': 1, 'amongst': 1, 'all': 1})\n",
      "Counter({' ': 13, 'a': 9, 'o': 6, 'n': 6, 'l': 6, 't': 5, 's': 5, 'e': 5, 'g': 4, 'y': 3, 'r': 3, 'P': 2, 'h': 2, 'i': 2, 'u': 2, 'd': 1, 'p': 1, 'w': 1, 'f': 1, 'm': 1})\n"
     ]
    }
   ],
   "source": [
    "from collections import Counter\n",
    "\n",
    "# Define a sentence\n",
    "sentence = \"Python is great language and easy to learn also Python is powerful amongst all\"\n",
    "\n",
    "counter=Counter(sentence)\n",
    "# Split the sentence into words\n",
    "words = sentence.split()\n",
    "\n",
    "# Use Counter to count the occurrences of each word\n",
    "word_count = Counter(words)\n",
    "\n",
    "# Print the word count\n",
    "print(word_count)\n",
    "print(counter)\n",
    "\n"
   ]
  },
  {
   "cell_type": "markdown",
   "id": "8d01be50",
   "metadata": {},
   "source": [
    "# 5. OrderedDict\n",
    "- Definition: OrderedDict is a dictionary subclass that remembers the order in which keys were inserted.\n",
    "- Use Cases: OrderedDict is useful when you need a dictionary that maintains order, such as when the order of elements is important.\n"
   ]
  },
  {
   "cell_type": "code",
   "execution_count": 14,
   "id": "6717b5eb",
   "metadata": {},
   "outputs": [
    {
     "name": "stdout",
     "output_type": "stream",
     "text": [
      "OrderedDict({'a': 5, 'b': 7, 'c': 3, 'd': 4, 'e': 'word'})\n",
      "word\n",
      "7\n"
     ]
    }
   ],
   "source": [
    "from collections import OrderedDict\n",
    "\n",
    "# Create an OrderedDict\n",
    "od = OrderedDict()\n",
    "od['a'] = 5\n",
    "od['b'] = 7\n",
    "od['c'] = 3\n",
    "od['d'] = 4\n",
    "od['e']= 'word'\n",
    "\n",
    "# Print the OrderedDict\n",
    "print(od)  # Output: OrderedDict([('a', 5), ('b', 7), ('c', 3)])\n",
    "print(od['e'])   #'word'\n",
    "print(od['b'])"
   ]
  },
  {
   "cell_type": "code",
   "execution_count": 15,
   "id": "26a5453a",
   "metadata": {},
   "outputs": [
    {
     "name": "stdout",
     "output_type": "stream",
     "text": [
      "defaultdict(<class 'int'>, {'a': 5, 'b': 7, 'c': 3, 'd': 4, 'e': 6})\n",
      "6\n",
      "0\n"
     ]
    }
   ],
   "source": [
    "from collections import defaultdict\n",
    "\n",
    "# Create an defaultdict\n",
    "od = defaultdict(int)\n",
    "od['a'] = 5\n",
    "od['b'] = 7\n",
    "od['c'] = 3\n",
    "od['d'] = 4\n",
    "od['e']= 6\n",
    "\n",
    "# Print the OrderedDict\n",
    "print(od)  # Output: OrderedDict([('a', 1), ('b', 2), ('c', 3)])\n",
    "print(od['e'])\n",
    "print(od['f'])"
   ]
  },
  {
   "cell_type": "markdown",
   "id": "6d7279f6",
   "metadata": {},
   "source": [
    "# 6. DefaultDict\n",
    "- Definition: defaultdict is a subclass of dictionaries that provides a default value for missing keys.\n",
    "- Use Cases: defaultdict is useful when you need a dictionary that automatically assigns a default value to a key that doesn't exist.\n",
    "- Definition of defaultdict\n",
    "defaultdict is a subclass of Python's built-in dictionary class (dict).\n",
    "- It overrides one method to provide a default value for keys that are accessed but not present in the dictionary.\n",
    "- This makes defaultdict particularly useful when you need to handle missing keys without raising a KeyError."
   ]
  },
  {
   "cell_type": "code",
   "execution_count": 16,
   "id": "5c05b12f",
   "metadata": {},
   "outputs": [
    {
     "name": "stdout",
     "output_type": "stream",
     "text": [
      "0\n",
      "defaultdict(<class 'int'>, {'python': 1, 'Java': 2, 'SQL': 0})\n",
      "0\n",
      "defaultdict(<class 'int'>, {'python': 1, 'Java': 2, 'SQL': 0, 'Power BI': 0})\n"
     ]
    }
   ],
   "source": [
    "from collections import defaultdict\n",
    "\n",
    "D = defaultdict(int)\n",
    "D['python']=1\n",
    "D['Java']=2\n",
    "print(D['SQL'])\n",
    "print(D)\n",
    "print(D['Power BI'])\n",
    "print(D)\n"
   ]
  },
  {
   "cell_type": "code",
   "execution_count": 17,
   "id": "7bc71915",
   "metadata": {},
   "outputs": [
    {
     "name": "stdout",
     "output_type": "stream",
     "text": [
      "defaultdict(<class 'int'>, {'1': 'Apple', 'banana': 2, 'grapes': 3})\n",
      "3\n",
      "0\n",
      "Apple\n",
      "0\n",
      "defaultdict(<class 'int'>, {'1': 'Apple', 'banana': 2, 'grapes': 3, 'guava': 0, 'Banana': 0})\n"
     ]
    }
   ],
   "source": [
    "from collections import defaultdict\n",
    "\n",
    "# Create a defaultdict with default type int\n",
    "dd = defaultdict(int)\n",
    "\n",
    "# Add values\n",
    "dd['1'] = 'Apple'\n",
    "dd['banana'] += 2\n",
    "dd['grapes'] +=3\n",
    "\n",
    "\n",
    "# Print defaultdict\n",
    "print(dd)  # Output: defaultdict(<class 'int'>, {'apple': 1, 'banana': 2})\n",
    "print(dd['grapes'])\n",
    "print(dd['guava'])\n",
    "print(dd['1'])\n",
    "print(dd['Banana'])\n",
    "print(dd)"
   ]
  },
  {
   "cell_type": "markdown",
   "id": "ac6246c9",
   "metadata": {},
   "source": [
    "# Summary\n",
    "- Deque: Double-ended queue that allows adding/removing elements from both ends.\n",
    "- namedtuple: A tuple-like structure with named fields for better readability.\n",
    "- ChainMap: Combines multiple dictionaries into a single view without merging them.\n",
    "- Counter: A dictionary subclass for counting hashable objects.\n",
    "- OrderedDict: A dictionary subclass that maintains the order of elements.\n",
    "- DefaultDict: A dictionary subclass that provides a default value for missing keys."
   ]
  }
 ],
 "metadata": {
  "kernelspec": {
   "display_name": "Python 3",
   "language": "python",
   "name": "python3"
  },
  "language_info": {
   "codemirror_mode": {
    "name": "ipython",
    "version": 3
   },
   "file_extension": ".py",
   "mimetype": "text/x-python",
   "name": "python",
   "nbconvert_exporter": "python",
   "pygments_lexer": "ipython3",
   "version": "3.13.3"
  }
 },
 "nbformat": 4,
 "nbformat_minor": 5
}
