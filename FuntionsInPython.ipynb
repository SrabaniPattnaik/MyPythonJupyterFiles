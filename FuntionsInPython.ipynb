{
 "cells": [
  {
   "cell_type": "markdown",
   "id": "2c29c3ed",
   "metadata": {},
   "source": [
    "# Python Functions\n",
    "A function is a block of code that performs a specific task whenever it is called. In bigger programs, where we have a large amounts of code, it is advisable to create or use existing functions that make the program flow organized and neat.\n",
    "\n",
    "There are two types of functions:\n",
    "1. Built-in functions\n",
    "2. User-defined functions\n",
    "\n",
    "**Built-in functions:**\n",
    "These functions are defined and pre-coded in python. Some examples of built-in functions are as follows:\n",
    "min(), max(), len(), sum(), type(), range(), dict(), list(), tuple(), set(), print(), etc.\n",
    "\n",
    "**User-defined functions:**\n",
    "we can create functions to perform specific tasks as per our needs. Such functions are called user-defined functions.\n",
    "\n",
    "**Syntax**\n",
    "def function_name(parameters):\n",
    "  Code and Statements\n",
    "\n",
    "**Calling a function:**\n",
    "We call a function by giving the function name, followed by parameters (if any) in the parenthesis.\n"
   ]
  },
  {
   "cell_type": "code",
   "execution_count": 2,
   "id": "b56a81c3",
   "metadata": {},
   "outputs": [
    {
     "name": "stdout",
     "output_type": "stream",
     "text": [
      "Hello World\n"
     ]
    }
   ],
   "source": [
    "def greet():\n",
    "    print(\"Hello World\")\n",
    "greet()"
   ]
  },
  {
   "cell_type": "code",
   "execution_count": 5,
   "id": "adbad005",
   "metadata": {},
   "outputs": [
    {
     "name": "stdout",
     "output_type": "stream",
     "text": [
      "Srabani\n"
     ]
    }
   ],
   "source": [
    "def my_name():\n",
    "    print(\"Srabani\")\n",
    "my_name()"
   ]
  },
  {
   "cell_type": "code",
   "execution_count": 6,
   "id": "03d174a6",
   "metadata": {},
   "outputs": [
    {
     "name": "stdout",
     "output_type": "stream",
     "text": [
      "Good Morning, Coders!\n"
     ]
    }
   ],
   "source": [
    "#Function Parameters and Arguments\n",
    "# Two types of functions:\n",
    "# 1. User defined function   2. Built in Function\n",
    "#Functions can accept parameters, which are variables passed to the function to provide input.\n",
    "\n",
    "def greet(arg):\n",
    "    print(f\"Good Morning, {arg}!\")\n",
    "greet(\"Coders\")"
   ]
  },
  {
   "cell_type": "code",
   "execution_count": 7,
   "id": "0246faff",
   "metadata": {},
   "outputs": [
    {
     "name": "stdout",
     "output_type": "stream",
     "text": [
      "60\n"
     ]
    }
   ],
   "source": [
    "#Return Statement\n",
    "#Functions can return a value using the return statement.\n",
    "\n",
    "def multiply(a, b,c):\n",
    "    return a*b*c\n",
    "\n",
    "result = multiply(3, 5,4)\n",
    "print(result)"
   ]
  },
  {
   "cell_type": "code",
   "execution_count": 8,
   "id": "5078af5a",
   "metadata": {},
   "outputs": [
    {
     "name": "stdout",
     "output_type": "stream",
     "text": [
      "10\n"
     ]
    }
   ],
   "source": [
    "def addition(a,b,c):\n",
    "    return a+b+c\n",
    "result = addition(2,4,4)\n",
    "print(result)"
   ]
  },
  {
   "cell_type": "code",
   "execution_count": 9,
   "id": "5110cc12",
   "metadata": {},
   "outputs": [
    {
     "name": "stdout",
     "output_type": "stream",
     "text": [
      "2\n"
     ]
    }
   ],
   "source": [
    "def sub(a,b):\n",
    "    return a-b\n",
    "result = sub(4,2)\n",
    "print(result)"
   ]
  },
  {
   "cell_type": "code",
   "execution_count": 10,
   "id": "7daf58da",
   "metadata": {},
   "outputs": [
    {
     "name": "stdout",
     "output_type": "stream",
     "text": [
      "2.0\n"
     ]
    }
   ],
   "source": [
    "def div(a,b):\n",
    "    return a/b\n",
    "result = div(4,2)\n",
    "print(result)"
   ]
  }
 ],
 "metadata": {
  "kernelspec": {
   "display_name": "Python 3",
   "language": "python",
   "name": "python3"
  },
  "language_info": {
   "codemirror_mode": {
    "name": "ipython",
    "version": 3
   },
   "file_extension": ".py",
   "mimetype": "text/x-python",
   "name": "python",
   "nbconvert_exporter": "python",
   "pygments_lexer": "ipython3",
   "version": "3.13.3"
  }
 },
 "nbformat": 4,
 "nbformat_minor": 5
}
